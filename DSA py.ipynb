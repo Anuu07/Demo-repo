{
 "cells": [
  {
   "cell_type": "code",
   "execution_count": 3,
   "id": "30ed019b-6285-41ca-a119-0237f0ac2f41",
   "metadata": {},
   "outputs": [
    {
     "name": "stdout",
     "output_type": "stream",
     "text": [
      "Total digits: 6\n"
     ]
    }
   ],
   "source": [
    "n = 587345\n",
    "num = n\n",
    "count = 0\n",
    "while num > 0:\n",
    "    count+=1\n",
    "    num = num // 10\n",
    "print(\"Total digits:\", count)"
   ]
  },
  {
   "cell_type": "code",
   "execution_count": 27,
   "id": "de3f792e-dab9-4a6f-b9ec-75fe9018bd8a",
   "metadata": {},
   "outputs": [
    {
     "name": "stdout",
     "output_type": "stream",
     "text": [
      "4\n"
     ]
    }
   ],
   "source": [
    "from math import log10\n",
    "def countdigits(num):\n",
    "    return int(log10(num)+1)\n",
    "\n",
    "print(countdigits(1234.66))"
   ]
  },
  {
   "cell_type": "code",
   "execution_count": 64,
   "id": "5cee4ca3-3755-4704-9751-03f42ad30ca1",
   "metadata": {},
   "outputs": [
    {
     "name": "stdout",
     "output_type": "stream",
     "text": [
      "True\n"
     ]
    }
   ],
   "source": [
    "n = 121\n",
    "num = n   # You need to assign `num = n` to preserve the original number for reversal\n",
    "result = 0\n",
    "\n",
    "while num > 0:\n",
    "    ld = num % 10\n",
    "    result = (result * 10) + ld\n",
    "    num = num // 10\n",
    "\n",
    "print(n == result)  # This will print True if it's a palindrome, otherwise False\n"
   ]
  },
  {
   "cell_type": "code",
   "execution_count": 69,
   "id": "d4642637-e7fd-4911-9202-82b4cc8b53c5",
   "metadata": {},
   "outputs": [],
   "source": [
    "def is_palindrome(n):\n",
    "    original = n\n",
    "    reverse = 0\n",
    "    while n > 0:\n",
    "        reverse = reverse * 10 + n % 10\n",
    "        n = n // 10\n",
    "    return original == reverse"
   ]
  },
  {
   "cell_type": "code",
   "execution_count": 73,
   "id": "bfd54453-d58b-4f6b-a105-2c3d0f521bbe",
   "metadata": {},
   "outputs": [
    {
     "name": "stdout",
     "output_type": "stream",
     "text": [
      "True\n"
     ]
    }
   ],
   "source": [
    "from math import log10\n",
    "\n",
    "def checkArmstrong(n):\n",
    "    num = n\n",
    "    result = 0\n",
    "    power = int(log10(n)+1)\n",
    "    while num > 0:\n",
    "        result = result + ((num % 10) ** power)\n",
    "        num = num // 10\n",
    "\n",
    "    return n == result\n",
    "\n",
    "n = 153\n",
    "print(checkArmstrong(n))"
   ]
  },
  {
   "cell_type": "code",
   "execution_count": null,
   "id": "4fb62337-e999-40ce-a9a4-df418894de3d",
   "metadata": {},
   "outputs": [],
   "source": []
  }
 ],
 "metadata": {
  "kernelspec": {
   "display_name": "Python 3 (ipykernel)",
   "language": "python",
   "name": "python3"
  },
  "language_info": {
   "codemirror_mode": {
    "name": "ipython",
    "version": 3
   },
   "file_extension": ".py",
   "mimetype": "text/x-python",
   "name": "python",
   "nbconvert_exporter": "python",
   "pygments_lexer": "ipython3",
   "version": "3.13.2"
  }
 },
 "nbformat": 4,
 "nbformat_minor": 5
}
