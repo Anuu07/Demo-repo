{
 "cells": [
  {
   "cell_type": "code",
   "execution_count": null,
   "id": "f0de24b2-c3bb-432c-a84a-4ff0a0e6a65e",
   "metadata": {},
   "outputs": [],
   "source": [
    "from math import *\n",
    "print(sqrt(4))\n",
    "print(ceil(10.1))\n",
    "print(floor(10.1))"
   ]
  },
  {
   "cell_type": "code",
   "execution_count": 3,
   "id": "8c66ba32-8a72-4a2c-9d24-1cb90c3ade32",
   "metadata": {},
   "outputs": [
    {
     "name": "stdout",
     "output_type": "stream",
     "text": [
      "98\n",
      "82\n",
      "52\n",
      "24\n",
      "58\n",
      "41\n",
      "40\n",
      "78\n",
      "38\n",
      "78\n"
     ]
    }
   ],
   "source": [
    "from random import *\n",
    "for i in range(10):\n",
    "    print(randint(1,100))"
   ]
  },
  {
   "cell_type": "code",
   "execution_count": null,
   "id": "9244bc1b-15a1-46dc-93b7-7d106ca47edb",
   "metadata": {},
   "outputs": [],
   "source": []
  }
 ],
 "metadata": {
  "kernelspec": {
   "display_name": "Python 3 (ipykernel)",
   "language": "python",
   "name": "python3"
  },
  "language_info": {
   "codemirror_mode": {
    "name": "ipython",
    "version": 3
   },
   "file_extension": ".py",
   "mimetype": "text/x-python",
   "name": "python",
   "nbconvert_exporter": "python",
   "pygments_lexer": "ipython3",
   "version": "3.13.2"
  }
 },
 "nbformat": 4,
 "nbformat_minor": 5
}
