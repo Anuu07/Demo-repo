{
 "cells": [
  {
   "cell_type": "code",
   "execution_count": 1,
   "id": "5552c236-bb73-426d-960f-d27e899429f2",
   "metadata": {},
   "outputs": [
    {
     "name": "stdout",
     "output_type": "stream",
     "text": [
      "True\n"
     ]
    }
   ],
   "source": [
    "print('ideal786'.isalnum())"
   ]
  },
  {
   "cell_type": "code",
   "execution_count": 2,
   "id": "a752ea50-cc64-4778-94b4-763f98e24c21",
   "metadata": {},
   "outputs": [
    {
     "name": "stdout",
     "output_type": "stream",
     "text": [
      "False\n"
     ]
    }
   ],
   "source": [
    "print('ideal786'.isdigit())"
   ]
  },
  {
   "cell_type": "code",
   "execution_count": 3,
   "id": "230a5ab4-c244-4a29-90f0-89b9a9dcc6b2",
   "metadata": {},
   "outputs": [
    {
     "name": "stdout",
     "output_type": "stream",
     "text": [
      "True\n"
     ]
    }
   ],
   "source": [
    "print('ideal786'.islower())"
   ]
  },
  {
   "cell_type": "code",
   "execution_count": 4,
   "id": "9e3b3a02-503f-45f7-a3df-6daad404d278",
   "metadata": {},
   "outputs": [
    {
     "name": "stdout",
     "output_type": "stream",
     "text": [
      "False\n"
     ]
    }
   ],
   "source": [
    "print('Learning python is Easy'.istitle())"
   ]
  },
  {
   "cell_type": "code",
   "execution_count": 5,
   "id": "04799de8-7b19-4461-b19b-d95ea6991986",
   "metadata": {},
   "outputs": [
    {
     "name": "stdout",
     "output_type": "stream",
     "text": [
      "True\n"
     ]
    }
   ],
   "source": [
    "print('Learning Python Is Easy'.istitle())"
   ]
  },
  {
   "cell_type": "code",
   "execution_count": 7,
   "id": "9b042fed-4538-4c05-9def-f2e6a287badf",
   "metadata": {},
   "outputs": [
    {
     "name": "stdout",
     "output_type": "stream",
     "text": [
      "ideal's salary is 1000000 and his age is 48\n",
      "ideal's salary is 1000000 and his age is 48\n",
      "48's salary is 1000000 and his age is 48\n"
     ]
    }
   ],
   "source": [
    "name='ideal'\n",
    "salary=1000000\n",
    "age=48\n",
    "print(\"{}'s salary is {} and his age is {}\".format(name,salary,age))\n",
    "print(\"{0}'s salary is {1} and his age is {2}\".format(name,salary,age))\n",
    "print(\"{x}'s salary is {y} and his age is {z}\".format(z=age,y=salary,x=age))"
   ]
  },
  {
   "cell_type": "code",
   "execution_count": 8,
   "id": "c8141b0c-8e30-407e-a5b4-74b55bc71d2f",
   "metadata": {},
   "outputs": [
    {
     "name": "stdin",
     "output_type": "stream",
     "text": [
      "Enter Some String: hi\n"
     ]
    },
    {
     "name": "stdout",
     "output_type": "stream",
     "text": [
      "ih\n"
     ]
    }
   ],
   "source": [
    "s=input(\"Enter Some String:\")\n",
    "print(\"\".join(reversed(s)))"
   ]
  },
  {
   "cell_type": "code",
   "execution_count": 9,
   "id": "5f160f6d-c41a-40e6-92d0-4bcf484b5f5f",
   "metadata": {},
   "outputs": [
    {
     "name": "stdin",
     "output_type": "stream",
     "text": [
      "Enter Some String: hi\n"
     ]
    },
    {
     "name": "stdout",
     "output_type": "stream",
     "text": [
      "ih\n"
     ]
    }
   ],
   "source": [
    "s=input(\"Enter Some String:\")\n",
    "print(s[::-1])"
   ]
  },
  {
   "cell_type": "code",
   "execution_count": 11,
   "id": "1ab45c94-2bfd-4027-a9c1-72fa6745a540",
   "metadata": {},
   "outputs": [
    {
     "name": "stdin",
     "output_type": "stream",
     "text": [
      "Enter Some String: hi\n"
     ]
    },
    {
     "name": "stdout",
     "output_type": "stream",
     "text": [
      "ih\n"
     ]
    }
   ],
   "source": [
    "s=input(\"Enter Some String:\")\n",
    "i=len(s)-1\n",
    "target=''\n",
    "while i>=0:\n",
    "    target=target+s[i]\n",
    "    i=i-1\n",
    "print(target)"
   ]
  },
  {
   "cell_type": "code",
   "execution_count": 19,
   "id": "f03bf486-3911-41cf-97da-1dac63cacabc",
   "metadata": {},
   "outputs": [
    {
     "name": "stdin",
     "output_type": "stream",
     "text": [
      "Enter Some String: Learning Python is very easy\n"
     ]
    },
    {
     "name": "stdout",
     "output_type": "stream",
     "text": [
      "['easy', 'very', 'is', 'Python', 'Learning']\n",
      "easy very is Python Learning\n"
     ]
    }
   ],
   "source": [
    "#Q2 prg to reverse order of words,append=last se string ko start karega,\n",
    "s=input(\"Enter Some String:\")\n",
    "l=s.split()\n",
    "l1=[]#blank list\n",
    "i=len(l)-1\n",
    "while i>=0:\n",
    "    l1.append(l[i])\n",
    "    i=i-1\n",
    "output=' '.join(l1)\n",
    "print(l1)\n",
    "print(output)\n"
   ]
  },
  {
   "cell_type": "code",
   "execution_count": 24,
   "id": "377aa1e1-b6d6-4f44-a031-1c790edfb622",
   "metadata": {},
   "outputs": [
    {
     "name": "stdin",
     "output_type": "stream",
     "text": [
      "Enter Some String: Learning Python is very easy\n"
     ]
    },
    {
     "name": "stdout",
     "output_type": "stream",
     "text": [
      "['gninraeL', 'nohtyP', 'si', 'yrev', 'ysae']\n",
      "gninraeL nohtyP si yrev ysae\n"
     ]
    }
   ],
   "source": [
    "s=input(\"Enter Some String:\")\n",
    "l=s.split()\n",
    "l1=[]#blank list\n",
    "i=0\n",
    "while i<len(l):\n",
    "    l1.append(l[i][::-1])\n",
    "    i=i+1\n",
    "output=' '.join(l1)\n",
    "print(l1)\n",
    "print(output)"
   ]
  },
  {
   "cell_type": "code",
   "execution_count": 26,
   "id": "2ef61686-d004-4cbc-9db7-36a33912de48",
   "metadata": {},
   "outputs": [
    {
     "name": "stdin",
     "output_type": "stream",
     "text": [
      "enter first string: ravi\n",
      "enter second string: reja\n"
     ]
    },
    {
     "name": "stdout",
     "output_type": "stream",
     "text": [
      "rraevjia\n"
     ]
    }
   ],
   "source": [
    "s1=input(\"enter first string:\")\n",
    "s2=input(\"enter second string:\")\n",
    "output=''\n",
    "i,j=0,0\n",
    "while i<len(s1) or j<len(s2):\n",
    "    if i<len(s1):\n",
    "        output=output+s1[i]\n",
    "        i+=1\n",
    "    if j<len(s2):\n",
    "        output=output+s2[j]\n",
    "        j+=1\n",
    "print(output)"
   ]
  },
  {
   "cell_type": "code",
   "execution_count": 29,
   "id": "853d6bc1-b9fe-43fa-b6b6-e7717bd0320d",
   "metadata": {},
   "outputs": [
    {
     "name": "stdin",
     "output_type": "stream",
     "text": [
      "enter some string: B4A1D3\n"
     ]
    },
    {
     "name": "stdout",
     "output_type": "stream",
     "text": [
      "BAD\n",
      "413\n"
     ]
    }
   ],
   "source": [
    "s=input(\"enter some string:\")\n",
    "s1=s2=output=''\n",
    "for i in s:\n",
    "    if i.isalpha():\n",
    "        s1=s1+i\n",
    "    else:\n",
    "        s2=s2+i\n",
    "print(s1)\n",
    "print(s2)\n",
    "\n",
    "\n"
   ]
  },
  {
   "cell_type": "code",
   "execution_count": 8,
   "id": "aa7d9a67-3cce-41d9-99a2-107ef83e5640",
   "metadata": {},
   "outputs": [
    {
     "name": "stdin",
     "output_type": "stream",
     "text": [
      "no of rows 3\n"
     ]
    },
    {
     "name": "stdout",
     "output_type": "stream",
     "text": [
      "1 \n",
      "1 2 \n",
      "1 2 3 \n"
     ]
    }
   ],
   "source": [
    "n=int(input(\"no of rows\"))\n",
    "for i in range(1,n+1):\n",
    "    for j in range (1,i+1):\n",
    "        print(j,end =\" \")\n",
    "    print()"
   ]
  },
  {
   "cell_type": "code",
   "execution_count": null,
   "id": "3be3fb30-9ea9-433f-906d-43b6e43457bd",
   "metadata": {},
   "outputs": [],
   "source": []
  }
 ],
 "metadata": {
  "kernelspec": {
   "display_name": "Python 3 (ipykernel)",
   "language": "python",
   "name": "python3"
  },
  "language_info": {
   "codemirror_mode": {
    "name": "ipython",
    "version": 3
   },
   "file_extension": ".py",
   "mimetype": "text/x-python",
   "name": "python",
   "nbconvert_exporter": "python",
   "pygments_lexer": "ipython3",
   "version": "3.13.2"
  }
 },
 "nbformat": 4,
 "nbformat_minor": 5
}
