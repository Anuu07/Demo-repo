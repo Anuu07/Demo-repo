{
 "cells": [
  {
   "cell_type": "code",
   "execution_count": 2,
   "id": "f7109133-04e7-4027-ba6a-f9f5f0c1621c",
   "metadata": {},
   "outputs": [
    {
     "name": "stdin",
     "output_type": "stream",
     "text": [
      "Enter Name: india\n"
     ]
    },
    {
     "name": "stdout",
     "output_type": "stream",
     "text": [
      "Hello India Good Morning\n",
      "How are you today!!!\n"
     ]
    }
   ],
   "source": [
    "name=input(\"Enter Name:\")\n",
    "if name==\"india\":\n",
    "    print(\"Hello India Good Morning\")\n",
    "print(\"How are you today!!!\")    # it is an independent part so it will print always"
   ]
  },
  {
   "cell_type": "code",
   "execution_count": 4,
   "id": "d8962033-a98e-4a3e-97d4-50641cb2ab13",
   "metadata": {},
   "outputs": [
    {
     "name": "stdin",
     "output_type": "stream",
     "text": [
      "Enter no. 4\n"
     ]
    },
    {
     "name": "stdout",
     "output_type": "stream",
     "text": [
      "postive\n"
     ]
    }
   ],
   "source": [
    "Number=int(input(\"Enter no.\"))\n",
    "if Number > 0:\n",
    "    print(\"postive\")"
   ]
  },
  {
   "cell_type": "code",
   "execution_count": 5,
   "id": "6e0f77e2-3e6d-4614-8ef7-eb35396116fa",
   "metadata": {},
   "outputs": [
    {
     "name": "stdin",
     "output_type": "stream",
     "text": [
      "Enter Name: hii\n"
     ]
    },
    {
     "name": "stdout",
     "output_type": "stream",
     "text": [
      "Hello Guest Good Morning\n",
      "How are you today!!!\n"
     ]
    }
   ],
   "source": [
    "name=input(\"Enter Name:\")\n",
    "if name==\"india\":\n",
    "    print(\"Hello India Good Morning\")\n",
    "else:\n",
    "    print(\"Hello Guest Good Morning\")\n",
    "print(\"How are you today!!!\") "
   ]
  },
  {
   "cell_type": "code",
   "execution_count": 10,
   "id": "8577c016-01ad-4b36-8e5b-a84516750d9e",
   "metadata": {},
   "outputs": [
    {
     "name": "stdin",
     "output_type": "stream",
     "text": [
      "Enter Name: Anushree\n"
     ]
    },
    {
     "name": "stdout",
     "output_type": "stream",
     "text": [
      "Hello Anushree Good Morning\n",
      "How are you today!!!\n"
     ]
    }
   ],
   "source": [
    "name=input(\"Enter Name:\")\n",
    "if name==\"india\":\n",
    "    print(\"Hello India Good Morning\")\n",
    "elif name==\"Anushree\":\n",
    "     print(\"Hello Anushree Good Morning\")\n",
    "else:\n",
    "    print(\"Hello Guest Good Morning\")    \n",
    "print(\"How are you today!!!\") "
   ]
  },
  {
   "cell_type": "code",
   "execution_count": 6,
   "id": "69f2996a-fb45-4043-8476-633c09fb6a7c",
   "metadata": {},
   "outputs": [
    {
     "name": "stdin",
     "output_type": "stream",
     "text": [
      "Enter no. -5\n"
     ]
    },
    {
     "name": "stdout",
     "output_type": "stream",
     "text": [
      "Negative\n"
     ]
    }
   ],
   "source": [
    "Number=int(input(\"Enter no.\"))\n",
    "if Number > 0:\n",
    "    print(\"postive\")\n",
    "else:\n",
    "    print(\"Negative\")    "
   ]
  },
  {
   "cell_type": "code",
   "execution_count": 6,
   "id": "21a75868-b316-4e4f-9f6f-3fb0f1460546",
   "metadata": {},
   "outputs": [
    {
     "name": "stdin",
     "output_type": "stream",
     "text": [
      "Enter no. -5\n"
     ]
    },
    {
     "name": "stdout",
     "output_type": "stream",
     "text": [
      "Negative\n"
     ]
    }
   ],
   "source": [
    "Number=int(input(\"Enter no.\"))\n",
    "if Number > 0:\n",
    "    print(\"postive\")\n",
    "elif:\n",
    "    print(\"\")\n",
    "else:\n",
    "    print(\"Negative\")    "
   ]
  },
  {
   "cell_type": "code",
   "execution_count": 1,
   "id": "4d60234f-bba0-4f00-96d6-73e881d96000",
   "metadata": {},
   "outputs": [
    {
     "name": "stdout",
     "output_type": "stream",
     "text": [
      "Hello\n",
      "Hello\n",
      "Hello\n",
      "Hello\n",
      "Hello\n",
      "Hello\n",
      "Hello\n",
      "Hello\n",
      "Hello\n",
      "Hello\n"
     ]
    }
   ],
   "source": [
    "# For loop\n",
    "for x in range(10):\n",
    "    print(\"Hello\")"
   ]
  },
  {
   "cell_type": "code",
   "execution_count": 2,
   "id": "3d8bcabe-4329-43ff-897d-d7538737db67",
   "metadata": {},
   "outputs": [
    {
     "name": "stdout",
     "output_type": "stream",
     "text": [
      "0\n",
      "1\n",
      "2\n",
      "3\n",
      "4\n",
      "5\n",
      "6\n",
      "7\n",
      "8\n",
      "9\n",
      "10\n"
     ]
    }
   ],
   "source": [
    "for x in range(11):\n",
    "    print(x)"
   ]
  },
  {
   "cell_type": "code",
   "execution_count": 3,
   "id": "8b531499-c7dd-4749-a766-ca0f425451a0",
   "metadata": {},
   "outputs": [
    {
     "name": "stdout",
     "output_type": "stream",
     "text": [
      "1\n",
      "3\n",
      "5\n",
      "7\n",
      "9\n",
      "11\n",
      "13\n",
      "15\n",
      "17\n",
      "19\n"
     ]
    }
   ],
   "source": [
    "for x in range(1,21,2):\n",
    "    print(x)"
   ]
  },
  {
   "cell_type": "code",
   "execution_count": 5,
   "id": "d7e1352a-b2f3-4bc6-8526-a23d3110a28a",
   "metadata": {},
   "outputs": [
    {
     "name": "stdout",
     "output_type": "stream",
     "text": [
      "10\n",
      "9\n",
      "8\n",
      "7\n",
      "6\n",
      "5\n",
      "4\n",
      "3\n",
      "2\n",
      "1\n"
     ]
    }
   ],
   "source": [
    "for x in range(10,0,-1):\n",
    "    print(x)"
   ]
  },
  {
   "cell_type": "code",
   "execution_count": 6,
   "id": "59ab8d60-67b0-4668-8384-67c7f5ec43f2",
   "metadata": {},
   "outputs": [
    {
     "name": "stdout",
     "output_type": "stream",
     "text": [
      "I\n",
      "N\n",
      "D\n",
      "I\n",
      "A\n"
     ]
    }
   ],
   "source": [
    "s= \"INDIA\"\n",
    "for x in s:\n",
    "    print(x)"
   ]
  },
  {
   "cell_type": "code",
   "execution_count": 9,
   "id": "3e782a1d-9f40-4208-bbc0-678e333a9fc4",
   "metadata": {},
   "outputs": [
    {
     "name": "stdout",
     "output_type": "stream",
     "text": [
      "0 I\n",
      "1 N\n",
      "2 D\n",
      "3 I\n",
      "4 A\n"
     ]
    }
   ],
   "source": [
    "s= \"INDIA\"\n",
    "i=0\n",
    "for x in s:\n",
    "    print(i,x)\n",
    "    i=i+1 "
   ]
  },
  {
   "cell_type": "code",
   "execution_count": 10,
   "id": "d072d148-c2a4-4558-96f9-5226a6464e98",
   "metadata": {},
   "outputs": [
    {
     "name": "stdin",
     "output_type": "stream",
     "text": [
      "Enter number 5\n"
     ]
    },
    {
     "name": "stdout",
     "output_type": "stream",
     "text": [
      "Sum = 15\n"
     ]
    }
   ],
   "source": [
    "# while loop\n",
    "n= int(input(\"Enter number\"))\n",
    "sum=0\n",
    "i=1\n",
    "while i<=n:\n",
    "    sum=sum+i\n",
    "    i=i+1\n",
    "print(\"Sum =\",sum)    "
   ]
  },
  {
   "cell_type": "code",
   "execution_count": 12,
   "id": "c2b133f5-7074-40fd-a46b-26474d5a84ad",
   "metadata": {},
   "outputs": [
    {
     "name": "stdin",
     "output_type": "stream",
     "text": [
      "Enter Name: Anushree\n",
      "Enter Name: india\n",
      "Enter Name: India\n"
     ]
    },
    {
     "name": "stdout",
     "output_type": "stream",
     "text": [
      "Thanks for conformation\n"
     ]
    }
   ],
   "source": [
    "name=\"\"\n",
    "while name!=\"India\":\n",
    "    name=input(\"Enter Name:\")\n",
    "print(\"Thanks for conformation\")"
   ]
  },
  {
   "cell_type": "code",
   "execution_count": 14,
   "id": "714cbc1f-1580-44a5-8f2c-0ffac4e4b53d",
   "metadata": {},
   "outputs": [
    {
     "name": "stdin",
     "output_type": "stream",
     "text": [
      "Enter Number 125\n"
     ]
    },
    {
     "name": "stdout",
     "output_type": "stream",
     "text": [
      "3\n"
     ]
    }
   ],
   "source": [
    "Number=int(input(\"Enter Number\"))\n",
    "len=0\n",
    "while Number!=0:\n",
    "    Number=Number //10\n",
    "    len = len+1\n",
    "print(len)    "
   ]
  },
  {
   "cell_type": "code",
   "execution_count": 18,
   "id": "15bf3794-8b1d-46be-b8ad-32b97c0a89e1",
   "metadata": {},
   "outputs": [
    {
     "name": "stdin",
     "output_type": "stream",
     "text": [
      "Enter Number 125\n"
     ]
    },
    {
     "name": "stdout",
     "output_type": "stream",
     "text": [
      "5\n",
      "2\n",
      "1\n"
     ]
    }
   ],
   "source": [
    "Number=int(input(\"Enter Number\"))\n",
    "len=0\n",
    "while Number!=0:\n",
    "    Number=Number //10\n",
    "    len = len+1\n",
    "print(len)    \n",
    "while Number!=0:\n",
    "    rev=Number%10\n",
    "    print(rev)  \n",
    "    Number=Number//10"
   ]
  },
  {
   "cell_type": "code",
   "execution_count": 20,
   "id": "2090e726-5603-4f2f-85dc-856330fc01fa",
   "metadata": {},
   "outputs": [
    {
     "name": "stdin",
     "output_type": "stream",
     "text": [
      "Enter Number 125\n"
     ]
    },
    {
     "name": "stdout",
     "output_type": "stream",
     "text": [
      "sum = 8\n"
     ]
    }
   ],
   "source": [
    "n=int(input(\"Enter Number\"))\n",
    "sum=0\n",
    "while n!=0:\n",
    "    t=n%10\n",
    "    sum=sum+t\n",
    "    n=n//10\n",
    "print(\"sum =\",sum)    \n",
    "\n",
    "\n",
    "\n"
   ]
  },
  {
   "cell_type": "code",
   "execution_count": 3,
   "id": "a6ecc806-d48c-41ef-9551-77511aa7b5a3",
   "metadata": {},
   "outputs": [
    {
     "name": "stdin",
     "output_type": "stream",
     "text": [
      "Enter number 5\n"
     ]
    },
    {
     "name": "stdout",
     "output_type": "stream",
     "text": [
      "120\n"
     ]
    }
   ],
   "source": [
    "n=int(input(\"Enter number\"))\n",
    "f=1\n",
    "for i in range(1,n+1):\n",
    "    f=f*i\n",
    "print(f)    \n",
    "\n",
    "\n",
    "\n"
   ]
  },
  {
   "cell_type": "code",
   "execution_count": 6,
   "id": "999ce167-124c-4f7c-85ee-738efff76efe",
   "metadata": {},
   "outputs": [
    {
     "name": "stdin",
     "output_type": "stream",
     "text": [
      "Enter Number : 145\n"
     ]
    },
    {
     "name": "stdout",
     "output_type": "stream",
     "text": [
      "true\n"
     ]
    }
   ],
   "source": [
    "#strongs number\n",
    "n=int(input(\"Enter Number :\"))\n",
    "p=n\n",
    "s=0\n",
    "while p!=0:\n",
    "    t=p%10\n",
    "    f=1\n",
    "    for i in range(1,t+1):\n",
    "        f=f*i\n",
    "    s=s+f\n",
    "    p=p//10\n",
    "if s==n:\n",
    "    print(\"true\")\n",
    "else:\n",
    "    print(\"false\")\n",
    "    \n"
   ]
  },
  {
   "cell_type": "code",
   "execution_count": 8,
   "id": "11af0264-fcd6-41b3-bd86-392d2eebd9fa",
   "metadata": {},
   "outputs": [
    {
     "name": "stdout",
     "output_type": "stream",
     "text": [
      "Enter Year\n"
     ]
    },
    {
     "name": "stdin",
     "output_type": "stream",
     "text": [
      " 2400\n"
     ]
    },
    {
     "name": "stdout",
     "output_type": "stream",
     "text": [
      "LEAP YEAR\n"
     ]
    }
   ],
   "source": [
    "#leap year no.should be div by 4 but not with 100 or div by 400 without using loop\n",
    "print (\"Enter Year\")\n",
    "n=int(input())\n",
    "if(n%4==0 and n%100!=0)or(n%400==0):\n",
    "    print(\"LEAP YEAR\")\n",
    "else:\n",
    "    print(\"NOT LEAP YEAR\")"
   ]
  },
  {
   "cell_type": "code",
   "execution_count": 11,
   "id": "e024c3e8-5015-4e71-80d4-1ae9aef5f4b8",
   "metadata": {},
   "outputs": [
    {
     "name": "stdout",
     "output_type": "stream",
     "text": [
      "Enter Number\n"
     ]
    },
    {
     "name": "stdin",
     "output_type": "stream",
     "text": [
      " 1\n",
      " -5\n",
      " 6\n"
     ]
    },
    {
     "name": "stdout",
     "output_type": "stream",
     "text": [
      "x= 3.0\n",
      "y= 2.0\n"
     ]
    }
   ],
   "source": [
    "import math\n",
    "print(\"Enter Number\")\n",
    "a=int(input())\n",
    "b=int(input())\n",
    "c=int(input())\n",
    "d=b*b-4*a*c \n",
    "if d< 0:\n",
    "    print(\"Root are imaginory\")\n",
    "else :\n",
    "    x=(-b + math.sqrt(d))//2*a\n",
    "    y=(-b - math.sqrt(d))//2*a\n",
    "    print(\"x=\",x)\n",
    "    print(\"y=\",y)\n"
   ]
  },
  {
   "cell_type": "code",
   "execution_count": 14,
   "id": "a0022c2c-1e79-4a54-afa3-adbd51abe9bd",
   "metadata": {},
   "outputs": [
    {
     "name": "stdin",
     "output_type": "stream",
     "text": [
      "Enter no. 66\n"
     ]
    },
    {
     "name": "stdout",
     "output_type": "stream",
     "text": [
      "P\n"
     ]
    }
   ],
   "source": [
    "n=int(input(\"Enter no.\"))\n",
    "if n>0 and n<40:\n",
    "    print(\"U\")\n",
    "elif n>41 and n<50:\n",
    "    print(\"D\")\n",
    "elif n>51 and n<60:\n",
    "    print(\"C\")\n",
    "elif n>61 and n<70:\n",
    "    print(\"P\")\n",
    "else:\n",
    "    print(\"INVALID\")\n"
   ]
  },
  {
   "cell_type": "code",
   "execution_count": 16,
   "id": "f3729c93-87d8-4ae7-945f-6a4fdb70b9d1",
   "metadata": {},
   "outputs": [
    {
     "name": "stdout",
     "output_type": "stream",
     "text": [
      "0\n",
      "1\n",
      "2\n",
      "3\n",
      "4\n",
      "5\n",
      "6\n",
      "processing is enough...plz break\n"
     ]
    }
   ],
   "source": [
    "#break statement\n",
    "for i in range(10):\n",
    "    if i==7:\n",
    "        print(\"processing is enough...plz break\")\n",
    "        break;\n",
    "    print(i)"
   ]
  },
  {
   "cell_type": "code",
   "execution_count": 17,
   "id": "44d9edd7-747c-4bca-bfdb-2715d9acab38",
   "metadata": {},
   "outputs": [
    {
     "name": "stdout",
     "output_type": "stream",
     "text": [
      "10\n",
      "20\n",
      "to place the order insurance is required \n"
     ]
    }
   ],
   "source": [
    "cart=[10,20,600,60,70]\n",
    "for item in cart:\n",
    "    if item >500:\n",
    "        print(\"to place the order insurance is required \")\n",
    "        break;\n",
    "    print(item)"
   ]
  },
  {
   "cell_type": "code",
   "execution_count": 19,
   "id": "e06a3e42-cf6e-4725-a45e-ed16c2cb98b9",
   "metadata": {},
   "outputs": [
    {
     "name": "stdout",
     "output_type": "stream",
     "text": [
      "1\n",
      "3\n",
      "5\n",
      "7\n",
      "9\n"
     ]
    }
   ],
   "source": [
    "for i in range(10):\n",
    "    if i%2==0:\n",
    "        continue\n",
    "    print(i)"
   ]
  },
  {
   "cell_type": "code",
   "execution_count": 21,
   "id": "65b768d0-2f3c-4e0d-bf90-3ccfbd0c1ecc",
   "metadata": {},
   "outputs": [
    {
     "name": "stdout",
     "output_type": "stream",
     "text": [
      "10\n",
      "20\n",
      "we can not proccess this item : 600\n",
      "60\n",
      "70\n"
     ]
    }
   ],
   "source": [
    "cart=[10,20,600,60,70]\n",
    "for item in cart:\n",
    "    if item >500:\n",
    "        print(\"we can not proccess this item :\",item)\n",
    "        continue\n",
    "    print(item)"
   ]
  },
  {
   "cell_type": "code",
   "execution_count": 23,
   "id": "9acced46-cb14-4699-af37-44e7e99ac0d6",
   "metadata": {},
   "outputs": [
    {
     "name": "stdout",
     "output_type": "stream",
     "text": [
      "10\n",
      "20\n",
      "30\n",
      "40\n",
      "50\n",
      "Congrats...all items proccessed successfully\n"
     ]
    }
   ],
   "source": [
    "#loop with else block: if break statement not executed then only else part gets executed\n",
    "cart=[10,20,30,40,50]\n",
    "for item in cart:\n",
    "    if item>500:\n",
    "        print(\"we cannot process this order\")\n",
    "        break\n",
    "    print(item)\n",
    "else:\n",
    "    print(\"Congrats...all items proccessed successfully\")"
   ]
  },
  {
   "cell_type": "code",
   "execution_count": 27,
   "id": "b666bdff-231c-48e6-8fc0-7fde101da6de",
   "metadata": {},
   "outputs": [
    {
     "name": "stdout",
     "output_type": "stream",
     "text": [
      "10\n"
     ]
    }
   ],
   "source": [
    "#del x = deletes x from memoery\n",
    "x=10\n",
    "print(x)\n",
    "del x\n"
   ]
  },
  {
   "cell_type": "code",
   "execution_count": null,
   "id": "c580dd82-3631-4b13-bda4-5db04f88f9d7",
   "metadata": {},
   "outputs": [],
   "source": []
  }
 ],
 "metadata": {
  "kernelspec": {
   "display_name": "Python 3 (ipykernel)",
   "language": "python",
   "name": "python3"
  },
  "language_info": {
   "codemirror_mode": {
    "name": "ipython",
    "version": 3
   },
   "file_extension": ".py",
   "mimetype": "text/x-python",
   "name": "python",
   "nbconvert_exporter": "python",
   "pygments_lexer": "ipython3",
   "version": "3.13.2"
  }
 },
 "nbformat": 4,
 "nbformat_minor": 5
}
