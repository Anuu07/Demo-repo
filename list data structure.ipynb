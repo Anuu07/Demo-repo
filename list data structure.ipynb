{
 "cells": [
  {
   "cell_type": "code",
   "execution_count": 1,
   "id": "a2715d00-20d9-4fed-a91e-662a15dd57eb",
   "metadata": {},
   "outputs": [
    {
     "name": "stdout",
     "output_type": "stream",
     "text": [
      "[10, 20, 30]\n"
     ]
    }
   ],
   "source": [
    "list=[10,20,30]\n",
    "print(list)"
   ]
  },
  {
   "cell_type": "code",
   "execution_count": 2,
   "id": "47a74e1b-563a-4b8c-ac44-5185020c39fc",
   "metadata": {},
   "outputs": [
    {
     "name": "stdin",
     "output_type": "stream",
     "text": [
      "Enter list: [10,20,30]\n"
     ]
    },
    {
     "name": "stdout",
     "output_type": "stream",
     "text": [
      "[10, 20, 30]\n",
      "<class 'list'>\n"
     ]
    }
   ],
   "source": [
    "list=eval(input(\"Enter list:\"))\n",
    "print(list)\n",
    "print(type(list))"
   ]
  },
  {
   "cell_type": "code",
   "execution_count": 1,
   "id": "f3e56131-93dd-42f8-b08d-aac3c10853a7",
   "metadata": {},
   "outputs": [
    {
     "name": "stdout",
     "output_type": "stream",
     "text": [
      "[0, 2, 4, 6, 8]\n",
      "<class 'list'>\n"
     ]
    }
   ],
   "source": [
    "l=list(range(0,10,2))\n",
    "print(l)\n",
    "print(type(l))"
   ]
  },
  {
   "cell_type": "code",
   "execution_count": 2,
   "id": "09362c0b-3b75-4ae7-ad23-166d6463cb0b",
   "metadata": {},
   "outputs": [
    {
     "name": "stdout",
     "output_type": "stream",
     "text": [
      "['i', 'n', 'd', 'i', 'a']\n"
     ]
    }
   ],
   "source": [
    "s=\"india\"\n",
    "l=list(s)\n",
    "print(l)"
   ]
  },
  {
   "cell_type": "code",
   "execution_count": 3,
   "id": "5d15a429-ad15-419f-99c5-a99df522149c",
   "metadata": {},
   "outputs": [
    {
     "name": "stdout",
     "output_type": "stream",
     "text": [
      "['Learning', 'python', 'is', 'very', 'easy!!!']\n",
      "<class 'list'>\n"
     ]
    }
   ],
   "source": [
    "s=\"Learning python is very easy!!!\"\n",
    "l=s.split()\n",
    "print(l)\n",
    "print(type(l))"
   ]
  },
  {
   "cell_type": "code",
   "execution_count": 10,
   "id": "3b36a0e2-1056-44ca-a4c2-68357b8e63c3",
   "metadata": {},
   "outputs": [
    {
     "name": "stdout",
     "output_type": "stream",
     "text": [
      "30\n",
      "40\n"
     ]
    }
   ],
   "source": [
    "l=[10,20,[30,40]]\n",
    "print(l[2][0])\n",
    "print(l[2][1])"
   ]
  },
  {
   "cell_type": "code",
   "execution_count": 14,
   "id": "199530fb-cc5b-4071-9f9b-26674270427b",
   "metadata": {},
   "outputs": [
    {
     "name": "stdout",
     "output_type": "stream",
     "text": [
      "[3, 5, 7]\n",
      "[5]\n",
      "[4, 5, 6, 7]\n",
      "[9, 7, 5]\n"
     ]
    }
   ],
   "source": [
    "#slice operator\n",
    "n=[1,2,3,4,5,6,7,8,9,10]\n",
    "print(n[2:7:2])\n",
    "print(n[4::8])\n",
    "print(n[3:7])\n",
    "print(n[8:2:-2])"
   ]
  },
  {
   "cell_type": "code",
   "execution_count": 13,
   "id": "802f833d-fa9c-427f-8191-8c049c9ef1bc",
   "metadata": {},
   "outputs": [
    {
     "name": "stdout",
     "output_type": "stream",
     "text": [
      "[10, 20, 30, 40]\n",
      "[10, 777, 30, 40]\n"
     ]
    }
   ],
   "source": [
    "n=[10,20,30,40]\n",
    "print(n)\n",
    "n[1]=777\n",
    "print(n)"
   ]
  },
  {
   "cell_type": "code",
   "execution_count": 15,
   "id": "4f368e32-4937-4e57-a5cc-6f2cf89ea00f",
   "metadata": {},
   "outputs": [
    {
     "name": "stdout",
     "output_type": "stream",
     "text": [
      "0\n",
      "1\n",
      "2\n",
      "3\n",
      "4\n",
      "5\n",
      "6\n",
      "7\n",
      "8\n",
      "9\n",
      "10\n"
     ]
    }
   ],
   "source": [
    "n=[0,1,2,3,4,5,6,7,8,9,10]\n",
    "i=0\n",
    "while i<len(n):\n",
    "    print(n[i])\n",
    "    i=i+1"
   ]
  },
  {
   "cell_type": "code",
   "execution_count": 17,
   "id": "b20b19c0-dfa9-4016-b340-1e78fcec9b29",
   "metadata": {},
   "outputs": [
    {
     "name": "stdout",
     "output_type": "stream",
     "text": [
      "0\n",
      "1\n",
      "2\n",
      "3\n",
      "4\n",
      "5\n",
      "6\n",
      "7\n",
      "8\n",
      "9\n",
      "10\n"
     ]
    }
   ],
   "source": [
    "n=[0,1,2,3,4,5,6,7,8,9,10]\n",
    "for n1 in n:\n",
    "    \n",
    "    print(n1)"
   ]
  },
  {
   "cell_type": "code",
   "execution_count": 18,
   "id": "2c89977d-d3b9-46e3-8494-ec830e7297ea",
   "metadata": {},
   "outputs": [
    {
     "name": "stdout",
     "output_type": "stream",
     "text": [
      "0\n",
      "2\n",
      "4\n",
      "6\n",
      "8\n",
      "10\n"
     ]
    }
   ],
   "source": [
    "n=[0,1,2,3,4,5,6,7,8,9,10]\n",
    "for n1 in n:\n",
    "    if n1%2==0:\n",
    "        print(n1)"
   ]
  },
  {
   "cell_type": "code",
   "execution_count": 20,
   "id": "c89ddae2-a9db-4bd5-b829-d81441fbd396",
   "metadata": {},
   "outputs": [
    {
     "name": "stdout",
     "output_type": "stream",
     "text": [
      "A is available at positive index: 0 and at negative index: -3\n",
      "B is available at positive index: 1 and at negative index: -2\n",
      "C is available at positive index: 2 and at negative index: -1\n"
     ]
    }
   ],
   "source": [
    "l=[\"A\",\"B\",\"C\"]\n",
    "x=len(l)\n",
    "for i in range(x):\n",
    "    print(l[i],\"is available at positive index:\",i,\"and at negative index:\",i-x)"
   ]
  },
  {
   "cell_type": "code",
   "execution_count": 21,
   "id": "9c342561-c019-4e05-9092-45c4da982a65",
   "metadata": {},
   "outputs": [
    {
     "name": "stdout",
     "output_type": "stream",
     "text": [
      "1\n",
      "4\n",
      "2\n",
      "0\n"
     ]
    }
   ],
   "source": [
    "n=[1,2,2,2,2,3,3]\n",
    "print(n.count(1))\n",
    "print(n.count(2))\n",
    "print(n.count(3))\n",
    "print(n.count(4))"
   ]
  },
  {
   "cell_type": "code",
   "execution_count": 23,
   "id": "5cb4d063-dcb9-4a60-93b7-e4e4a9562a59",
   "metadata": {},
   "outputs": [
    {
     "name": "stdout",
     "output_type": "stream",
     "text": [
      "0\n",
      "1\n",
      "5\n"
     ]
    }
   ],
   "source": [
    "n=[1,2,2,2,2,3,3]\n",
    "print(n.index(1))\n",
    "print(n.index(2))\n",
    "print(n.index(3))\n"
   ]
  },
  {
   "cell_type": "code",
   "execution_count": 27,
   "id": "3cad4786-c170-4e7b-a4e1-4082e60b6cb8",
   "metadata": {},
   "outputs": [
    {
     "name": "stdout",
     "output_type": "stream",
     "text": [
      "['1', '2', '3']\n"
     ]
    }
   ],
   "source": [
    "list=[]\n",
    "list.append(\"1\")#last mein add karta hai append\n",
    "list.append(\"2\")\n",
    "list.append(\"3\")\n",
    "print(list)"
   ]
  },
  {
   "cell_type": "code",
   "execution_count": 32,
   "id": "8a87a514-827b-4dc0-8289-8b82008ac55a",
   "metadata": {},
   "outputs": [
    {
     "name": "stdout",
     "output_type": "stream",
     "text": [
      "[0, 10, 20, 30, 40, 50, 60, 70, 80, 90, 100]\n"
     ]
    }
   ],
   "source": [
    "list=[]\n",
    "for i in range(101):\n",
    "    if i%10==0:\n",
    "        list.append(i)\n",
    "print(list)"
   ]
  },
  {
   "cell_type": "code",
   "execution_count": 29,
   "id": "6f009fe8-c42f-4c3b-b08d-f0fc4ba81a8a",
   "metadata": {},
   "outputs": [
    {
     "name": "stdout",
     "output_type": "stream",
     "text": [
      "[1, 888, 2, 3, 4, 5]\n"
     ]
    }
   ],
   "source": [
    "n=[1,2,3,4,5]\n",
    "n.insert(1,888)\n",
    "print(n)"
   ]
  },
  {
   "cell_type": "code",
   "execution_count": 31,
   "id": "6f65fc54-bbe4-403b-becc-0b288b15e4cf",
   "metadata": {},
   "outputs": [
    {
     "name": "stdout",
     "output_type": "stream",
     "text": [
      "[1, 2, 3, 4, 5, 888]\n"
     ]
    }
   ],
   "source": [
    "n=[1,2,3,4,5]\n",
    "n.insert(10,888)\n",
    "print(n)"
   ]
  },
  {
   "cell_type": "code",
   "execution_count": 33,
   "id": "36ce47d9-ffa8-45ee-912b-8437350fd50a",
   "metadata": {},
   "outputs": [
    {
     "name": "stdout",
     "output_type": "stream",
     "text": [
      "['Dosa', 'Uttapam', 'idli', 'RC', 'KF', 'FO']\n"
     ]
    }
   ],
   "source": [
    "order1=[\"Dosa\",\"Uttapam\",\"idli\"]\n",
    "order2=[\"RC\",\"KF\",\"FO\"]\n",
    "order1.extend(order2)\n",
    "print(order1)"
   ]
  },
  {
   "cell_type": "code",
   "execution_count": 34,
   "id": "768ab670-3ef2-4fe6-8d20-aba0d738a98d",
   "metadata": {},
   "outputs": [
    {
     "name": "stdout",
     "output_type": "stream",
     "text": [
      "['Dosa', 'Uttapam', 'idli', 'T', 'e', 'a']\n"
     ]
    }
   ],
   "source": [
    "order1=[\"Dosa\",\"Uttapam\",\"idli\"]\n",
    "order1.extend(\"Tea\")\n",
    "print(order1)"
   ]
  },
  {
   "cell_type": "code",
   "execution_count": 35,
   "id": "3814e94b-145d-4bff-b19f-ab41c7f20553",
   "metadata": {},
   "outputs": [
    {
     "name": "stdout",
     "output_type": "stream",
     "text": [
      "[20, 10, 30]\n"
     ]
    }
   ],
   "source": [
    "n=[10,20,10,30]\n",
    "n.remove(10)\n",
    "print(n)"
   ]
  },
  {
   "cell_type": "code",
   "execution_count": 39,
   "id": "49b181cb-6ee1-43d4-b97c-512e850c5844",
   "metadata": {},
   "outputs": [
    {
     "name": "stdout",
     "output_type": "stream",
     "text": [
      "40\n",
      "30\n",
      "[10, 20]\n"
     ]
    }
   ],
   "source": [
    "n=[10,20,30,40]\n",
    "print(n.pop())\n",
    "print(n.pop())\n",
    "print(n)"
   ]
  },
  {
   "cell_type": "code",
   "execution_count": 40,
   "id": "7441c2c4-25bd-492f-aa91-808d37c020fc",
   "metadata": {},
   "outputs": [
    {
     "name": "stdout",
     "output_type": "stream",
     "text": [
      "[40, 30, 20, 10]\n"
     ]
    }
   ],
   "source": [
    "n=[10,20,30,40]\n",
    "n.reverse()\n",
    "print(n)"
   ]
  },
  {
   "cell_type": "code",
   "execution_count": 43,
   "id": "72bbaf9e-e696-4a52-b85a-727beee25487",
   "metadata": {},
   "outputs": [
    {
     "name": "stdout",
     "output_type": "stream",
     "text": [
      "[40, 30, 20, 10]\n"
     ]
    }
   ],
   "source": [
    "n=[10,20,30,40]# reverse print karvana without using reverse function\n",
    "n1=[]\n",
    "i=len(n)-1\n",
    "while i>=0:\n",
    "    n1.append(n[i])\n",
    "    i=i-1\n",
    "print(n1)"
   ]
  },
  {
   "cell_type": "code",
   "execution_count": 47,
   "id": "cac2df76-0fec-47ba-b174-1935a9078f29",
   "metadata": {},
   "outputs": [
    {
     "ename": "IndexError",
     "evalue": "list index out of range",
     "output_type": "error",
     "traceback": [
      "\u001b[31m---------------------------------------------------------------------------\u001b[39m",
      "\u001b[31mIndexError\u001b[39m                                Traceback (most recent call last)",
      "\u001b[36mCell\u001b[39m\u001b[36m \u001b[39m\u001b[32mIn[47]\u001b[39m\u001b[32m, line 4\u001b[39m\n\u001b[32m      2\u001b[39m i=\u001b[38;5;28mlen\u001b[39m(n)-\u001b[32m1\u001b[39m\n\u001b[32m      3\u001b[39m \u001b[38;5;28;01mfor\u001b[39;00m i \u001b[38;5;129;01min\u001b[39;00m n:\n\u001b[32m----> \u001b[39m\u001b[32m4\u001b[39m     \u001b[38;5;28mprint\u001b[39m(\u001b[43mn\u001b[49m\u001b[43m[\u001b[49m\u001b[43mi\u001b[49m\u001b[43m]\u001b[49m)\n\u001b[32m      5\u001b[39m     i=i+\u001b[32m1\u001b[39m\n\u001b[32m      6\u001b[39m \u001b[38;5;28mprint\u001b[39m(n)\n",
      "\u001b[31mIndexError\u001b[39m: list index out of range"
     ]
    }
   ],
   "source": [
    "n=[10,20,30,40]# reverse print karvana without using reverse function\n",
    "i=len(n)-1\n",
    "for i in n:\n",
    "    print(n[i])\n",
    "    i=i+1\n",
    "print(n)\n",
    "    "
   ]
  },
  {
   "cell_type": "code",
   "execution_count": 55,
   "id": "df604fa0-4fb0-4ad6-a998-9db7ea47340c",
   "metadata": {},
   "outputs": [
    {
     "name": "stdout",
     "output_type": "stream",
     "text": [
      "['Dog', 'Apple', 'Tiger']\n",
      "['Dog', 'Apple', 'Tiger']\n"
     ]
    }
   ],
   "source": [
    "s=[\"Dog\",\"Apple\",\"Tiger\"]\n",
    "n.sort()\n",
    "print(s)\n",
    "n.sort(reverse=True)\n",
    "print(s)"
   ]
  },
  {
   "cell_type": "code",
   "execution_count": 56,
   "id": "067df133-1283-4885-9236-97098e841faa",
   "metadata": {},
   "outputs": [
    {
     "name": "stdout",
     "output_type": "stream",
     "text": [
      "1880419969792\n",
      "1880419969792\n",
      "[10, 33, 30, 40]\n"
     ]
    }
   ],
   "source": [
    "x=[10,20,30,40]\n",
    "y=x\n",
    "print(id(x))\n",
    "print(id(y))\n",
    "y[1]=33\n",
    "print(x)"
   ]
  },
  {
   "cell_type": "code",
   "execution_count": 57,
   "id": "e7dad191-132c-4c34-a5e1-6a44028e3999",
   "metadata": {},
   "outputs": [
    {
     "name": "stdout",
     "output_type": "stream",
     "text": [
      "1880420287104\n",
      "1880419446272\n",
      "[10, 20, 30, 40]\n"
     ]
    }
   ],
   "source": [
    "x=[10,20,30,40]\n",
    "y=x[:]# to change id \n",
    "print(id(x))\n",
    "print(id(y))\n",
    "y[1]=33\n",
    "print(x)"
   ]
  },
  {
   "cell_type": "code",
   "execution_count": 58,
   "id": "99256690-d82f-4ec3-835e-4520181d9a8f",
   "metadata": {},
   "outputs": [
    {
     "name": "stdout",
     "output_type": "stream",
     "text": [
      "[10, 20, 30, 40]\n",
      "[10, 33, 30, 40]\n"
     ]
    }
   ],
   "source": [
    "x=[10,20,30,40]\n",
    "y=x.copy()\n",
    "y[1]=33\n",
    "print(x)\n",
    "print(y)"
   ]
  },
  {
   "cell_type": "code",
   "execution_count": 59,
   "id": "a382a1a4-b344-4ee7-8835-7916a6037e70",
   "metadata": {},
   "outputs": [
    {
     "name": "stdout",
     "output_type": "stream",
     "text": [
      "[10, 20, 30, 40, 50, 60]\n"
     ]
    }
   ],
   "source": [
    "a=[10,20,30]\n",
    "b=[40,50,60]\n",
    "c=a+b\n",
    "print(c)"
   ]
  },
  {
   "cell_type": "code",
   "execution_count": 61,
   "id": "810c00a7-23fb-409e-b5ab-4d26e9de6f62",
   "metadata": {},
   "outputs": [
    {
     "name": "stdout",
     "output_type": "stream",
     "text": [
      "[10, 20, 30, 10, 20, 30, 10, 20, 30]\n"
     ]
    }
   ],
   "source": [
    "a=[10,20,30]\n",
    "b=[40,50,60]\n",
    "c=a*3\n",
    "print(c)"
   ]
  },
  {
   "cell_type": "code",
   "execution_count": null,
   "id": "96f94fae-32d1-4105-a582-6cbfc3284ea4",
   "metadata": {},
   "outputs": [],
   "source": []
  }
 ],
 "metadata": {
  "kernelspec": {
   "display_name": "Python 3 (ipykernel)",
   "language": "python",
   "name": "python3"
  },
  "language_info": {
   "codemirror_mode": {
    "name": "ipython",
    "version": 3
   },
   "file_extension": ".py",
   "mimetype": "text/x-python",
   "name": "python",
   "nbconvert_exporter": "python",
   "pygments_lexer": "ipython3",
   "version": "3.13.2"
  }
 },
 "nbformat": 4,
 "nbformat_minor": 5
}
