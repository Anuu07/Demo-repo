{
 "cells": [
  {
   "cell_type": "code",
   "execution_count": 8,
   "id": "b617eca0-9b9c-41f2-be1f-8f35532bf063",
   "metadata": {},
   "outputs": [
    {
     "name": "stdout",
     "output_type": "stream",
     "text": [
      "('A', 'B')\n",
      "('A', 'C')\n",
      "('B', 'C')\n"
     ]
    }
   ],
   "source": [
    "#combinations(iterable, r)\n",
    "#iterable = The input data (list, string, etc.)\n",
    "#r = The length of each combination tuple\n",
    "from itertools import combinations\n",
    "items=['A','B','C']\n",
    "result=combinations(items,2)\n",
    "\n",
    "for pair in result:\n",
    "    print(pair)"
   ]
  },
  {
   "cell_type": "code",
   "execution_count": 13,
   "id": "82cf96d7-c142-4e84-bc5f-46eefa86f064",
   "metadata": {},
   "outputs": [
    {
     "name": "stdout",
     "output_type": "stream",
     "text": [
      "[('A', 'B'), ('A', 'C'), ('B', 'C')]\n"
     ]
    }
   ],
   "source": [
    "result=list(combinations(['A','B','C'],2))\n",
    "print(result)"
   ]
  },
  {
   "cell_type": "code",
   "execution_count": 18,
   "id": "bc41924d-6cf7-4f76-9374-3956c704c510",
   "metadata": {},
   "outputs": [
    {
     "name": "stdout",
     "output_type": "stream",
     "text": [
      "AB\n",
      "AC\n",
      "AD\n",
      "BC\n",
      "BD\n",
      "CD\n"
     ]
    }
   ],
   "source": [
    "for combo in combinations(\"ABCD\",2):\n",
    "    print(\"\".join(combo))"
   ]
  },
  {
   "cell_type": "code",
   "execution_count": 19,
   "id": "38349af1-84be-4427-935a-d276d2616837",
   "metadata": {},
   "outputs": [
    {
     "name": "stdout",
     "output_type": "stream",
     "text": [
      "(1, 2)\n",
      "(1, 3)\n",
      "(1, 4)\n",
      "(2, 3)\n",
      "(2, 4)\n",
      "(3, 4)\n"
     ]
    }
   ],
   "source": [
    "nums=[1,2,3,4]\n",
    "for combo in combinations(nums,2):\n",
    "    print(combo)"
   ]
  },
  {
   "cell_type": "code",
   "execution_count": 24,
   "id": "20ee2aa8-8be3-46da-b9bc-552779c54ae9",
   "metadata": {},
   "outputs": [
    {
     "name": "stdout",
     "output_type": "stream",
     "text": [
      "Found: (1, 9)\n",
      "Found: (3, 7)\n"
     ]
    }
   ],
   "source": [
    "#sum of two elements = 10\n",
    "nums = [1,3,7,5,9]\n",
    "for combo in combinations(nums,2):\n",
    "    if sum(combo) == 10:\n",
    "        print(\"Found:\", combo)"
   ]
  },
  {
   "cell_type": "code",
   "execution_count": 45,
   "id": "8620619a-8c2e-498e-8865-d0588e131cbc",
   "metadata": {},
   "outputs": [
    {
     "name": "stdout",
     "output_type": "stream",
     "text": [
      "C(5, 2) = 10\n"
     ]
    }
   ],
   "source": [
    "import math\n",
    "n=5\n",
    "r=2\n",
    "result=math.comb(5,2)\n",
    "print(f\"C({n}, {r}) = {result}\")"
   ]
  },
  {
   "cell_type": "code",
   "execution_count": 46,
   "id": "7f3d496f-64d0-4511-b3a1-abf0dcbe88bb",
   "metadata": {},
   "outputs": [
    {
     "name": "stdout",
     "output_type": "stream",
     "text": [
      "(1, 2, 3)\n",
      "(1, 2, 4)\n",
      "(1, 2, 5)\n",
      "(1, 3, 4)\n",
      "(1, 3, 5)\n",
      "(1, 4, 5)\n",
      "(2, 3, 4)\n",
      "(2, 3, 5)\n",
      "(2, 4, 5)\n",
      "(3, 4, 5)\n"
     ]
    }
   ],
   "source": [
    "for combo in combinations(range(1,6),3):\n",
    "    print(combo)"
   ]
  },
  {
   "cell_type": "code",
   "execution_count": 47,
   "id": "54028e39-93c7-4a1a-80fa-1f73e0dda9fb",
   "metadata": {},
   "outputs": [
    {
     "name": "stdout",
     "output_type": "stream",
     "text": [
      "[('a', 'b'), ('a', 'c'), ('a', 'd'), ('b', 'c'), ('b', 'd'), ('c', 'd')]\n"
     ]
    }
   ],
   "source": [
    "combo_list = list(combinations(['a','b','c','d'],2))\n",
    "print(combo_list)"
   ]
  },
  {
   "cell_type": "code",
   "execution_count": 48,
   "id": "7540514d-ddc9-481a-bb7c-3bc0fe8b0e3a",
   "metadata": {},
   "outputs": [
    {
     "name": "stdout",
     "output_type": "stream",
     "text": [
      "Total possible 2-member committees: 6\n",
      "[('Sunny', 'sameer'), ('Sunny', 'amit'), ('Sunny', 'shiva'), ('sameer', 'amit'), ('sameer', 'shiva'), ('amit', 'shiva')]\n"
     ]
    }
   ],
   "source": [
    "members = ['Sunny','sameer','amit','shiva']\n",
    "committees = list(combinations(members,2))\n",
    "print(f\"Total possible 2-member committees: {len(committees)}\")\n",
    "print(committees)"
   ]
  },
  {
   "cell_type": "code",
   "execution_count": 49,
   "id": "e00b7147-e640-43ed-9a69-80146955ff17",
   "metadata": {},
   "outputs": [
    {
     "name": "stdout",
     "output_type": "stream",
     "text": [
      "Color combinations:\n",
      "[('Red', 'Green'), ('Red', 'Blue'), ('Green', 'Blue')]\n"
     ]
    }
   ],
   "source": [
    "from itertools import combinations \n",
    "colors = ['Red', 'Green', 'Blue'] \n",
    "pairs = list(combinations(colors, 2)) \n",
    "print(\"Color combinations:\") \n",
    "print(pairs)"
   ]
  },
  {
   "cell_type": "code",
   "execution_count": 50,
   "id": "a992517d-2830-44ab-97dd-599859d09280",
   "metadata": {},
   "outputs": [
    {
     "name": "stdout",
     "output_type": "stream",
     "text": [
      "abc\n",
      "ab1\n",
      "ab2\n",
      "ac1\n",
      "ac2\n",
      "a12\n",
      "bc1\n",
      "bc2\n",
      "b12\n",
      "c12\n"
     ]
    }
   ],
   "source": [
    "from itertools import combinations \n",
    "chars = ['a', 'b', 'c', '1', '2'] \n",
    "for password in combinations(chars, 3): \n",
    " print(\"\".join(password))"
   ]
  },
  {
   "cell_type": "code",
   "execution_count": 63,
   "id": "59237882-308d-47e6-bf3f-ec6d05483c11",
   "metadata": {},
   "outputs": [
    {
     "name": "stdout",
     "output_type": "stream",
     "text": [
      "All non-empty subsets:\n",
      "('A',)\n",
      "('B',)\n",
      "('C',)\n",
      "('A', 'B')\n",
      "('A', 'C')\n",
      "('B', 'C')\n",
      "('A', 'B', 'C')\n"
     ]
    }
   ],
   "source": [
    "from itertools import combinations \n",
    "data = ['A','B','C']\n",
    "print(\"All non-empty subsets:\")\n",
    "for r in range(1,len(data)+1):\n",
    "    for subset in combinations(data,r):\n",
    "        print(subset)"
   ]
  },
  {
   "cell_type": "code",
   "execution_count": 66,
   "id": "65314c5c-00da-4677-9a72-dcdae85f9e41",
   "metadata": {},
   "outputs": [
    {
     "name": "stdout",
     "output_type": "stream",
     "text": [
      "Teams of 2: 15\n",
      "Teams of 3: 20\n"
     ]
    }
   ],
   "source": [
    "from itertools import combinations\n",
    "Students = ['1','2','3','4','5','6']\n",
    "team_2 = list(combinations(Students,2))\n",
    "team_3 = list(combinations(Students,3))\n",
    "print(\"Teams of 2:\",len(team_2))\n",
    "print(\"Teams of 3:\",len(team_3))"
   ]
  },
  {
   "cell_type": "code",
   "execution_count": null,
   "id": "62c72828-9440-43b6-b715-3820f723b5ad",
   "metadata": {},
   "outputs": [],
   "source": []
  }
 ],
 "metadata": {
  "kernelspec": {
   "display_name": "Python 3 (ipykernel)",
   "language": "python",
   "name": "python3"
  },
  "language_info": {
   "codemirror_mode": {
    "name": "ipython",
    "version": 3
   },
   "file_extension": ".py",
   "mimetype": "text/x-python",
   "name": "python",
   "nbconvert_exporter": "python",
   "pygments_lexer": "ipython3",
   "version": "3.13.2"
  }
 },
 "nbformat": 4,
 "nbformat_minor": 5
}
