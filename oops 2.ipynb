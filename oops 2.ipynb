{
 "cells": [
  {
   "cell_type": "code",
   "execution_count": 2,
   "id": "a0bacb64-2953-4a79-9d6e-f8d782e01aa1",
   "metadata": {},
   "outputs": [
    {
     "name": "stdout",
     "output_type": "stream",
     "text": [
      "Car using Engine Class Functionality\n",
      "10\n",
      "20\n",
      "Engine Specific Functionality\n"
     ]
    }
   ],
   "source": [
    "class Engine:\n",
    "    a=10\n",
    "    def __init__(self):\n",
    "        self.b=20\n",
    "    def m1(self):\n",
    "        print('Engine Specific Functionality')\n",
    "\n",
    "class Car:\n",
    "    def __init__(self):\n",
    "        self.engine=Engine()#object created/Car has a engine attribute\n",
    "    def m2(self):\n",
    "        print('Car using Engine Class Functionality')\n",
    "        print(self.engine.a)\n",
    "        print(self.engine.b)\n",
    "        self.engine.m1()\n",
    "\n",
    "c=Car()\n",
    "c.m2()"
   ]
  },
  {
   "cell_type": "code",
   "execution_count": null,
   "id": "94495f76-3a17-4bf6-a3a9-8d475c8a48ab",
   "metadata": {},
   "outputs": [],
   "source": [
    "class Car:\n",
    "    def __init__(self,name,model,color):\n",
    "        self.name=name\n",
    "        self.model=model\n",
    "        self.color=color\n",
    "        def getinfo(self):\n",
    "            print(\"Car Name:{}, Model:{} and color:{}\".format(self.name,se)"
   ]
  },
  {
   "cell_type": "code",
   "execution_count": 4,
   "id": "1e813962-1c8f-41e2-872e-cbcd48700e81",
   "metadata": {},
   "outputs": [
    {
     "name": "stdout",
     "output_type": "stream",
     "text": [
      "10\n",
      "10\n",
      "Parent instance method\n",
      "Parent class method\n",
      "Parent static method\n"
     ]
    }
   ],
   "source": [
    "# Is-A-relationship\n",
    "class P:\n",
    "    a=10\n",
    "    def __init__(self):\n",
    "        self.b=10\n",
    "    def m1(self):\n",
    "        print('Parent instance method')\n",
    "    @classmethod\n",
    "    def m2(cls):\n",
    "        print('Parent class method')\n",
    "    @staticmethod\n",
    "    def m3():\n",
    "        print('Parent static method')\n",
    "\n",
    "class C(P):\n",
    "    pass\n",
    "\n",
    "c=C()\n",
    "print(c.a)\n",
    "print(c.b)\n",
    "c.m1()\n",
    "c.m2()\n",
    "c.m3()"
   ]
  },
  {
   "cell_type": "code",
   "execution_count": 3,
   "id": "9c70f9d5-dc8e-4ac9-af6c-e92694906492",
   "metadata": {},
   "outputs": [
    {
     "name": "stdout",
     "output_type": "stream",
     "text": [
      "child\n",
      "parent\n",
      "m1\n",
      "m1\n"
     ]
    }
   ],
   "source": [
    "class P:\n",
    "    def __init__(self):\n",
    "        print(\"parent\")\n",
    "    def m1(self):\n",
    "        print(\"m1\")\n",
    "class C(P):\n",
    "    def __init__(self):\n",
    "        print(\"child\")\n",
    "        super().__init__()\n",
    "        super().m1()\n",
    "\n",
    "c1=C()\n",
    "c1.m1() "
   ]
  },
  {
   "cell_type": "code",
   "execution_count": 4,
   "id": "8e968896-a0b3-493e-8f32-a1ff05125d22",
   "metadata": {},
   "outputs": [
    {
     "name": "stdout",
     "output_type": "stream",
     "text": [
      "Parent method\n",
      "Child method\n"
     ]
    }
   ],
   "source": [
    "#single inheritance\n",
    "class P:\n",
    "    def m1(self):\n",
    "        print(\"Parent method\")\n",
    "class C(P):\n",
    "    def m2(self):\n",
    "        print(\"Child method\")\n",
    "c=C()\n",
    "c.m1()\n",
    "c.m2()"
   ]
  },
  {
   "cell_type": "code",
   "execution_count": 6,
   "id": "de455eb3-0362-4738-931c-b861404705f9",
   "metadata": {},
   "outputs": [
    {
     "name": "stdout",
     "output_type": "stream",
     "text": [
      "Parent method\n",
      "Child method\n",
      "Sub Child method\n"
     ]
    }
   ],
   "source": [
    "#Multi - level\n",
    "class P:\n",
    "    def m1(self):\n",
    "        print(\"Parent method\")\n",
    "class C(P):\n",
    "    def m2(self):\n",
    "        print(\"Child method\")\n",
    "class CC(C):\n",
    "    def m3(self):\n",
    "        print(\"Sub Child method\")\n",
    "c=CC()\n",
    "c.m1()\n",
    "c.m2()\n",
    "c.m3()\n"
   ]
  },
  {
   "cell_type": "code",
   "execution_count": 13,
   "id": "efec975f-f603-4eae-87c5-f8b6c94cb09d",
   "metadata": {},
   "outputs": [
    {
     "name": "stdout",
     "output_type": "stream",
     "text": [
      "Parent method\n",
      "Child method\n",
      "Parent method\n",
      "child method\n"
     ]
    }
   ],
   "source": [
    "#Hierarchical Inheritance: \n",
    "\n",
    "class P:\n",
    "    def m1(self):\n",
    "        print(\"Parent method\")\n",
    "class C1(P):\n",
    "    def m2(self):\n",
    "        print(\"Child method\")\n",
    "class C2(P):\n",
    "    def m3(self):\n",
    "        print(\"child method\")\n",
    "c1=C1()\n",
    "c1.m1()\n",
    "c1.m2()\n",
    "c2=C2()\n",
    "c2.m1()\n",
    "c2.m3()\n"
   ]
  },
  {
   "cell_type": "code",
   "execution_count": 15,
   "id": "149f9234-c680-4516-84bf-a478911b62bc",
   "metadata": {},
   "outputs": [
    {
     "name": "stdout",
     "output_type": "stream",
     "text": [
      "Parent1 method\n",
      "Parent2 method\n",
      "child2 method\n"
     ]
    }
   ],
   "source": [
    "#Multiple Inheritance:\n",
    "class P1:\n",
    "    def m1(self):\n",
    "        print(\"Parent1 method\")\n",
    "class P2:\n",
    "    def m2(self):\n",
    "        print(\"Parent2 method\")\n",
    "class C(P1,P2):\n",
    "    def m3(self):\n",
    "        print(\"child2 method\")\n",
    "c=C()\n",
    "c.m1()\n",
    "c.m2()\n",
    "c.m3()"
   ]
  },
  {
   "cell_type": "code",
   "execution_count": 17,
   "id": "96a80e07-2b5c-4337-ad62-ef0fce090aa6",
   "metadata": {},
   "outputs": [
    {
     "name": "stdout",
     "output_type": "stream",
     "text": [
      "Parent1 method\n",
      "child2 method\n"
     ]
    }
   ],
   "source": [
    "class P1:\n",
    "    def m1(self):\n",
    "        print(\"Parent1 method\")\n",
    "class P2:\n",
    "    def m1(self):\n",
    "        print(\"Parent2 method\")\n",
    "class C(P1,P2):\n",
    "    def m2(self):\n",
    "        print(\"child2 method\")\n",
    "c=C()\n",
    "c.m1()\n",
    "c.m2()"
   ]
  },
  {
   "cell_type": "code",
   "execution_count": 20,
   "id": "b7f8b0ae-7b82-4616-b3da-12a4852f8076",
   "metadata": {},
   "outputs": [
    {
     "name": "stdout",
     "output_type": "stream",
     "text": [
      "Name: Anushree\n",
      "Age: 22\n",
      "Roll No.: 101\n",
      "Marks: 90\n"
     ]
    }
   ],
   "source": [
    "class Person:\n",
    "    def __init__(self,name,age):\n",
    "        self.name=name\n",
    "        self.age=age\n",
    "    def display(self):\n",
    "        print('Name:',self.name)\n",
    "        print('Age:',self.age)\n",
    "\n",
    "class Student(Person):\n",
    "    def __init__(self,name,age,rollno,marks):\n",
    "        super().__init__(name,age)\n",
    "        self.rollno=rollno\n",
    "        self.marks=marks\n",
    "\n",
    "    def display(self):\n",
    "        super().display()\n",
    "        print('Roll No.:',self.rollno)\n",
    "        print('Marks:',self.marks)\n",
    "\n",
    "s1=Student('Anushree',22,101,90)\n",
    "s1.display()"
   ]
  },
  {
   "cell_type": "code",
   "execution_count": null,
   "id": "96c099ca-f56a-4def-bb54-1aa43bdb9df1",
   "metadata": {},
   "outputs": [],
   "source": []
  }
 ],
 "metadata": {
  "kernelspec": {
   "display_name": "Python 3 (ipykernel)",
   "language": "python",
   "name": "python3"
  },
  "language_info": {
   "codemirror_mode": {
    "name": "ipython",
    "version": 3
   },
   "file_extension": ".py",
   "mimetype": "text/x-python",
   "name": "python",
   "nbconvert_exporter": "python",
   "pygments_lexer": "ipython3",
   "version": "3.13.2"
  }
 },
 "nbformat": 4,
 "nbformat_minor": 5
}
