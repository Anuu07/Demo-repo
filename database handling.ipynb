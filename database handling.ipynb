{
 "cells": [
  {
   "cell_type": "code",
   "execution_count": 1,
   "id": "82310ee7-52c1-4c40-9f42-5ea7c5736db1",
   "metadata": {},
   "outputs": [
    {
     "name": "stdout",
     "output_type": "stream",
     "text": [
      "Connected to MySQL database\n"
     ]
    }
   ],
   "source": [
    "import pymysql\n",
    "connection = pymysql.connect(host=\"localhost\",user=\"root\",password=\"root\",database=\"project\")\n",
    "print(\"Connected to MySQL database\")"
   ]
  },
  {
   "cell_type": "code",
   "execution_count": 8,
   "id": "a70c28f8-9898-4321-87a9-19751763bfe1",
   "metadata": {},
   "outputs": [
    {
     "name": "stdout",
     "output_type": "stream",
     "text": [
      "record inserted successfully\n"
     ]
    }
   ],
   "source": [
    "import pymysql \n",
    "conn = pymysql.connect(host=\"localhost\",user=\"root\",password=\"root\",database=\"project\") \n",
    "try: \n",
    "    cursor=conn.cursor() \n",
    "    cursor.execute(\"insert into employee values(10,'abc','aabb@aa.com','12-05-01',10000)\")  \n",
    "    conn.commit() \n",
    "    print(\"record inserted successfully\")  \n",
    "except pymysql.MySQLError as e: \n",
    "    if conn: \n",
    "        conn.rollback()  \n",
    "        print(\"problem with sql\") \n",
    "finally: \n",
    "    if cursor: \n",
    "        cursor.close()  \n",
    "    if conn: \n",
    "        conn.close()"
   ]
  },
  {
   "cell_type": "code",
   "execution_count": 9,
   "id": "2bed28ad-debb-4ad4-9029-a3a0bdb4fd29",
   "metadata": {},
   "outputs": [
    {
     "name": "stdout",
     "output_type": "stream",
     "text": [
      "record inserted successfully\n"
     ]
    }
   ],
   "source": [
    "import pymysql \n",
    "conn = pymysql.connect(host=\"localhost\",user=\"root\",password=\"root\",database=\"project\") \n",
    "try: \n",
    "    cursor=conn.cursor() \n",
    "    sql=\"insert into employee values(%s,%s,%s,%s,%s)\"  \n",
    "    records=[(100,'ajay','ajay@gmail.com','2021-01-25',10000), \n",
    "        (200,'rohini','rohini','2012-01-25',20000), \n",
    "        (300,'priya','priya@gmail.com','2019-01-25',3000)]\n",
    "    cursor.executemany(sql,records)  \n",
    "    conn.commit() \n",
    "    print(\"record inserted successfully\")  \n",
    "except pymysql.MySQLError as e: \n",
    "    if conn: \n",
    "        conn.rollback()  \n",
    "        print(\"problem with sql\") \n",
    "finally: \n",
    "    if cursor: \n",
    "        cursor.close()  \n",
    "    if conn: \n",
    "        conn.close()"
   ]
  },
  {
   "cell_type": "code",
   "execution_count": 10,
   "id": "df9cd73a-a8c3-45b7-b1b0-ab2ad377f438",
   "metadata": {},
   "outputs": [
    {
     "name": "stdin",
     "output_type": "stream",
     "text": [
      "enter employee id: 4\n",
      "enter employee name: Anushree\n",
      "enter email id anu@gm.com\n",
      "enter employee salary: 100000000\n",
      "enter employee hiredate:[yyyy-mm-dd] 2026-05-31\n"
     ]
    },
    {
     "name": "stdout",
     "output_type": "stream",
     "text": [
      "Record inserted successfully\n"
     ]
    },
    {
     "name": "stdin",
     "output_type": "stream",
     "text": [
      "Do you want to insert one more record[yes/no]: no\n"
     ]
    }
   ],
   "source": [
    "import pymysql \n",
    "conn = pymysql.connect(host=\"localhost\",user=\"root\",password=\"root\",database=\"project\") \n",
    "try: \n",
    "    cursor=conn.cursor() \n",
    "    while True: \n",
    "        eid=int(input(\"enter employee id:\"))  \n",
    "        ename=input(\"enter employee name:\") \n",
    "        email =input(\"enter email id\")\n",
    "        esal=input(\"enter employee salary:\")  \n",
    "        ehire=input(\"enter employee hiredate:[yyyy-mm-dd]\") \n",
    "        \n",
    "        sql=\"insert into employee values(%s,'%s','%s','%s',%s)\"  \n",
    "        cursor.execute(sql %(eid,ename,email,ehire,esal))  \n",
    "        print(\"Record inserted successfully\") \n",
    "        option=input(\"Do you want to insert one more record[yes/no]:\")  \n",
    "        if option==\"no\": \n",
    "            conn.commit()  \n",
    "            break   \n",
    "except pymysql.MySQLError as e: \n",
    "    if conn: \n",
    "        conn.rollback()  \n",
    "        print(\"problem with sql\") \n",
    "finally: \n",
    "    if cursor: \n",
    "        cursor.close()  \n",
    "    if conn: \n",
    "        conn.close()"
   ]
  },
  {
   "cell_type": "code",
   "execution_count": 15,
   "id": "e2e27c4c-92d1-49b6-ac62-a73593238e5b",
   "metadata": {},
   "outputs": [
    {
     "name": "stdin",
     "output_type": "stream",
     "text": [
      "enter incremented salary: 2000\n",
      "enter salary range: 2000000000\n"
     ]
    },
    {
     "name": "stdout",
     "output_type": "stream",
     "text": [
      "record updated successfully\n"
     ]
    }
   ],
   "source": [
    "import pymysql \n",
    "conn = pymysql.connect(host=\"localhost\",user=\"root\",password=\"root\",database=\"project\") \n",
    "try: \n",
    "    cursor=conn.cursor() \n",
    "    increment=float(input(\"enter incremented salary:\"))  \n",
    "    salrange=float(input(\"enter salary range:\")) \n",
    "    sql=\"update employee set salary = salary + %d where salary < %d\"  \n",
    "    cursor.execute(sql%(increment,salrange)) \n",
    "    conn.commit() \n",
    "    print(\"record updated successfully\")  \n",
    "except pymysql.MySQLError as e: \n",
    "    if conn: \n",
    "        conn.rollback()  \n",
    "        print(\"problem with sql\") \n",
    "finally: \n",
    "    if cursor: \n",
    "        cursor.close()  \n",
    "    if conn: \n",
    "        conn.close()"
   ]
  },
  {
   "cell_type": "code",
   "execution_count": 7,
   "id": "2c4a5c19-723b-4bca-9bc5-b8cb0c387dff",
   "metadata": {},
   "outputs": [
    {
     "name": "stdin",
     "output_type": "stream",
     "text": [
      "enter cutoffsalary : 1000\n"
     ]
    },
    {
     "name": "stdout",
     "output_type": "stream",
     "text": [
      "Records deleted successfully\n"
     ]
    }
   ],
   "source": [
    "import pymysql \n",
    "try:\n",
    "    conn = pymysql.connect(host=\"localhost\",user=\"root\",password=\"root\",database=\"project\") \n",
    " \n",
    "    cursor=conn.cursor() \n",
    "    cutoffsalary=float(input(\"enter cutoffsalary :\"))\n",
    "    sql=\"delete from employee where salary > %d\"\n",
    "    cursor.execute(sql%(cutoffsalary))  \n",
    "    conn.commit() \n",
    "    print(\"Records deleted successfully\")  \n",
    "except pymysql.MySQLError as e: \n",
    "    if conn: \n",
    "        conn.rollback()  \n",
    "        print(\"problem with sql\",e) \n",
    "finally: \n",
    "    if cursor: \n",
    "        cursor.close()  \n",
    "    if conn: \n",
    "        conn.close()"
   ]
  },
  {
   "cell_type": "code",
   "execution_count": 10,
   "id": "929ffead-830e-4a9d-819e-b030a315ad8d",
   "metadata": {},
   "outputs": [
    {
     "name": "stdout",
     "output_type": "stream",
     "text": [
      "Employee id:  1\n",
      "Employee name:  amit\n",
      "Employee salary:  aa@aa.com\n",
      "Employee hiredate:  2012-05-01 00:00:00\n",
      "\n",
      "Employee id:  2\n",
      "Employee name:  arya\n",
      "Employee salary:  arya@aa.com\n",
      "Employee hiredate:  2015-03-05 00:00:00\n",
      "\n",
      "Records deleted successfully\n"
     ]
    }
   ],
   "source": [
    "import pymysql \n",
    "try:\n",
    "    conn = pymysql.connect(host=\"localhost\",user=\"root\",password=\"root\",database=\"project\") \n",
    " \n",
    "    cursor=conn.cursor() \n",
    "    cursor.execute(\"Select * from employee\")  \n",
    "    data = cursor.fetchall()\n",
    "    for row in data:\n",
    "        print(\"Employee id: \",row[0]) \n",
    "        print(\"Employee name: \",row[1]) \n",
    "        print(\"Employee salary: \",row[2]) \n",
    "        print(\"Employee hiredate: \",row[3])\n",
    "        print()\n",
    "    conn.commit() \n",
    "    print(\"Records deleted successfully\")  \n",
    "except pymysql.MySQLError as e: \n",
    "    if conn: \n",
    "        conn.rollback()  \n",
    "        print(\"problem with sql\",e) \n",
    "finally: \n",
    "    if cursor: \n",
    "        cursor.close()  \n",
    "    if conn: \n",
    "        conn.close()"
   ]
  },
  {
   "cell_type": "code",
   "execution_count": 11,
   "id": "f34f1b37-3725-4349-aa90-4b0edbd4a383",
   "metadata": {},
   "outputs": [
    {
     "name": "stdin",
     "output_type": "stream",
     "text": [
      "enter the number of required rows: 3\n"
     ]
    },
    {
     "name": "stdout",
     "output_type": "stream",
     "text": [
      "(2, 'arya', 'arya@aa.com', datetime.datetime(2015, 3, 5, 0, 0), 20000.0)\n",
      "####\n",
      "(1, 'amit', 'aa@aa.com', datetime.datetime(2012, 5, 1, 0, 0), 10000.0)\n",
      "####\n"
     ]
    }
   ],
   "source": [
    "import pymysql \n",
    "try:\n",
    "    conn = pymysql.connect(host=\"localhost\",user=\"root\",password=\"root\",database=\"project\") \n",
    " \n",
    "    cursor=conn.cursor() \n",
    "    cursor.execute(\"Select * from employee order by salary desc\")  \n",
    "    n=int(input(\"enter the number of required rows:\"))\n",
    "    data = cursor.fetchall()\n",
    "    for row in data:\n",
    "        print(row)\n",
    "        print('####')  \n",
    "except pymysql.MySQLError as e: \n",
    "    if conn: \n",
    "        conn.rollback()  \n",
    "        print(\"problem with sql\",e) \n",
    "finally: \n",
    "    if cursor: \n",
    "        cursor.close()  \n",
    "    if conn: \n",
    "        conn.close()"
   ]
  },
  {
   "cell_type": "code",
   "execution_count": null,
   "id": "0ff78125-b556-4425-8bca-a9f1464b8acb",
   "metadata": {},
   "outputs": [],
   "source": []
  }
 ],
 "metadata": {
  "kernelspec": {
   "display_name": "Python 3 (ipykernel)",
   "language": "python",
   "name": "python3"
  },
  "language_info": {
   "codemirror_mode": {
    "name": "ipython",
    "version": 3
   },
   "file_extension": ".py",
   "mimetype": "text/x-python",
   "name": "python",
   "nbconvert_exporter": "python",
   "pygments_lexer": "ipython3",
   "version": "3.13.2"
  }
 },
 "nbformat": 4,
 "nbformat_minor": 5
}
