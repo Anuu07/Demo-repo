{
 "cells": [
  {
   "cell_type": "code",
   "execution_count": 5,
   "id": "891e6f97-f217-45dd-b852-b63b793d8984",
   "metadata": {},
   "outputs": [
    {
     "name": "stdin",
     "output_type": "stream",
     "text": [
      "Birth year: 2004\n"
     ]
    },
    {
     "name": "stdout",
     "output_type": "stream",
     "text": [
      "<class 'str'>\n",
      "<class 'int'>\n",
      "21\n"
     ]
    }
   ],
   "source": [
    "birth_year = input('Birth year:')\n",
    "print(type(birth_year))\n",
    "print(type(age))\n",
    "age=2025-int(birth_year)\n",
    "print(age)"
   ]
  },
  {
   "cell_type": "code",
   "execution_count": 11,
   "id": "e845246a-b7db-42ba-b07a-17fb873513a7",
   "metadata": {},
   "outputs": [
    {
     "name": "stdin",
     "output_type": "stream",
     "text": [
      "Type your weight in pounds: 125\n"
     ]
    },
    {
     "name": "stdout",
     "output_type": "stream",
     "text": [
      "56.25\n"
     ]
    }
   ],
   "source": [
    "weight_lbs= input('Type your weight in pounds:' )\n",
    "weight_kg = int(weight_lbs) * (0.45)\n",
    "print(weight_kg)\n"
   ]
  },
  {
   "cell_type": "code",
   "execution_count": 3,
   "id": "f5747c77-8ef5-4d69-8e60-89b4d1086cc4",
   "metadata": {},
   "outputs": [
    {
     "name": "stdout",
     "output_type": "stream",
     "text": [
      "hii\n",
      "hello\n",
      "hola\n"
     ]
    }
   ],
   "source": [
    "course= '''hii\n",
    "hello\n",
    "hola'''\n",
    "print(course)#triple quotes for multiple line string"
   ]
  },
  {
   "cell_type": "code",
   "execution_count": 5,
   "id": "000f1da1-0df2-46db-800e-ea02e5aa516e",
   "metadata": {},
   "outputs": [
    {
     "name": "stdout",
     "output_type": "stream",
     "text": [
      "Python is important\n"
     ]
    }
   ],
   "source": [
    "course ='Python is important'\n",
    "another = course\n",
    "print(another)"
   ]
  },
  {
   "cell_type": "code",
   "execution_count": 8,
   "id": "92c0c5b2-68af-4f43-9f9b-ed1448346850",
   "metadata": {},
   "outputs": [
    {
     "name": "stdout",
     "output_type": "stream",
     "text": [
      "nushre\n"
     ]
    }
   ],
   "source": [
    "name='Anushree'\n",
    "print(name[1:-1])"
   ]
  },
  {
   "cell_type": "code",
   "execution_count": 22,
   "id": "91de2d21-a617-43f7-8d2a-4ddf8ff489e7",
   "metadata": {},
   "outputs": [
    {
     "name": "stdout",
     "output_type": "stream",
     "text": [
      "Anushree Nair is a coder \n"
     ]
    }
   ],
   "source": [
    "first = 'Anushree'\n",
    "last = 'Nair'\n",
    "message = f'{first} { last} is a coder '# f'' is a formatted string where you can add strings which you want to write\n",
    "print(message)"
   ]
  },
  {
   "cell_type": "code",
   "execution_count": 1,
   "id": "7443f490-dc10-4429-aa1f-aadb6b39659f",
   "metadata": {},
   "outputs": [
    {
     "name": "stdout",
     "output_type": "stream",
     "text": [
      "20\n"
     ]
    }
   ],
   "source": [
    "course='Python for beginners'\n",
    "print(len(course))\n"
   ]
  },
  {
   "cell_type": "code",
   "execution_count": 2,
   "id": "e90fef6e-9f63-48fe-9f4f-ea88493f892e",
   "metadata": {},
   "outputs": [
    {
     "name": "stdout",
     "output_type": "stream",
     "text": [
      "20\n"
     ]
    },
    {
     "data": {
      "text/plain": [
       "'PYTHON FOR BEGINNERS'"
      ]
     },
     "execution_count": 2,
     "metadata": {},
     "output_type": "execute_result"
    }
   ],
   "source": [
    "course='Python for beginners'\n",
    "print(len(course))\n",
    "course.upper()"
   ]
  },
  {
   "cell_type": "code",
   "execution_count": 3,
   "id": "c8da0faf-5492-478e-97ca-2956ec139e6d",
   "metadata": {},
   "outputs": [
    {
     "name": "stdout",
     "output_type": "stream",
     "text": [
      "20\n"
     ]
    },
    {
     "data": {
      "text/plain": [
       "'python for beginners'"
      ]
     },
     "execution_count": 3,
     "metadata": {},
     "output_type": "execute_result"
    }
   ],
   "source": [
    "course='Python for beginners'\n",
    "print(len(course))\n",
    "course.lower()"
   ]
  },
  {
   "cell_type": "code",
   "execution_count": 16,
   "id": "667b05d4-4010-4995-ba2e-80ea195cdf82",
   "metadata": {},
   "outputs": [
    {
     "name": "stdout",
     "output_type": "stream",
     "text": [
      "19\n"
     ]
    }
   ],
   "source": [
    "course='Python for beginners'\n",
    "print(course.find('s'))\n"
   ]
  },
  {
   "cell_type": "code",
   "execution_count": 17,
   "id": "94e47c7f-bd52-4078-b7f4-b54b8b8b41f1",
   "metadata": {},
   "outputs": [
    {
     "name": "stdout",
     "output_type": "stream",
     "text": [
      "11\n"
     ]
    }
   ],
   "source": [
    "course='Python for beginners'\n",
    "print(course.find('beginners'))\n"
   ]
  },
  {
   "cell_type": "code",
   "execution_count": 23,
   "id": "20ffe7de-807a-46ee-a97a-6906d857e2b7",
   "metadata": {},
   "outputs": [
    {
     "name": "stdout",
     "output_type": "stream",
     "text": [
      "Python is for absolute  beginners\n"
     ]
    }
   ],
   "source": [
    "course='Python for beginners'\n",
    "print(course.replace('for','is for absolute '))"
   ]
  },
  {
   "cell_type": "code",
   "execution_count": 25,
   "id": "39f628cb-3c93-4a26-9ed0-9c247fea8e44",
   "metadata": {},
   "outputs": [
    {
     "name": "stdout",
     "output_type": "stream",
     "text": [
      "Jython for beginners\n"
     ]
    }
   ],
   "source": [
    "course='Python for beginners'\n",
    "print(course.replace('P','J'))"
   ]
  },
  {
   "cell_type": "code",
   "execution_count": 27,
   "id": "46952585-090b-491f-ae9b-257e9eaa8a02",
   "metadata": {},
   "outputs": [
    {
     "name": "stdout",
     "output_type": "stream",
     "text": [
      "False\n"
     ]
    }
   ],
   "source": [
    "#course='Python for beginners'\n",
    "#print('Python' in course)\n",
    "course='Python for beginners'\n",
    "print('Jython' in course)\n"
   ]
  },
  {
   "cell_type": "code",
   "execution_count": 33,
   "id": "b27695a6-356f-4c62-9784-c9802ccbb177",
   "metadata": {},
   "outputs": [
    {
     "name": "stdout",
     "output_type": "stream",
     "text": [
      "20\n",
      "PYTHON FOR BEGINNERS\n",
      "python for beginners\n",
      "Python For Beginners\n",
      "0\n",
      "Jython for beginners\n"
     ]
    },
    {
     "data": {
      "text/plain": [
       "False"
      ]
     },
     "execution_count": 33,
     "metadata": {},
     "output_type": "execute_result"
    }
   ],
   "source": [
    "course='Python for beginners'\n",
    "print(len(course))\n",
    "print(course.upper())\n",
    "print(course.lower())\n",
    "print(course.title())\n",
    "print(course.find('P'))\n",
    "print(course.replace('P','J'))\n",
    "'...' in  course"
   ]
  },
  {
   "cell_type": "code",
   "execution_count": 11,
   "id": "01686c13-8380-4b64-9025-efab4606bb93",
   "metadata": {},
   "outputs": [
    {
     "name": "stdout",
     "output_type": "stream",
     "text": [
      "3.3333333333333335\n",
      "1\n",
      "13\n",
      "7\n",
      "30\n",
      "1000\n"
     ]
    }
   ],
   "source": [
    "#Arithemetic operations\n",
    "print(10/3)\n",
    "print(10%3)\n",
    "print(10+3)\n",
    "print(10-3)\n",
    "print(10*3)\n",
    "print(10**3)"
   ]
  },
  {
   "cell_type": "code",
   "execution_count": 14,
   "id": "e35a0300-508d-418b-9b12-663df70ffdb8",
   "metadata": {},
   "outputs": [
    {
     "name": "stdout",
     "output_type": "stream",
     "text": [
      "13\n"
     ]
    }
   ],
   "source": [
    "x=10\n",
    "x+=3 #orx=x+3 \n",
    "print(x)"
   ]
  },
  {
   "cell_type": "code",
   "execution_count": 15,
   "id": "8c80b528-c703-4422-b064-84fa0e36f857",
   "metadata": {},
   "outputs": [
    {
     "name": "stdout",
     "output_type": "stream",
     "text": [
      "7\n"
     ]
    }
   ],
   "source": [
    "x=10\n",
    "x-=3 #orx=x-3 \n",
    "print(x)"
   ]
  },
  {
   "cell_type": "code",
   "execution_count": 18,
   "id": "b411122f-6dbe-4eff-8c77-77b2ec2ce483",
   "metadata": {},
   "outputs": [
    {
     "name": "stdout",
     "output_type": "stream",
     "text": [
      "16\n"
     ]
    }
   ],
   "source": [
    "#operator precedence\n",
    "#parenthesis,exponentiation,multiplication or division, addition or subtrsaction\n",
    "x= 10 + 3 * 2\n",
    "print(x)"
   ]
  },
  {
   "cell_type": "code",
   "execution_count": 20,
   "id": "bd818b2d-edd5-413d-8057-7bb9e17626b1",
   "metadata": {},
   "outputs": [
    {
     "name": "stdout",
     "output_type": "stream",
     "text": [
      "25\n"
     ]
    }
   ],
   "source": [
    "x= 10 + 3 * 2 + 3**2\n",
    "print(x)"
   ]
  },
  {
   "cell_type": "code",
   "execution_count": 22,
   "id": "d5f3988c-31bf-4b72-9267-27bc292710df",
   "metadata": {},
   "outputs": [
    {
     "name": "stdout",
     "output_type": "stream",
     "text": [
      "47\n"
     ]
    }
   ],
   "source": [
    "x = (2+3)*10-3\n",
    "print(x)"
   ]
  },
  {
   "cell_type": "code",
   "execution_count": 24,
   "id": "6564c9b7-4eb0-4014-acf8-1fd0c08d4f19",
   "metadata": {},
   "outputs": [
    {
     "name": "stdout",
     "output_type": "stream",
     "text": [
      "3\n"
     ]
    }
   ],
   "source": [
    "#Math function\n",
    "x = 2.9\n",
    "print(round(x))"
   ]
  },
  {
   "cell_type": "code",
   "execution_count": 27,
   "id": "08aca971-d5c9-4e3a-b52c-d1e4294a1eb5",
   "metadata": {},
   "outputs": [
    {
     "name": "stdout",
     "output_type": "stream",
     "text": [
      "2.9\n"
     ]
    }
   ],
   "source": [
    "x = 2.9\n",
    "print(abs(-2.9))"
   ]
  },
  {
   "cell_type": "code",
   "execution_count": 28,
   "id": "5af172e1-f4c6-4c08-8d7d-c75f487965ab",
   "metadata": {},
   "outputs": [
    {
     "name": "stdout",
     "output_type": "stream",
     "text": [
      "3\n"
     ]
    }
   ],
   "source": [
    "import math\n",
    "print(math.ceil(2.9))"
   ]
  },
  {
   "cell_type": "code",
   "execution_count": 29,
   "id": "53b00384-90fc-48b4-bb12-0f0d33c6f33d",
   "metadata": {},
   "outputs": [
    {
     "name": "stdout",
     "output_type": "stream",
     "text": [
      "2\n"
     ]
    }
   ],
   "source": [
    "import math\n",
    "print(math.floor(2.9))"
   ]
  },
  {
   "cell_type": "code",
   "execution_count": 30,
   "id": "e5582aeb-2d5e-4e44-bdd2-f5bc18fecc26",
   "metadata": {},
   "outputs": [
    {
     "name": "stdout",
     "output_type": "stream",
     "text": [
      "120\n"
     ]
    }
   ],
   "source": [
    "import math\n",
    "print(math.factorial(5))"
   ]
  },
  {
   "cell_type": "code",
   "execution_count": 35,
   "id": "3ac53276-2418-4d56-80c0-c0d735cc350c",
   "metadata": {},
   "outputs": [
    {
     "name": "stdout",
     "output_type": "stream",
     "text": [
      "12\n"
     ]
    }
   ],
   "source": [
    "import math\n",
    "print(math.isqrt(144))#returns the squareroot of a number"
   ]
  },
  {
   "cell_type": "code",
   "execution_count": 41,
   "id": "2a8b8862-0884-4fb9-9583-d9c06ca9479b",
   "metadata": {},
   "outputs": [
    {
     "name": "stdout",
     "output_type": "stream",
     "text": [
      "4\n"
     ]
    }
   ],
   "source": [
    "import math\n",
    "print(math.comb(4,3))"
   ]
  },
  {
   "cell_type": "code",
   "execution_count": 44,
   "id": "78054ef5-c04f-49bf-83fe-f4e5b29b6bd2",
   "metadata": {},
   "outputs": [
    {
     "name": "stdout",
     "output_type": "stream",
     "text": [
      "5\n"
     ]
    }
   ],
   "source": [
    "import math\n",
    "print(math.gcd())"
   ]
  },
  {
   "cell_type": "code",
   "execution_count": 2,
   "id": "ce05aab5-4bba-465b-a3b2-490b65f3e87b",
   "metadata": {},
   "outputs": [
    {
     "name": "stdout",
     "output_type": "stream",
     "text": [
      "It's a cold day\n",
      "Wear warm clothes\n",
      "It's a lovely day\n"
     ]
    }
   ],
   "source": [
    "its_hot = False\n",
    "its_cold = True\n",
    "if its_hot:\n",
    "    print(\"It's a hot day\")\n",
    "    print(\"Drink plenty of water\")\n",
    "elif its_cold:\n",
    "    print(\"It's a cold day\")\n",
    "    print(\"Wear warm clothes\")\n",
    "\n",
    "print(\"It's a lovely day\")\n",
    "    "
   ]
  },
  {
   "cell_type": "code",
   "execution_count": 9,
   "id": "c802e8bb-e167-40b2-8159-b5c48a82696f",
   "metadata": {},
   "outputs": [
    {
     "name": "stdout",
     "output_type": "stream",
     "text": [
      "Down payment: 100000.0\n"
     ]
    }
   ],
   "source": [
    "good_credit = True\n",
    "price = 1000000\n",
    "if good_credit:\n",
    "    down_payment = 0.1*price\n",
    "else:\n",
    "    down_payment = 0.2*price\n",
    "print(f\"Down payment: {down_payment}\")\n"
   ]
  },
  {
   "cell_type": "code",
   "execution_count": 23,
   "id": "dfe285c2-8bf9-4252-b839-7845adf61215",
   "metadata": {},
   "outputs": [
    {
     "name": "stdout",
     "output_type": "stream",
     "text": [
      "Eligible for loan\n"
     ]
    }
   ],
   "source": [
    "has_good_credit = True\n",
    "has_criminal_record = False\n",
    "if has_good_credit and not has_criminal_record:\n",
    "    print(\"Eligible for loan\")"
   ]
  },
  {
   "cell_type": "code",
   "execution_count": 6,
   "id": "0b7c0685-03f9-4e70-87bf-40d44e58b47e",
   "metadata": {},
   "outputs": [
    {
     "name": "stdout",
     "output_type": "stream",
     "text": [
      "Its's a hot day\n"
     ]
    }
   ],
   "source": [
    "temperature = 35\n",
    "if temperature != 30:\n",
    "    print(\"Its's a hot day\")\n",
    "else:\n",
    "    print(\"It's not hot day\")\n"
   ]
  },
  {
   "cell_type": "code",
   "execution_count": 16,
   "id": "f145d685-60fd-4c61-a8d1-41b2b15d03b0",
   "metadata": {},
   "outputs": [
    {
     "name": "stdout",
     "output_type": "stream",
     "text": [
      "Name looks good!\n"
     ]
    }
   ],
   "source": [
    "Name = \"Anu\"\n",
    "if len(Name) < 3:\n",
    "    print(\"Name must be atleast 3 characters.\")\n",
    "elif len(Name) > 50:\n",
    "    print(\"Name must be a maximum of 50 characters.\")\n",
    "else:\n",
    "    print(\"Name looks good!\")"
   ]
  },
  {
   "cell_type": "code",
   "execution_count": 11,
   "id": "efb7c21b-1e24-4597-9b93-5019af172c3a",
   "metadata": {},
   "outputs": [
    {
     "name": "stdin",
     "output_type": "stream",
     "text": [
      "Weight: 125\n",
      "(L)bs or (K)g:  L\n"
     ]
    },
    {
     "name": "stdout",
     "output_type": "stream",
     "text": [
      "You are 56.25 kilos\n"
     ]
    }
   ],
   "source": [
    "Weight = int( input(\"Weight:\"))\n",
    "unit = input('(L)bs or (K)g: ')\n",
    "if unit.upper() == \"L\":\n",
    "    converted = Weight * 0.45\n",
    "    print(f\"You are {converted} kilos\")\n",
    "else:\n",
    "    converted = Weight / 0.45\n",
    "    print(f\"You are {converted} pounds\")\n",
    "\n",
    "    "
   ]
  },
  {
   "cell_type": "code",
   "execution_count": 18,
   "id": "4f570a87-b336-4a63-8f4a-f412a22bfe79",
   "metadata": {},
   "outputs": [
    {
     "name": "stdout",
     "output_type": "stream",
     "text": [
      "*\n",
      "**\n",
      "***\n",
      "****\n",
      "*****\n",
      "Done\n"
     ]
    }
   ],
   "source": [
    "i = 1\n",
    "while i <=5:\n",
    "    print('*' * i)\n",
    "    i = i + 1\n",
    "print(\"Done\")"
   ]
  },
  {
   "cell_type": "code",
   "execution_count": 23,
   "id": "8914d832-32e0-4820-acc7-3304fb6a3242",
   "metadata": {},
   "outputs": [
    {
     "name": "stdin",
     "output_type": "stream",
     "text": [
      "Guess: 7\n",
      "Guess: 10\n",
      "Guess: 9\n"
     ]
    },
    {
     "name": "stdout",
     "output_type": "stream",
     "text": [
      "You won!\n"
     ]
    }
   ],
   "source": [
    "secret_number = 9\n",
    "guess_count = 0\n",
    "guess_limit = 3\n",
    "while guess_count < guess_limit:\n",
    "    Guess = int(input('Guess:'))\n",
    "    guess_count +=1\n",
    "    if Guess == secret_number:\n",
    "        print('You won!')\n",
    "        break\n",
    "else:\n",
    "    print('Sorry, you failed!')"
   ]
  },
  {
   "cell_type": "code",
   "execution_count": 1,
   "id": "873d483c-4bb8-48a3-9e73-ec25fdbadb06",
   "metadata": {},
   "outputs": [
    {
     "name": "stdin",
     "output_type": "stream",
     "text": [
      "> start\n"
     ]
    },
    {
     "name": "stdout",
     "output_type": "stream",
     "text": [
      "Car started...\n"
     ]
    },
    {
     "name": "stdin",
     "output_type": "stream",
     "text": [
      "> start\n"
     ]
    },
    {
     "name": "stdout",
     "output_type": "stream",
     "text": [
      "Can is already started!\n"
     ]
    },
    {
     "name": "stdin",
     "output_type": "stream",
     "text": [
      "> stop\n"
     ]
    },
    {
     "name": "stdout",
     "output_type": "stream",
     "text": [
      "Car stopped\n"
     ]
    },
    {
     "name": "stdin",
     "output_type": "stream",
     "text": [
      "> stop\n"
     ]
    },
    {
     "name": "stdout",
     "output_type": "stream",
     "text": [
      "Car is already stopped!\n"
     ]
    },
    {
     "name": "stdin",
     "output_type": "stream",
     "text": [
      "> help\n"
     ]
    },
    {
     "name": "stdout",
     "output_type": "stream",
     "text": [
      "\n",
      "        start - to start the car\n",
      "        stop - to stop the car\n",
      "        quit - to quit\n",
      "        \n"
     ]
    },
    {
     "name": "stdin",
     "output_type": "stream",
     "text": [
      "> qit\n"
     ]
    },
    {
     "name": "stdout",
     "output_type": "stream",
     "text": [
      "Sorry,I don't understand that!\n"
     ]
    },
    {
     "name": "stdin",
     "output_type": "stream",
     "text": [
      "> quit\n"
     ]
    }
   ],
   "source": [
    "command = \"\"\n",
    "started = False\n",
    "while True:\n",
    "    command = input(\">\").lower()\n",
    "    if command == \"start\":\n",
    "        if started:\n",
    "            print(\"Can is already started!\")\n",
    "        else:\n",
    "            started = True\n",
    "            print(\"Car started...\")\n",
    "    elif command == \"stop\":\n",
    "        if not started:\n",
    "            print(\"Car is already stopped!\")\n",
    "        else:\n",
    "            started = False\n",
    "            print(\"Car stopped\")\n",
    "    elif command == \"help\":\n",
    "        print(\"\"\"\n",
    "        start - to start the car\n",
    "        stop - to stop the car\n",
    "        quit - to quit\n",
    "        \"\"\")\n",
    "    elif command == \"quit\":\n",
    "        break\n",
    "    else:\n",
    "        print(\"Sorry,I don't understand that!\")"
   ]
  },
  {
   "cell_type": "code",
   "execution_count": 14,
   "id": "efec35ef-504f-43c7-87bd-99179193464a",
   "metadata": {},
   "outputs": [
    {
     "name": "stdout",
     "output_type": "stream",
     "text": [
      "5\n",
      "7\n",
      "9\n"
     ]
    }
   ],
   "source": [
    "for item in range(5,10,2) :\n",
    "    print(item)"
   ]
  },
  {
   "cell_type": "code",
   "execution_count": 15,
   "id": "f98c3b43-0a4b-416c-9ba6-34f40d59d4cb",
   "metadata": {},
   "outputs": [
    {
     "name": "stdout",
     "output_type": "stream",
     "text": [
      "Total: 100\n"
     ]
    }
   ],
   "source": [
    "prices = [10,20,30,40]\n",
    "total = 0\n",
    "for price in prices:\n",
    "    total += price\n",
    "print(f\"Total: {total}\")"
   ]
  },
  {
   "cell_type": "code",
   "execution_count": 18,
   "id": "ee0c93f4-c7c4-4fa8-a479-59e762485b9b",
   "metadata": {},
   "outputs": [
    {
     "name": "stdout",
     "output_type": "stream",
     "text": [
      "(0,0)\n",
      "(0,1)\n",
      "(0,2)\n",
      "(1,0)\n",
      "(1,1)\n",
      "(1,2)\n",
      "(2,0)\n",
      "(2,1)\n",
      "(2,2)\n",
      "(3,0)\n",
      "(3,1)\n",
      "(3,2)\n"
     ]
    }
   ],
   "source": [
    "for x in range(4):\n",
    "    for y in range(3):\n",
    "        print(f'({x},{y})')"
   ]
  },
  {
   "cell_type": "code",
   "execution_count": 39,
   "id": "5122b495-79ab-485e-80f4-e0053adcf3f7",
   "metadata": {},
   "outputs": [
    {
     "name": "stdout",
     "output_type": "stream",
     "text": [
      "xxxxx\n",
      "xx\n",
      "xxxxx\n",
      "xx\n",
      "xx\n"
     ]
    }
   ],
   "source": [
    "#1.First method in nested loop\n",
    "#for x in range(1):\n",
    "#   print('xxxxx') \n",
    "#   for y in range(1):\n",
    "#       print('xx')\n",
    "#       for x in range(1):\n",
    "#           print('xxxxx') \n",
    "#           for y in range(1):\n",
    "#               print('xx')\n",
    "#               for y in range(1):\n",
    "#                   print('xx')\n",
    "            \n",
    "# 2. Second Method \n",
    "# numbers =[5,2,5,2,2]\n",
    "# for x_count in numbers:\n",
    "#     print('x'*x_count)"
   ]
  },
  {
   "cell_type": "code",
   "execution_count": 42,
   "id": "40044127-e5fe-4571-b3a7-a788e79aef9f",
   "metadata": {},
   "outputs": [
    {
     "name": "stdout",
     "output_type": "stream",
     "text": [
      "xxxxx\n",
      "xx\n",
      "xxxxx\n",
      "xx\n",
      "xx\n"
     ]
    }
   ],
   "source": [
    "numbers =[5,2,5,2,2]\n",
    "for x_count in numbers:\n",
    "    print('x'*x_count)"
   ]
  },
  {
   "cell_type": "code",
   "execution_count": 46,
   "id": "82a9cb27-a698-4033-870c-0294dbae8565",
   "metadata": {},
   "outputs": [
    {
     "name": "stdout",
     "output_type": "stream",
     "text": [
      "xxxxx\n",
      "xx\n",
      "xxxxx\n",
      "xx\n",
      "xx\n"
     ]
    }
   ],
   "source": [
    "numbers =[5,2,5,2,2]\n",
    "for x_count in numbers:\n",
    "    output = ''\n",
    "    for count in range(x_count):\n",
    "        output = output + 'x'\n",
    "    print(output)"
   ]
  },
  {
   "cell_type": "code",
   "execution_count": 6,
   "id": "d25280fd-0d1e-4619-9140-5eb04000e451",
   "metadata": {},
   "outputs": [
    {
     "name": "stdout",
     "output_type": "stream",
     "text": [
      "===============\n",
      " The Sorting Hat\n",
      "===============\n",
      "\n",
      "Q1) Do you like Dawn or Dusk?\n",
      "  1) Dawn\n",
      "  2) Dusk\n"
     ]
    },
    {
     "name": "stdin",
     "output_type": "stream",
     "text": [
      "Enter answer (Dawn/Dusk):  dusk\n"
     ]
    },
    {
     "name": "stdout",
     "output_type": "stream",
     "text": [
      "\n",
      "Q2) When I'm dead, I want people to remember me as:\n",
      "  1) The Good\n",
      "  2) The Great\n",
      "  3) The Wise\n",
      "  4) The Bold\n"
     ]
    },
    {
     "name": "stdin",
     "output_type": "stream",
     "text": [
      "Enter your answer (1-4):  1\n"
     ]
    },
    {
     "name": "stdout",
     "output_type": "stream",
     "text": [
      "\n",
      "Q3) Which kind of instrument most pleases your ear?\n",
      "  1) The violin\n",
      "  2) The trumpet\n",
      "  3) The piano\n",
      "  4) The drum\n"
     ]
    },
    {
     "name": "stdin",
     "output_type": "stream",
     "text": [
      "Enter your answer (1-4):  1\n"
     ]
    },
    {
     "name": "stdout",
     "output_type": "stream",
     "text": [
      "\n",
      "Results:\n",
      "Gryffindor:  0\n",
      "Ravenclaw:  0\n",
      "Hufflepuff:  3\n",
      "Slytherin:  5\n",
      "🐍 Slytherin!\n"
     ]
    }
   ],
   "source": [
    "gryffindor = 0\n",
    "hufflepuff = 0\n",
    "ravenclaw = 0\n",
    "slytherin = 0\n",
    "\n",
    "print('===============')\n",
    "print(' The Sorting Hat')\n",
    "print('===============')\n",
    "\n",
    "print('\\nQ1) Do you like Dawn or Dusk?')\n",
    "print('  1) Dawn')\n",
    "print('  2) Dusk')\n",
    "\n",
    "answer = input('Enter answer (Dawn/Dusk): ').strip().lower()\n",
    "\n",
    "if answer == 'dawn':\n",
    "    gryffindor += 1\n",
    "    ravenclaw += 1\n",
    "elif answer == 'dusk':\n",
    "    hufflepuff += 1\n",
    "    slytherin += 1\n",
    "else:\n",
    "    print('Wrong input.')\n",
    "\n",
    "print(\"\\nQ2) When I'm dead, I want people to remember me as:\")\n",
    "print('  1) The Good')\n",
    "print('  2) The Great')\n",
    "print('  3) The Wise')\n",
    "print('  4) The Bold')\n",
    "\n",
    "answer = int(input('Enter your answer (1-4): '))\n",
    "\n",
    "if answer == 1:\n",
    "    hufflepuff += 2\n",
    "elif answer == 2:\n",
    "    slytherin += 2\n",
    "elif answer == 3:\n",
    "    ravenclaw += 2\n",
    "elif answer == 4:\n",
    "    gryffindor += 2\n",
    "else:\n",
    "    print('Wrong input.')\n",
    "\n",
    "print('\\nQ3) Which kind of instrument most pleases your ear?')\n",
    "print('  1) The violin')\n",
    "print('  2) The trumpet')\n",
    "print('  3) The piano')\n",
    "print('  4) The drum')\n",
    "\n",
    "answer = int(input('Enter your answer (1-4): '))\n",
    "\n",
    "if answer == 1:\n",
    "    slytherin += 4\n",
    "elif answer == 2:\n",
    "    hufflepuff += 4\n",
    "elif answer == 3:\n",
    "    ravenclaw += 4\n",
    "elif answer == 4:\n",
    "    gryffindor += 4\n",
    "else:\n",
    "    print('Wrong input.')\n",
    "\n",
    "print(\"\\nResults:\")\n",
    "print(\"Gryffindor: \", gryffindor)\n",
    "print(\"Ravenclaw: \", ravenclaw)\n",
    "print(\"Hufflepuff: \", hufflepuff)\n",
    "print(\"Slytherin: \", slytherin)\n",
    "\n",
    "# Determining the house with the highest score\n",
    "if gryffindor >= ravenclaw and gryffindor >= hufflepuff and gryffindor >= slytherin:\n",
    "    print('🦁 Gryffindor!')\n",
    "elif ravenclaw >= hufflepuff and ravenclaw >= slytherin:\n",
    "    print('🦅 Ravenclaw!')\n",
    "elif hufflepuff >= slytherin:\n",
    "    print('🦡 Hufflepuff!')\n",
    "else:\n",
    "    print('🐍 Slytherin!')\n",
    "\n",
    "\n",
    "\n"
   ]
  },
  {
   "cell_type": "code",
   "execution_count": 14,
   "id": "3a4e7ae7-4e00-4d8a-8f6f-a187355458cb",
   "metadata": {},
   "outputs": [
    {
     "name": "stdout",
     "output_type": "stream",
     "text": [
      "last-digit: 3\n",
      "last-digit: 7\n",
      "last-digit: 8\n",
      "last-digit: 5\n"
     ]
    }
   ],
   "source": [
    "n = 5873\n",
    "num = n\n",
    "if num > 0:\n",
    "    last_digit = num %10\n",
    "    print(\"last-digit:\", last_digit)\n",
    "    num = num//10\n",
    "    if num >0:\n",
    "        last_digit = num %10\n",
    "        print(\"last-digit:\", last_digit)\n",
    "        num = num//10\n",
    "        if num >0:\n",
    "            last_digit = num %10\n",
    "            print(\"last-digit:\", last_digit)\n",
    "            num = num//10\n",
    "        if num >0:\n",
    "            last_digit = num %10\n",
    "            print(\"last-digit:\", last_digit)\n",
    "            num = num//10"
   ]
  },
  {
   "cell_type": "code",
   "execution_count": 15,
   "id": "47e74bf0-3ecd-4175-8fb4-a759b402f423",
   "metadata": {},
   "outputs": [
    {
     "name": "stdout",
     "output_type": "stream",
     "text": [
      "last-digit: 3\n",
      "last-digit: 7\n",
      "last-digit: 8\n",
      "last-digit: 5\n"
     ]
    }
   ],
   "source": [
    "n = 5873\n",
    "num = n\n",
    "\n",
    "while num > 0:\n",
    "    last_digit = num % 10\n",
    "    print(\"last-digit:\", last_digit)\n",
    "    num = num // 10"
   ]
  },
  {
   "cell_type": "code",
   "execution_count": null,
   "id": "88f06fd4-af7b-4e57-9fbe-36b9b64526d0",
   "metadata": {},
   "outputs": [],
   "source": [
    "n = 5873\n",
    "num = n\n",
    "count = 0\n",
    "while num > 0:\n",
    "    count+=1\n",
    "    last_digit = num % 10\n",
    "    print(\"last-digit:\", last_digit)\n",
    "    num = num // 10\n",
    "print(\"Total digits:\", count)"
   ]
  },
  {
   "cell_type": "code",
   "execution_count": 1,
   "id": "2aba0561-201e-456d-91bc-83dafdf3c1e7",
   "metadata": {},
   "outputs": [],
   "source": [
    "from math import *\n",
    "def countdigits(num):\n",
    "    return int(log10(num)+1)"
   ]
  },
  {
   "cell_type": "code",
   "execution_count": null,
   "id": "48b43fdc-bccc-4e0d-9ed8-6aaf9d102f91",
   "metadata": {},
   "outputs": [],
   "source": []
  }
 ],
 "metadata": {
  "kernelspec": {
   "display_name": "Python 3 (ipykernel)",
   "language": "python",
   "name": "python3"
  },
  "language_info": {
   "codemirror_mode": {
    "name": "ipython",
    "version": 3
   },
   "file_extension": ".py",
   "mimetype": "text/x-python",
   "name": "python",
   "nbconvert_exporter": "python",
   "pygments_lexer": "ipython3",
   "version": "3.13.2"
  }
 },
 "nbformat": 4,
 "nbformat_minor": 5
}
