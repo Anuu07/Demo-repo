{
 "cells": [
  {
   "cell_type": "code",
   "execution_count": 2,
   "id": "485bdbcb-1674-42a0-9653-6ba00b1d036d",
   "metadata": {},
   "outputs": [
    {
     "name": "stdout",
     "output_type": "stream",
     "text": [
      "ravi\n"
     ]
    }
   ],
   "source": [
    "d={100:'ideal',200:'ravi',300:'shiva'}\n",
    "print(d[200])"
   ]
  },
  {
   "cell_type": "code",
   "execution_count": 6,
   "id": "a6014f06-64f9-4b7b-81ca-5dbd43cc5e30",
   "metadata": {},
   "outputs": [],
   "source": [
    "d={100:'ideal',200:'ravi',300:'shiva'}\n",
    "if 400 in d:\n",
    "    print(d[400])"
   ]
  },
  {
   "cell_type": "code",
   "execution_count": 8,
   "id": "05039641-4026-4fb1-9643-30951f8a78a5",
   "metadata": {},
   "outputs": [
    {
     "name": "stdin",
     "output_type": "stream",
     "text": [
      "Enter number of students: 6\n",
      "Enter Students Name: Anushree\n",
      "Enter % of Marks of Students: 83\n",
      "Enter Students Name: Ankita\n",
      "Enter % of Marks of Students: 83\n",
      "Enter Students Name: Nigar\n",
      "Enter % of Marks of Students: 83\n",
      "Enter Students Name: Manvi\n",
      "Enter % of Marks of Students: 83\n",
      "Enter Students Name: Anu\n",
      "Enter % of Marks of Students: 83\n",
      "Enter Students Name: Anku\n",
      "Enter % of Marks of Students: 83\n"
     ]
    },
    {
     "name": "stdout",
     "output_type": "stream",
     "text": [
      "Name of Students \t % of marks \n",
      "\t Anushree \t\t 83\n",
      "\t Ankita \t\t 83\n",
      "\t Nigar \t\t 83\n",
      "\t Manvi \t\t 83\n",
      "\t Anu \t\t 83\n",
      "\t Anku \t\t 83\n"
     ]
    }
   ],
   "source": [
    "rec={}\n",
    "n=int(input(\"Enter number of students:\"))\n",
    "i=1\n",
    "while i<=n:\n",
    "    name=input(\"Enter Students Name:\")\n",
    "    marks=input(\"Enter % of Marks of Students:\")\n",
    "    rec[name]=marks\n",
    "    i=i+1\n",
    "print(\"Name of Students\",\"\\t\",\"% of marks \")\n",
    "for x in rec:\n",
    "    print(\"\\t\",x,\"\\t\\t\",rec[x])"
   ]
  },
  {
   "cell_type": "code",
   "execution_count": 9,
   "id": "e6b6b3a3-bace-4d3a-9182-f40a9fca184d",
   "metadata": {},
   "outputs": [
    {
     "name": "stdout",
     "output_type": "stream",
     "text": [
      "{100: 'ideal', 200: 'ravi', 300: 'shiva'}\n",
      "{100: 'ideal', 200: 'ravi', 300: 'shiva', 400: 'Pavan'}\n",
      "{100: 'Amit', 200: 'ravi', 300: 'shiva', 400: 'Pavan'}\n"
     ]
    }
   ],
   "source": [
    "d={100:\"ideal\",200:\"ravi\",300:\"shiva\"}\n",
    "print(d)\n",
    "d[400]=\"Pavan\"\n",
    "print(d)\n",
    "d[100]=\"Amit\"\n",
    "print(d)"
   ]
  },
  {
   "cell_type": "code",
   "execution_count": 1,
   "id": "48faa864-a1ae-4d32-a976-9bc67afd65bd",
   "metadata": {},
   "outputs": [
    {
     "name": "stdout",
     "output_type": "stream",
     "text": [
      "ideal\n",
      "{200: 'ravi', 300: 'shiva'}\n"
     ]
    },
    {
     "ename": "KeyError",
     "evalue": "400",
     "output_type": "error",
     "traceback": [
      "\u001b[31m---------------------------------------------------------------------------\u001b[39m",
      "\u001b[31mKeyError\u001b[39m                                  Traceback (most recent call last)",
      "\u001b[36mCell\u001b[39m\u001b[36m \u001b[39m\u001b[32mIn[1]\u001b[39m\u001b[32m, line 4\u001b[39m\n\u001b[32m      2\u001b[39m \u001b[38;5;28mprint\u001b[39m(d.pop(\u001b[32m100\u001b[39m))\n\u001b[32m      3\u001b[39m \u001b[38;5;28mprint\u001b[39m(d)\n\u001b[32m----> \u001b[39m\u001b[32m4\u001b[39m \u001b[38;5;28mprint\u001b[39m(\u001b[43md\u001b[49m\u001b[43m.\u001b[49m\u001b[43mpop\u001b[49m\u001b[43m(\u001b[49m\u001b[32;43m400\u001b[39;49m\u001b[43m)\u001b[49m)\n",
      "\u001b[31mKeyError\u001b[39m: 400"
     ]
    }
   ],
   "source": [
    "d={100:\"ideal\",200:\"ravi\",300:\"shiva\"}\n",
    "print(d.pop(100))\n",
    "print(d)\n",
    "print(d.pop(400))\n"
   ]
  },
  {
   "cell_type": "code",
   "execution_count": null,
   "id": "be4f83b8-0ee4-4410-bfb9-1bcbcb1e733c",
   "metadata": {},
   "outputs": [],
   "source": [
    "d={100:\"ideal\",200:\"ravi\",300:\"shiva\"}\n",
    "print(d[100])\n",
    "print(d[400])\n",
    "print(d.pop(400))"
   ]
  },
  {
   "cell_type": "code",
   "execution_count": 2,
   "id": "1836374d-8d59-4aa4-9eaf-41704f00857f",
   "metadata": {},
   "outputs": [
    {
     "name": "stdout",
     "output_type": "stream",
     "text": [
      "{100: 'ideal', 200: 'ravi', 300: 'shiva'}\n",
      "(300, 'shiva')\n",
      "{100: 'ideal', 200: 'ravi'}\n"
     ]
    }
   ],
   "source": [
    "d={100:\"ideal\",200:\"ravi\",300:\"shiva\"}\n",
    "print(d)\n",
    "print(d.popitem())\n",
    "print(d)"
   ]
  },
  {
   "cell_type": "code",
   "execution_count": 4,
   "id": "2d378396-da5f-4bf1-8647-a1e92d236f8c",
   "metadata": {},
   "outputs": [
    {
     "name": "stdout",
     "output_type": "stream",
     "text": [
      "dict_keys([100, 200, 300])\n",
      "100\n",
      "200\n",
      "300\n"
     ]
    }
   ],
   "source": [
    "d={100:\"ideal\",200:\"ravi\",300:\"shiva\"}\n",
    "print(d.keys())\n",
    "for k in d.keys():\n",
    "    \n",
    "    print(k)"
   ]
  },
  {
   "cell_type": "code",
   "execution_count": 5,
   "id": "703388fc-bc04-419a-81bd-724d73f1b72c",
   "metadata": {},
   "outputs": [
    {
     "name": "stdout",
     "output_type": "stream",
     "text": [
      "dict_values(['ideal', 'ravi', 'shiva'])\n",
      "ideal\n",
      "ravi\n",
      "shiva\n"
     ]
    }
   ],
   "source": [
    "d={100:\"ideal\",200:\"ravi\",300:\"shiva\"}\n",
    "print(d.values())\n",
    "for v in d.values():\n",
    "    \n",
    "    print(v)"
   ]
  },
  {
   "cell_type": "code",
   "execution_count": 6,
   "id": "c18a1d42-740f-489e-97f9-0914df30568c",
   "metadata": {},
   "outputs": [
    {
     "name": "stdout",
     "output_type": "stream",
     "text": [
      "100 -- ideal\n",
      "200 -- ravi\n",
      "300 -- shiva\n"
     ]
    }
   ],
   "source": [
    "d={100:\"ideal\",200:\"ravi\",300:\"shiva\"}\n",
    "for k,v in d.items():\n",
    "    print(k,\"--\",v)"
   ]
  },
  {
   "cell_type": "code",
   "execution_count": 7,
   "id": "d6b5226b-7103-42bf-85ff-b1e41fb15b44",
   "metadata": {},
   "outputs": [
    {
     "name": "stdout",
     "output_type": "stream",
     "text": [
      "pavan\n",
      "{100: 'ideal', 200: 'ravi', 300: 'shiva', 400: 'pavan'}\n",
      "ideal\n",
      "{100: 'ideal', 200: 'ravi', 300: 'shiva', 400: 'pavan'}\n"
     ]
    }
   ],
   "source": [
    "d={100:\"ideal\",200:\"ravi\",300:\"shiva\"}\n",
    "print(d.setdefault(400,\"pavan\"))\n",
    "print(d)\n",
    "print(d.setdefault(100,\"sachin\"))\n",
    "print(d)"
   ]
  },
  {
   "cell_type": "code",
   "execution_count": 10,
   "id": "5f029d29-0681-40df-94f9-95d60283aa82",
   "metadata": {},
   "outputs": [
    {
     "name": "stdin",
     "output_type": "stream",
     "text": [
      "Enter Dictionary: {'A':100,'B':200,'C':300}\n"
     ]
    },
    {
     "name": "stdout",
     "output_type": "stream",
     "text": [
      "Sum= 600\n"
     ]
    }
   ],
   "source": [
    "d=eval(input(\"Enter Dictionary:\"))\n",
    "s=sum(d.values())\n",
    "print(\"Sum=\",s)"
   ]
  },
  {
   "cell_type": "code",
   "execution_count": 11,
   "id": "8a2796be-40a7-40b2-b651-c5d86ea9bac5",
   "metadata": {},
   "outputs": [
    {
     "name": "stdin",
     "output_type": "stream",
     "text": [
      "Enter any word: Anuuushreeee\n"
     ]
    },
    {
     "name": "stdout",
     "output_type": "stream",
     "text": [
      "A occured 1 times\n",
      "n occured 1 times\n",
      "u occured 3 times\n",
      "s occured 1 times\n",
      "h occured 1 times\n",
      "r occured 1 times\n",
      "e occured 4 times\n"
     ]
    }
   ],
   "source": [
    "word=input(\"Enter any word:\")\n",
    "d={}\n",
    "for x in word:\n",
    "    d[x]=d.get(x,0)+1# to get repetitions\n",
    "for k,v in d.items():\n",
    "    print(k,\"occured\",v,\"times\")"
   ]
  },
  {
   "cell_type": "markdown",
   "id": "63d7afca-2316-4ce0-be95-0d3e0510413f",
   "metadata": {},
   "source": []
  },
  {
   "cell_type": "code",
   "execution_count": 13,
   "id": "163d04dc-396b-4fea-a52e-56fee11fe048",
   "metadata": {},
   "outputs": [
    {
     "name": "stdin",
     "output_type": "stream",
     "text": [
      "Enter any word: abdcad\n"
     ]
    },
    {
     "name": "stdout",
     "output_type": "stream",
     "text": [
      "4\n"
     ]
    }
   ],
   "source": [
    "word=input(\"Enter any word:\")\n",
    "d={}\n",
    "for x in word:\n",
    "    d[x]=d.get(x,0)+1\n",
    "sum=0\n",
    "for v in d.values():\n",
    "    if v%2==0:\n",
    "        sum=sum+v\n",
    "print(sum)"
   ]
  },
  {
   "cell_type": "code",
   "execution_count": 15,
   "id": "c280a558-55a7-47f0-98a8-2c76db737a42",
   "metadata": {},
   "outputs": [
    {
     "name": "stdin",
     "output_type": "stream",
     "text": [
      "Enter any word: Anushree\n"
     ]
    },
    {
     "name": "stdout",
     "output_type": "stream",
     "text": [
      "{'u': 1, 'e': 2}\n"
     ]
    }
   ],
   "source": [
    "word=input(\"Enter any word:\")\n",
    "vowels={'a','e','i','o','u'}\n",
    "d={}\n",
    "for x in word:\n",
    "    if x in vowels:\n",
    "        d[x]=d.get(x,0)+1\n",
    "print(d)"
   ]
  },
  {
   "cell_type": "code",
   "execution_count": null,
   "id": "d8ff005f-d3ac-4a13-bb64-ea7f15952c1f",
   "metadata": {},
   "outputs": [
    {
     "name": "stdin",
     "output_type": "stream",
     "text": [
      "Enter the number of students: 4\n",
      "Enter student Name: Anushree\n",
      "Enter students Marks 85\n",
      "Enter student Name: Ankita\n",
      "Enter students Marks 85\n",
      "Enter student Name: Samiksha\n",
      "Enter students Marks 85\n",
      "Enter student Name: Nigar\n",
      "Enter students Marks 85\n",
      "Enter student Name to get Marks: Anushree\n"
     ]
    },
    {
     "name": "stdout",
     "output_type": "stream",
     "text": [
      "The Marks of Anushree are 85\n"
     ]
    }
   ],
   "source": [
    "n=int(input(\"Enter the number of students:\"))\n",
    "d={}\n",
    "for i in range(n):\n",
    "    name=input(\"Enter student Name:\")\n",
    "    marks=input(\"Enter students Marks\")\n",
    "    d[name]=marks\n",
    "while True:\n",
    "    name=input(\"Enter student Name to get Marks:\")\n",
    "    marks=d.get(name,-1)\n",
    "    if marks== -1:\n",
    "        print(\"Student Not Found\")\n",
    "    else:\n",
    "        print(\"The Marks of\",name,\"are\",marks)\n",
    "option=input(\"Do you want to find another student marks[Yes|No]\")\n",
    "if option==\"No\":\n",
    "    break\n",
    "print(\"Thanks for using our application\")\n",
    "    "
   ]
  },
  {
   "cell_type": "code",
   "execution_count": null,
   "id": "10a5eda5-3d41-4381-b39d-a02c8c6ddae5",
   "metadata": {},
   "outputs": [],
   "source": []
  }
 ],
 "metadata": {
  "kernelspec": {
   "display_name": "Python 3 (ipykernel)",
   "language": "python",
   "name": "python3"
  },
  "language_info": {
   "codemirror_mode": {
    "name": "ipython",
    "version": 3
   },
   "file_extension": ".py",
   "mimetype": "text/x-python",
   "name": "python",
   "nbconvert_exporter": "python",
   "pygments_lexer": "ipython3",
   "version": "3.13.2"
  }
 },
 "nbformat": 4,
 "nbformat_minor": 5
}
