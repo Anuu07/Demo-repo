{
 "cells": [
  {
   "cell_type": "code",
   "execution_count": 1,
   "id": "ca27b2df-7587-4351-8a55-2b5ae8e193fc",
   "metadata": {},
   "outputs": [],
   "source": [
    "import tkinter as tk \n",
    "def convert_temperature(): \n",
    "    temperature = float(entry.get()) \n",
    "    if var.get() == 0:  # Convert from Fahrenheit to Celsius \n",
    "        result.set((temperature - 32) * 5/9) \n",
    "    else:  # Convert from Celsius to Fahrenheit \n",
    "        result.set(temperature * 9/5 + 32) \n",
    "\n",
    "root = tk.Tk() \n",
    "root.title(\"Temperature Converter\") \n",
    "# Create Entry widget for temperature input \n",
    "entry = tk.Entry(root) \n",
    "entry.pack() \n",
    "# Create radio buttons for conversion direction \n",
    "var = tk.IntVar() \n",
    "fahrenheit_to_celsius = tk.Radiobutton(root, text=\"Fahrenheit to Celsius\", variable=var, value=0) \n",
    "celsius_to_fahrenheit = tk.Radiobutton(root, text=\"Celsius to Fahrenheit\", variable=var, value=1) \n",
    "fahrenheit_to_celsius.pack() \n",
    "celsius_to_fahrenheit.pack() \n",
    "# Create a Button widget to perform the conversion \n",
    "convert_button = tk.Button(root, text=\"Convert\", command=convert_temperature) \n",
    "convert_button.pack() \n",
    "# Create a StringVar to display the result \n",
    "result = tk.StringVar() \n",
    "result_label = tk.Label(root, textvariable=result) \n",
    "result_label.pack() \n",
    "# Start the main event loop \n",
    "root.mainloop()"
   ]
  },
  {
   "cell_type": "code",
   "execution_count": null,
   "id": "36e2dac3-6fdc-4d3b-832f-15c61c2326d0",
   "metadata": {},
   "outputs": [],
   "source": []
  }
 ],
 "metadata": {
  "kernelspec": {
   "display_name": "Python 3 (ipykernel)",
   "language": "python",
   "name": "python3"
  },
  "language_info": {
   "codemirror_mode": {
    "name": "ipython",
    "version": 3
   },
   "file_extension": ".py",
   "mimetype": "text/x-python",
   "name": "python",
   "nbconvert_exporter": "python",
   "pygments_lexer": "ipython3",
   "version": "3.13.2"
  }
 },
 "nbformat": 4,
 "nbformat_minor": 5
}
