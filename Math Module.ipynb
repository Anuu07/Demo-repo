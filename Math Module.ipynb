{
 "cells": [
  {
   "cell_type": "code",
   "execution_count": 1,
   "id": "b5e65105-0e90-47db-8e41-f09793899ce1",
   "metadata": {},
   "outputs": [
    {
     "name": "stdout",
     "output_type": "stream",
     "text": [
      "4.0\n",
      "3.141592653589793\n"
     ]
    }
   ],
   "source": [
    "import math# 1st way of imorting  module\n",
    "print(math.sqrt(16))\n",
    "print(math.pi)"
   ]
  },
  {
   "cell_type": "code",
   "execution_count": 5,
   "id": "755e0813-ad80-4ce9-a88a-2f3862e0c01a",
   "metadata": {},
   "outputs": [
    {
     "name": "stdout",
     "output_type": "stream",
     "text": [
      "4.0\n",
      "3.141592653589793\n"
     ]
    }
   ],
   "source": [
    "import math as m #2nd way\n",
    "print(m.sqrt(16)) \n",
    "print(m.pi)"
   ]
  },
  {
   "cell_type": "code",
   "execution_count": 7,
   "id": "78ab38c7-2031-44d6-aa67-5f621160b039",
   "metadata": {},
   "outputs": [
    {
     "name": "stdout",
     "output_type": "stream",
     "text": [
      "4.0\n",
      "3.141592653589793\n",
      "3.141592653589793\n"
     ]
    }
   ],
   "source": [
    "from math import sqrt,pi#3rd way\n",
    "print(sqrt(16))\n",
    "print(pi)\n",
    "print(math.pi)"
   ]
  },
  {
   "cell_type": "code",
   "execution_count": 8,
   "id": "9513af00-c57a-4b3a-9300-3118890e0c49",
   "metadata": {},
   "outputs": [
    {
     "data": {
      "text/plain": [
       "120"
      ]
     },
     "execution_count": 8,
     "metadata": {},
     "output_type": "execute_result"
    }
   ],
   "source": [
    "math.factorial(5)"
   ]
  },
  {
   "cell_type": "code",
   "execution_count": null,
   "id": "3cb648b3-abdf-450e-9ab4-0fd69d609e08",
   "metadata": {},
   "outputs": [],
   "source": [
    "#inf=infinity\n",
    "#nan= not a number"
   ]
  },
  {
   "cell_type": "code",
   "execution_count": 13,
   "id": "ab041f52-3a40-4360-850a-2238e81c77c0",
   "metadata": {},
   "outputs": [
    {
     "name": "stdout",
     "output_type": "stream",
     "text": [
      "Area of a circle is: 804.247719318987\n"
     ]
    }
   ],
   "source": [
    "# Q1 write a python program to find area of a circle\n",
    "from math import pi\n",
    "r=16\n",
    "print(\"Area of a circle is:\",pi*r*r)"
   ]
  },
  {
   "cell_type": "code",
   "execution_count": null,
   "id": "bfb0482c-22cb-4211-b5c7-0d4e30fce2ab",
   "metadata": {},
   "outputs": [],
   "source": []
  }
 ],
 "metadata": {
  "kernelspec": {
   "display_name": "Python 3 (ipykernel)",
   "language": "python",
   "name": "python3"
  },
  "language_info": {
   "codemirror_mode": {
    "name": "ipython",
    "version": 3
   },
   "file_extension": ".py",
   "mimetype": "text/x-python",
   "name": "python",
   "nbconvert_exporter": "python",
   "pygments_lexer": "ipython3",
   "version": "3.13.2"
  }
 },
 "nbformat": 4,
 "nbformat_minor": 5
}
