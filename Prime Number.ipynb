{
 "cells": [
  {
   "cell_type": "code",
   "execution_count": 1,
   "id": "b2209002-f29f-46ca-b6d4-e48a6cd9ed75",
   "metadata": {},
   "outputs": [
    {
     "name": "stdout",
     "output_type": "stream",
     "text": [
      "2357"
     ]
    }
   ],
   "source": [
    "def seive(n) :\n",
    "    \n",
    "    primes = [True] * (n + 1)\n",
    "    primes[0]  = primes[1] = False\n",
    "\n",
    "    for i in range(2, n + 1):\n",
    "        if primes[i]:\n",
    "            for j in range(i * 2 , n+1 , i):\n",
    "                primes[j] =False\n",
    "    for i in range(n+1):\n",
    "        if primes[i]:\n",
    "            print(i,end=' ')\n",
    "\n",
    "seive(10)"
   ]
  },
  {
   "cell_type": "code",
   "execution_count": null,
   "id": "f83291aa-a190-4d03-b5ae-6bed0a34ca21",
   "metadata": {},
   "outputs": [],
   "source": []
  }
 ],
 "metadata": {
  "kernelspec": {
   "display_name": "Python 3 (ipykernel)",
   "language": "python",
   "name": "python3"
  },
  "language_info": {
   "codemirror_mode": {
    "name": "ipython",
    "version": 3
   },
   "file_extension": ".py",
   "mimetype": "text/x-python",
   "name": "python",
   "nbconvert_exporter": "python",
   "pygments_lexer": "ipython3",
   "version": "3.13.2"
  }
 },
 "nbformat": 4,
 "nbformat_minor": 5
}
