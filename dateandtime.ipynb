{
 "cells": [
  {
   "cell_type": "code",
   "execution_count": 1,
   "id": "b564211e-0df4-46d2-ae0c-b42ed8d52561",
   "metadata": {},
   "outputs": [
    {
     "name": "stdout",
     "output_type": "stream",
     "text": [
      "Todays date is : 2025-07-22\n"
     ]
    }
   ],
   "source": [
    "import datetime#import the library\n",
    "#print todays date\n",
    "#today() ---> date ---> datetime lib\n",
    "print(\"Todays date is :\",datetime.date.today())"
   ]
  },
  {
   "cell_type": "code",
   "execution_count": 2,
   "id": "fea22fd9-c534-4313-aa52-7a6fbbed6fbd",
   "metadata": {},
   "outputs": [
    {
     "name": "stdout",
     "output_type": "stream",
     "text": [
      "2025-07-22\n",
      "<class 'type'>\n"
     ]
    }
   ],
   "source": [
    "currentdate=datetime.date.today()\n",
    "print(currentdate)\n",
    "print(type)\n",
    "pass"
   ]
  },
  {
   "cell_type": "code",
   "execution_count": 4,
   "id": "ffd46f4a-a544-4165-9863-bf39dba6f484",
   "metadata": {},
   "outputs": [
    {
     "name": "stdout",
     "output_type": "stream",
     "text": [
      "year is : 2025\n",
      "year is : 7\n",
      "year is : 22\n"
     ]
    }
   ],
   "source": [
    "import datetime\n",
    "currentdate=datetime.date.today()\n",
    "print(\"year is :\",currentdate.year)\n",
    "print(\"year is :\",currentdate.month)\n",
    "print(\"year is :\",currentdate.day)"
   ]
  },
  {
   "cell_type": "code",
   "execution_count": 9,
   "id": "3cc707fd-188b-4abb-95b4-e8a1a9e627f5",
   "metadata": {},
   "outputs": [
    {
     "data": {
      "text/plain": [
       "'22 Jul, 25'"
      ]
     },
     "execution_count": 9,
     "metadata": {},
     "output_type": "execute_result"
    }
   ],
   "source": [
    "import datetime\n",
    "currentdate=datetime.date.today()\n",
    "currentdate.strftime(\"%d %b, %y\")"
   ]
  },
  {
   "cell_type": "code",
   "execution_count": 15,
   "id": "8f3098a2-3879-4cde-8f64-c4bf5d1ab78e",
   "metadata": {},
   "outputs": [
    {
     "name": "stdout",
     "output_type": "stream",
     "text": [
      "Tuesday,2,25\n"
     ]
    }
   ],
   "source": [
    "import datetime\n",
    "currentdate=datetime.date.today()\n",
    "d ='01-08-2022'#str\n",
    "print(currentdate.strftime(\"%A,%w,%y\"))"
   ]
  },
  {
   "cell_type": "code",
   "execution_count": 16,
   "id": "e63b74c7-c9e6-40e9-b029-a7d286694e5d",
   "metadata": {},
   "outputs": [
    {
     "name": "stdout",
     "output_type": "stream",
     "text": [
      "Weak number of the year : 29\n",
      "Day of the year : 203\n"
     ]
    }
   ],
   "source": [
    "print(\"Weak number of the year :\" , currentdate.strftime('%U'))\n",
    "print(\"Day of the year :\", currentdate.strftime(\"%j\"))"
   ]
  },
  {
   "cell_type": "code",
   "execution_count": 42,
   "id": "c9b92419-4b7e-415d-ad12-588b3bf56ef4",
   "metadata": {},
   "outputs": [
    {
     "ename": "ValueError",
     "evalue": "time data '12-05-25  10:28:09.523' does not match format ' %d-%m-%Y  %H:%M:%S.%f:'",
     "output_type": "error",
     "traceback": [
      "\u001b[31m---------------------------------------------------------------------------\u001b[39m",
      "\u001b[31mValueError\u001b[39m                                Traceback (most recent call last)",
      "\u001b[36mCell\u001b[39m\u001b[36m \u001b[39m\u001b[32mIn[42]\u001b[39m\u001b[32m, line 6\u001b[39m\n\u001b[32m      3\u001b[39m date_time=\u001b[33m\"\u001b[39m\u001b[33m12-05-25  10:28:9.523\u001b[39m\u001b[33m\"\u001b[39m\n\u001b[32m      4\u001b[39m format_dt = \u001b[33m\"\u001b[39m\u001b[33m \u001b[39m\u001b[38;5;132;01m%d\u001b[39;00m\u001b[33m-\u001b[39m\u001b[33m%\u001b[39m\u001b[33mm-\u001b[39m\u001b[33m%\u001b[39m\u001b[33mY  \u001b[39m\u001b[33m%\u001b[39m\u001b[33mH:\u001b[39m\u001b[33m%\u001b[39m\u001b[33mM:\u001b[39m\u001b[33m%\u001b[39m\u001b[33mS.\u001b[39m\u001b[38;5;132;01m%f\u001b[39;00m\u001b[33m:\u001b[39m\u001b[33m\"\u001b[39m\n\u001b[32m----> \u001b[39m\u001b[32m6\u001b[39m myDate = \u001b[43mdatetime\u001b[49m\u001b[43m.\u001b[49m\u001b[43mdatetime\u001b[49m\u001b[43m.\u001b[49m\u001b[43mstrptime\u001b[49m\u001b[43m(\u001b[49m\u001b[43mdate_time_fixed\u001b[49m\u001b[43m,\u001b[49m\u001b[43m \u001b[49m\u001b[43mformat_dt\u001b[49m\u001b[43m)\u001b[49m\n\u001b[32m      7\u001b[39m \u001b[38;5;28mprint\u001b[39m(myDate)\n\u001b[32m      8\u001b[39m \u001b[38;5;28mprint\u001b[39m(\u001b[38;5;28mtype\u001b[39m(myDate))\u001b[38;5;66;03m#datetime object\u001b[39;00m\n",
      "\u001b[36mFile \u001b[39m\u001b[32mC:\\Python313\\Lib\\_strptime.py:674\u001b[39m, in \u001b[36m_strptime_datetime\u001b[39m\u001b[34m(cls, data_string, format)\u001b[39m\n\u001b[32m    671\u001b[39m \u001b[38;5;28;01mdef\u001b[39;00m\u001b[38;5;250m \u001b[39m\u001b[34m_strptime_datetime\u001b[39m(\u001b[38;5;28mcls\u001b[39m, data_string, \u001b[38;5;28mformat\u001b[39m=\u001b[33m\"\u001b[39m\u001b[38;5;132;01m%a\u001b[39;00m\u001b[33m \u001b[39m\u001b[33m%\u001b[39m\u001b[33mb \u001b[39m\u001b[38;5;132;01m%d\u001b[39;00m\u001b[33m \u001b[39m\u001b[33m%\u001b[39m\u001b[33mH:\u001b[39m\u001b[33m%\u001b[39m\u001b[33mM:\u001b[39m\u001b[33m%\u001b[39m\u001b[33mS \u001b[39m\u001b[33m%\u001b[39m\u001b[33mY\u001b[39m\u001b[33m\"\u001b[39m):\n\u001b[32m    672\u001b[39m \u001b[38;5;250m    \u001b[39m\u001b[33;03m\"\"\"Return a class cls instance based on the input string and the\u001b[39;00m\n\u001b[32m    673\u001b[39m \u001b[33;03m    format string.\"\"\"\u001b[39;00m\n\u001b[32m--> \u001b[39m\u001b[32m674\u001b[39m     tt, fraction, gmtoff_fraction = \u001b[43m_strptime\u001b[49m\u001b[43m(\u001b[49m\u001b[43mdata_string\u001b[49m\u001b[43m,\u001b[49m\u001b[43m \u001b[49m\u001b[38;5;28;43mformat\u001b[39;49m\u001b[43m)\u001b[49m\n\u001b[32m    675\u001b[39m     tzname, gmtoff = tt[-\u001b[32m2\u001b[39m:]\n\u001b[32m    676\u001b[39m     args = tt[:\u001b[32m6\u001b[39m] + (fraction,)\n",
      "\u001b[36mFile \u001b[39m\u001b[32mC:\\Python313\\Lib\\_strptime.py:453\u001b[39m, in \u001b[36m_strptime\u001b[39m\u001b[34m(data_string, format)\u001b[39m\n\u001b[32m    451\u001b[39m found = format_regex.match(data_string)\n\u001b[32m    452\u001b[39m \u001b[38;5;28;01mif\u001b[39;00m \u001b[38;5;129;01mnot\u001b[39;00m found:\n\u001b[32m--> \u001b[39m\u001b[32m453\u001b[39m     \u001b[38;5;28;01mraise\u001b[39;00m \u001b[38;5;167;01mValueError\u001b[39;00m(\u001b[33m\"\u001b[39m\u001b[33mtime data \u001b[39m\u001b[38;5;132;01m%r\u001b[39;00m\u001b[33m does not match format \u001b[39m\u001b[38;5;132;01m%r\u001b[39;00m\u001b[33m\"\u001b[39m %\n\u001b[32m    454\u001b[39m                      (data_string, \u001b[38;5;28mformat\u001b[39m))\n\u001b[32m    455\u001b[39m \u001b[38;5;28;01mif\u001b[39;00m \u001b[38;5;28mlen\u001b[39m(data_string) != found.end():\n\u001b[32m    456\u001b[39m     \u001b[38;5;28;01mraise\u001b[39;00m \u001b[38;5;167;01mValueError\u001b[39;00m(\u001b[33m\"\u001b[39m\u001b[33munconverted data remains: \u001b[39m\u001b[38;5;132;01m%s\u001b[39;00m\u001b[33m\"\u001b[39m %\n\u001b[32m    457\u001b[39m                       data_string[found.end():])\n",
      "\u001b[31mValueError\u001b[39m: time data '12-05-25  10:28:09.523' does not match format ' %d-%m-%Y  %H:%M:%S.%f:'"
     ]
    }
   ],
   "source": [
    "#H= 24hr colck\n",
    "import datetime\n",
    "date_time=\"12-05-25  10:28:9.523\"\n",
    "format_dt = \" %d-%m-%Y  %H:%M:%S.%f:\"\n",
    "\n",
    "myDate = datetime.datetime.strptime(date_time_fixed, format_dt)\n",
    "print(myDate)\n",
    "print(type(myDate))#datetime object\n",
    "print(\"Year is:\",myDate.year)\n",
    "print(\"Month is:\",myDate.month)\n",
    "print(\"Day is:\",myDate.day)\n",
    "print(myDate.microsecond)"
   ]
  },
  {
   "cell_type": "code",
   "execution_count": 39,
   "id": "967e711d-a71c-4b99-9938-5da9393fee39",
   "metadata": {},
   "outputs": [
    {
     "name": "stdout",
     "output_type": "stream",
     "text": [
      "2025-05-12 10:28:09.523000\n",
      "<class 'datetime.datetime'>\n",
      "Year is: 2025\n",
      "Month is: 5\n",
      "Day is: 12\n",
      "Microsecond is: 523000\n"
     ]
    }
   ],
   "source": [
    "import datetime\n",
    "\n",
    "date_time = \"12-05-25  10:28:9.523\"\n",
    "\n",
    "# Correct format string\n",
    "format_dt = \"%d-%m-%y  %H:%M:%S.%f\"\n",
    "\n",
    "# Parse datetime\n",
    "myDate = datetime.datetime.strptime(date_time_fixed, format_dt)\n",
    "\n",
    "# Output\n",
    "print(myDate)\n",
    "print(type(myDate))  # <class 'datetime.datetime'>\n",
    "print(\"Year is:\", myDate.year)\n",
    "print(\"Month is:\", myDate.month)\n",
    "print(\"Day is:\", myDate.day)\n",
    "print(\"Microsecond is:\", myDate.microsecond)"
   ]
  },
  {
   "cell_type": "code",
   "execution_count": 33,
   "id": "74e0b854-dd56-4b67-bc42-501cf47656f5",
   "metadata": {},
   "outputs": [
    {
     "name": "stdin",
     "output_type": "stream",
     "text": [
      "Enter Date of birth(dd/mm/yyyy): 31 05 2004\n"
     ]
    },
    {
     "name": "stdout",
     "output_type": "stream",
     "text": [
      "<class 'datetime.datetime'>\n",
      "21\n"
     ]
    }
   ],
   "source": [
    "import datetime\n",
    "date_time = input(\"Enter Date of birth(dd/mm/yyyy):\")\n",
    "format_dt = '%d %m %Y'\n",
    "dob = datetime.datetime.strptime(date_time, format_dt)\n",
    "print(type(dob))\n",
    "currentdate=datetime.date.today()\n",
    "age = currentdate.year-dob.year\n",
    "print(age)"
   ]
  },
  {
   "cell_type": "code",
   "execution_count": 40,
   "id": "ebe73711-12fd-47ff-88c3-77d081556957",
   "metadata": {},
   "outputs": [
    {
     "data": {
      "text/plain": [
       "['__add__',\n",
       " '__class__',\n",
       " '__delattr__',\n",
       " '__dir__',\n",
       " '__doc__',\n",
       " '__eq__',\n",
       " '__format__',\n",
       " '__ge__',\n",
       " '__getattribute__',\n",
       " '__getstate__',\n",
       " '__gt__',\n",
       " '__hash__',\n",
       " '__init__',\n",
       " '__init_subclass__',\n",
       " '__le__',\n",
       " '__lt__',\n",
       " '__ne__',\n",
       " '__new__',\n",
       " '__radd__',\n",
       " '__reduce__',\n",
       " '__reduce_ex__',\n",
       " '__replace__',\n",
       " '__repr__',\n",
       " '__rsub__',\n",
       " '__setattr__',\n",
       " '__sizeof__',\n",
       " '__str__',\n",
       " '__sub__',\n",
       " '__subclasshook__',\n",
       " 'astimezone',\n",
       " 'combine',\n",
       " 'ctime',\n",
       " 'date',\n",
       " 'day',\n",
       " 'dst',\n",
       " 'fold',\n",
       " 'fromisocalendar',\n",
       " 'fromisoformat',\n",
       " 'fromordinal',\n",
       " 'fromtimestamp',\n",
       " 'hour',\n",
       " 'isocalendar',\n",
       " 'isoformat',\n",
       " 'isoweekday',\n",
       " 'max',\n",
       " 'microsecond',\n",
       " 'min',\n",
       " 'minute',\n",
       " 'month',\n",
       " 'now',\n",
       " 'replace',\n",
       " 'resolution',\n",
       " 'second',\n",
       " 'strftime',\n",
       " 'strptime',\n",
       " 'time',\n",
       " 'timestamp',\n",
       " 'timetuple',\n",
       " 'timetz',\n",
       " 'today',\n",
       " 'toordinal',\n",
       " 'tzinfo',\n",
       " 'tzname',\n",
       " 'utcfromtimestamp',\n",
       " 'utcnow',\n",
       " 'utcoffset',\n",
       " 'utctimetuple',\n",
       " 'weekday',\n",
       " 'year']"
      ]
     },
     "execution_count": 40,
     "metadata": {},
     "output_type": "execute_result"
    }
   ],
   "source": [
    "dir(myDate)"
   ]
  },
  {
   "cell_type": "code",
   "execution_count": null,
   "id": "3f4120ac-58d0-4dc4-a766-2433ea3d2da4",
   "metadata": {},
   "outputs": [],
   "source": []
  }
 ],
 "metadata": {
  "kernelspec": {
   "display_name": "Python 3 (ipykernel)",
   "language": "python",
   "name": "python3"
  },
  "language_info": {
   "codemirror_mode": {
    "name": "ipython",
    "version": 3
   },
   "file_extension": ".py",
   "mimetype": "text/x-python",
   "name": "python",
   "nbconvert_exporter": "python",
   "pygments_lexer": "ipython3",
   "version": "3.13.2"
  }
 },
 "nbformat": 4,
 "nbformat_minor": 5
}
