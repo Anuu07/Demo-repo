{
 "cells": [
  {
   "cell_type": "code",
   "execution_count": 4,
   "id": "edcda006-89b9-4364-9360-f9c875f6a6c0",
   "metadata": {},
   "outputs": [
    {
     "name": "stdout",
     "output_type": "stream",
     "text": [
      "New image is available with name:newpic.JPG\n"
     ]
    }
   ],
   "source": [
    "f1=open(\"The most beautiful roses (1).JPG\",\"rb\")\n",
    "f2=open(\"newpic.JPG\",\"wb\")\n",
    "bytes=f1.read()\n",
    "f2.write(bytes)\n",
    "print(\"New image is available with name:newpic.JPG\")"
   ]
  },
  {
   "cell_type": "code",
   "execution_count": 8,
   "id": "ce6d100a-0f1e-417f-b4ee-e97bf3cede47",
   "metadata": {},
   "outputs": [
    {
     "name": "stdin",
     "output_type": "stream",
     "text": [
      "Enter no of employees:  2\n",
      "Enter employee no: 1\n",
      "Enter employee name: Anushree\n",
      "Enter employee salary: 500000\n",
      "Enter employee address shakti nagar\n",
      "Enter employee no: 2\n",
      "Enter employee name: Ankita\n",
      "Enter employee salary: 500000\n",
      "Enter employee address yadav coloney\n"
     ]
    },
    {
     "name": "stdout",
     "output_type": "stream",
     "text": [
      "Total employees data written to csv file successfully\n"
     ]
    }
   ],
   "source": [
    "import csv\n",
    "with open(\"emp.csv\",\"w\",newline='')as f:\n",
    "    w=csv.writer(f)#returns csv writer object\n",
    "    w.writerow([\"ENO\",\"ENAME\",\"ESAL\",\"EADDR\"])\n",
    "    n=int(input(\"Enter no of employees: \"))\n",
    "    for i in range(n):\n",
    "        eno=input(\"Enter employee no:\")\n",
    "        ename=input(\"Enter employee name:\")\n",
    "        esal=input(\"Enter employee salary:\")\n",
    "        eaddr=input(\"Enter employee address\")\n",
    "        w.writerow([eno,ename,esal,eaddr])\n",
    "print(\"Total employees data written to csv file successfully\")"
   ]
  },
  {
   "cell_type": "code",
   "execution_count": 12,
   "id": "bfd060ae-a26f-47e5-a3a1-623579d33dc4",
   "metadata": {},
   "outputs": [
    {
     "name": "stdout",
     "output_type": "stream",
     "text": [
      "ENO \tENAME \tESAL \tEADDR \t\n",
      "1 \tAnushree \t500000 \tshakti nagar \t\n",
      "2 \tAnkita \t500000 \tyadav coloney \t\n"
     ]
    }
   ],
   "source": [
    "import csv\n",
    "f=open(\"emp.csv\",'r')\n",
    "r=csv.reader(f)#returns csv reader object\n",
    "data=list(r)\n",
    "#print(data)\n",
    "for line in data:\n",
    "    for word in line:\n",
    "        print(word,\"\\t\",end='')\n",
    "    print()"
   ]
  },
  {
   "cell_type": "code",
   "execution_count": 14,
   "id": "edb255fb-beef-47b3-8976-bb2495385955",
   "metadata": {},
   "outputs": [
    {
     "name": "stdout",
     "output_type": "stream",
     "text": [
      "files.zip file created sucessfully\n"
     ]
    }
   ],
   "source": [
    "from zipfile import *\n",
    "f=ZipFile(\"file.zip\",'w',ZIP_DEFLATED)\n",
    "f.write(\"emp.csv\")\n",
    "f.write(\"data.csv\")\n",
    "f.close()\n",
    "print(\"files.zip file created sucessfully\")\n"
   ]
  },
  {
   "cell_type": "code",
   "execution_count": 16,
   "id": "01a9c2d8-b1b8-424f-bb65-9671f482dd08",
   "metadata": {},
   "outputs": [
    {
     "name": "stdout",
     "output_type": "stream",
     "text": [
      "File Name: emp.csv\n",
      "The Content of this file is:\n",
      "ENO,ENAME,ESAL,EADDR\n",
      "1,Anushree,500000,shakti nagar\n",
      "2,Ankita,500000,yadav coloney\n",
      "\n",
      "\n",
      "File Name: data.csv\n",
      "The Content of this file is:\n",
      "empno,ename,deptno,salary\n",
      "1.ss,10,1000\n",
      "2.aa,20,2000\n",
      "1.bb,30,3000\n",
      "1.cc,40,4000\n",
      "1.dd,50,5000\n",
      "\n",
      "\n",
      "\n",
      "\n",
      "\n",
      "\n"
     ]
    }
   ],
   "source": [
    "from zipfile import *\n",
    "f=ZipFile(\"file.zip\",'r',ZIP_STORED)\n",
    "names=f.namelist()\n",
    "for name in names:\n",
    "    print(\"File Name:\",name)\n",
    "    print(\"The Content of this file is:\")\n",
    "    f1=open(name,'r')\n",
    "    print(f1.read())\n",
    "    print()"
   ]
  },
  {
   "cell_type": "code",
   "execution_count": 17,
   "id": "c1b39573-821a-4187-8485-0af1cb4e1450",
   "metadata": {},
   "outputs": [
    {
     "name": "stdout",
     "output_type": "stream",
     "text": [
      "Current Workin Directory: E:\\mypyprogs\n"
     ]
    }
   ],
   "source": [
    "import os\n",
    "cwd=os.getcwd()\n",
    "print(\"Current Workin Directory:\",cwd)"
   ]
  },
  {
   "cell_type": "code",
   "execution_count": 18,
   "id": "a78dec86-ce38-4796-8ab7-1a1925fb48da",
   "metadata": {},
   "outputs": [
    {
     "name": "stdout",
     "output_type": "stream",
     "text": [
      "mysub directory created in cwd\n"
     ]
    }
   ],
   "source": [
    "import os\n",
    "os.mkdir(\"mysub\")\n",
    "print(\"mysub directory created in cwd\")"
   ]
  },
  {
   "cell_type": "code",
   "execution_count": 19,
   "id": "33969402-e2a7-4037-9a3d-9777fa7dc532",
   "metadata": {},
   "outputs": [
    {
     "name": "stdout",
     "output_type": "stream",
     "text": [
      "mysub2 directory created inside  mysub\n"
     ]
    }
   ],
   "source": [
    "import os\n",
    "os.mkdir(\"mysub/mysub2\")\n",
    "print(\"mysub2 directory created inside  mysub\")"
   ]
  },
  {
   "cell_type": "code",
   "execution_count": 16,
   "id": "35e88a0f-fa8d-421c-8a4f-56fb9e11bf99",
   "metadata": {},
   "outputs": [
    {
     "ename": "FileNotFoundError",
     "evalue": "[WinError 3] The system cannot find the path specified: 'mysub/mysub2'",
     "output_type": "error",
     "traceback": [
      "\u001b[31m---------------------------------------------------------------------------\u001b[39m",
      "\u001b[31mFileNotFoundError\u001b[39m                         Traceback (most recent call last)",
      "\u001b[36mCell\u001b[39m\u001b[36m \u001b[39m\u001b[32mIn[16]\u001b[39m\u001b[32m, line 2\u001b[39m\n\u001b[32m      1\u001b[39m \u001b[38;5;28;01mimport\u001b[39;00m\u001b[38;5;250m \u001b[39m\u001b[34;01mos\u001b[39;00m\n\u001b[32m----> \u001b[39m\u001b[32m2\u001b[39m \u001b[43mos\u001b[49m\u001b[43m.\u001b[49m\u001b[43mrmdir\u001b[49m\u001b[43m(\u001b[49m\u001b[33;43m\"\u001b[39;49m\u001b[33;43mmysub/mysub2\u001b[39;49m\u001b[33;43m\"\u001b[39;49m\u001b[43m)\u001b[49m\n\u001b[32m      3\u001b[39m \u001b[38;5;28mprint\u001b[39m(\u001b[33m\"\u001b[39m\u001b[33mmysub2 directory deleted\u001b[39m\u001b[33m\"\u001b[39m)\n",
      "\u001b[31mFileNotFoundError\u001b[39m: [WinError 3] The system cannot find the path specified: 'mysub/mysub2'"
     ]
    }
   ],
   "source": [
    "import os\n",
    "os.rmdir(\"mysub/mysub2\")\n",
    "print(\"mysub2 directory deleted\")"
   ]
  },
  {
   "cell_type": "code",
   "execution_count": 6,
   "id": "19d6a582-3ed4-4989-aa7f-c570483b727c",
   "metadata": {},
   "outputs": [
    {
     "ename": "FileNotFoundError",
     "evalue": "[WinError 2] The system cannot find the file specified: 'mysub2' -> 'newdir'",
     "output_type": "error",
     "traceback": [
      "\u001b[31m---------------------------------------------------------------------------\u001b[39m",
      "\u001b[31mFileNotFoundError\u001b[39m                         Traceback (most recent call last)",
      "\u001b[36mCell\u001b[39m\u001b[36m \u001b[39m\u001b[32mIn[6]\u001b[39m\u001b[32m, line 2\u001b[39m\n\u001b[32m      1\u001b[39m \u001b[38;5;28;01mimport\u001b[39;00m\u001b[38;5;250m \u001b[39m\u001b[34;01mos\u001b[39;00m\n\u001b[32m----> \u001b[39m\u001b[32m2\u001b[39m \u001b[43mos\u001b[49m\u001b[43m.\u001b[49m\u001b[43mrename\u001b[49m\u001b[43m(\u001b[49m\u001b[33;43m\"\u001b[39;49m\u001b[33;43mmysub2\u001b[39;49m\u001b[33;43m\"\u001b[39;49m\u001b[43m,\u001b[49m\u001b[33;43m\"\u001b[39;49m\u001b[33;43mnewdir\u001b[39;49m\u001b[33;43m\"\u001b[39;49m\u001b[43m)\u001b[49m\n\u001b[32m      3\u001b[39m \u001b[38;5;28mprint\u001b[39m(\u001b[33m\"\u001b[39m\u001b[33mmysub directory renamed to newdir\u001b[39m\u001b[33m\"\u001b[39m)\n",
      "\u001b[31mFileNotFoundError\u001b[39m: [WinError 2] The system cannot find the file specified: 'mysub2' -> 'newdir'"
     ]
    }
   ],
   "source": [
    "import os\n",
    "os.rename(\"mysub2\",\"newdir\")\n",
    "print(\"mysub directory renamed to newdir\")"
   ]
  },
  {
   "cell_type": "code",
   "execution_count": 11,
   "id": "830a90d1-09c2-4740-a032-431f9a7da274",
   "metadata": {},
   "outputs": [
    {
     "name": "stdout",
     "output_type": "stream",
     "text": [
      "['.ipynb_checkpoints', 'abc.txt', 'abcd.txt', 'abcde.txt', 'data.csv', 'database handling.ipynb', 'Datainsert.py', 'DataTypes.ipynb', 'Data_I,U,D.py', 'Dictionary.ipynb', 'emp.csv', 'execption handeling.ipynb', 'file handling', 'file handling.ipynb', 'file.zip', 'Flow controls.ipynb', 'Functions.ipynb', 'Home.ipynb', 'Introduction.ipynb', 'LCM.ipynb', 'list data structure.ipynb', 'list.matrix.ipynb', 'Math Module.ipynb', 'module1.py', 'module2.py', 'mymath.py', 'Nested For.ipynb', 'newdir', 'Newfile.py', 'newpic.JPG', 'Operator.ipynb', 'pack1', 'PyWhatKit_DB.txt', 'Set.ipynb', 'String.ipynb', 'Test.py', 'test1.py', 'test2.py', 'test3.py', 'The most beautiful roses (1).jpg', 'Tkinter', 'Tkinter.ipynb', 'ttkbootstrap.ipynb', 'Tuple.ipynb', 'untiteld', 'Untitled.ipynb', 'Untitled1.ipynb', 'Web1.py', 'Web2.py', 'Web3.py', 'Web4.py', 'whatsapp.py', 'while.ipynb', '__pycache__']\n"
     ]
    }
   ],
   "source": [
    "import os \n",
    "print(os.listdir(\".\"))"
   ]
  },
  {
   "cell_type": "code",
   "execution_count": 12,
   "id": "de3929ac-7c8e-486a-bd65-ee0017f417fb",
   "metadata": {},
   "outputs": [
    {
     "data": {
      "text/plain": [
       "1"
      ]
     },
     "execution_count": 12,
     "metadata": {},
     "output_type": "execute_result"
    }
   ],
   "source": [
    "import os\n",
    "os.system(\"dir*.py\")"
   ]
  },
  {
   "cell_type": "code",
   "execution_count": 14,
   "id": "b1232f3a-6de4-4505-b606-79f7855fa022",
   "metadata": {},
   "outputs": [
    {
     "data": {
      "text/plain": [
       "0"
      ]
     },
     "execution_count": 14,
     "metadata": {},
     "output_type": "execute_result"
    }
   ],
   "source": [
    "import os\n",
    "os.system(\"dir*.py\")\n",
    "os.system(\"py test100.py\")"
   ]
  },
  {
   "cell_type": "code",
   "execution_count": 9,
   "id": "c2517bb8-9551-42fb-a7c3-485ca728a920",
   "metadata": {},
   "outputs": [
    {
     "name": "stdout",
     "output_type": "stream",
     "text": [
      "os.stat_result(st_mode=33206, st_ino=1125899906842913, st_dev=2357335426734221292, st_nlink=1, st_uid=0, st_gid=0, st_size=26, st_atime=1748435299, st_mtime=1748435299, st_ctime=1748435072)\n"
     ]
    }
   ],
   "source": [
    "import os \n",
    "stats=os.stat(\"abc.txt\")\n",
    "print(stats)# for printing all properties"
   ]
  },
  {
   "cell_type": "code",
   "execution_count": 17,
   "id": "8f2a6a34-0efe-4d64-9c49-63d3923c84f7",
   "metadata": {},
   "outputs": [
    {
     "name": "stdout",
     "output_type": "stream",
     "text": [
      "sub1 and in that sub2 and in that sub3 directories created\n"
     ]
    }
   ],
   "source": [
    "import os \n",
    "os.makedirs(\"sub1/sub2/sub3\") \n",
    "print(\"sub1 and in that sub2 and in that sub3 directories created\")"
   ]
  },
  {
   "cell_type": "code",
   "execution_count": 18,
   "id": "f2d55240-f930-43e4-a532-227722dbf775",
   "metadata": {},
   "outputs": [
    {
     "ename": "FileNotFoundError",
     "evalue": "[WinError 3] The system cannot find the path specified: 'mysub/mysub2'",
     "output_type": "error",
     "traceback": [
      "\u001b[31m---------------------------------------------------------------------------\u001b[39m",
      "\u001b[31mFileNotFoundError\u001b[39m                         Traceback (most recent call last)",
      "\u001b[36mCell\u001b[39m\u001b[36m \u001b[39m\u001b[32mIn[18]\u001b[39m\u001b[32m, line 2\u001b[39m\n\u001b[32m      1\u001b[39m \u001b[38;5;28;01mimport\u001b[39;00m\u001b[38;5;250m \u001b[39m\u001b[34;01mos\u001b[39;00m \n\u001b[32m----> \u001b[39m\u001b[32m2\u001b[39m \u001b[43mos\u001b[49m\u001b[43m.\u001b[49m\u001b[43mrmdir\u001b[49m\u001b[43m(\u001b[49m\u001b[33;43m\"\u001b[39;49m\u001b[33;43mmysub/mysub2\u001b[39;49m\u001b[33;43m\"\u001b[39;49m\u001b[43m)\u001b[49m \n\u001b[32m      3\u001b[39m \u001b[38;5;28mprint\u001b[39m(\u001b[33m\"\u001b[39m\u001b[33mmysub2 directory deleted\u001b[39m\u001b[33m\"\u001b[39m)\n",
      "\u001b[31mFileNotFoundError\u001b[39m: [WinError 3] The system cannot find the path specified: 'mysub/mysub2'"
     ]
    }
   ],
   "source": [
    "import os \n",
    "os.rmdir(\"mysub/mysub2\") \n",
    "print(\"mysub2 directory deleted\")"
   ]
  },
  {
   "cell_type": "code",
   "execution_count": null,
   "id": "24962c7e-007a-4158-9230-f547269d63cc",
   "metadata": {},
   "outputs": [],
   "source": []
  }
 ],
 "metadata": {
  "kernelspec": {
   "display_name": "Python 3 (ipykernel)",
   "language": "python",
   "name": "python3"
  },
  "language_info": {
   "codemirror_mode": {
    "name": "ipython",
    "version": 3
   },
   "file_extension": ".py",
   "mimetype": "text/x-python",
   "name": "python",
   "nbconvert_exporter": "python",
   "pygments_lexer": "ipython3",
   "version": "3.13.2"
  }
 },
 "nbformat": 4,
 "nbformat_minor": 5
}
