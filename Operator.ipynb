{
 "cells": [
  {
   "cell_type": "code",
   "execution_count": 1,
   "id": "0f895a6c-0bed-4d88-b996-46923bd2a80c",
   "metadata": {},
   "outputs": [
    {
     "name": "stdout",
     "output_type": "stream",
     "text": [
      "a>b is False\n",
      "a>=b is False\n",
      "a<b is True\n",
      "a<=b is True\n"
     ]
    }
   ],
   "source": [
    "#Relational operator - gives value in boolean\n",
    "a=10\n",
    "b=20\n",
    "print(\"a>b is\",a>b)\n",
    "print(\"a>=b is\",a>=b)\n",
    "print(\"a<b is\",a<b)\n",
    "print(\"a<=b is\",a<=b)"
   ]
  },
  {
   "cell_type": "code",
   "execution_count": 2,
   "id": "da4346f9-9948-4e15-9e8f-cd0098f6035d",
   "metadata": {},
   "outputs": [
    {
     "name": "stdout",
     "output_type": "stream",
     "text": [
      "True\n"
     ]
    }
   ],
   "source": [
    "#relational operator is for str data type also\n",
    "a=\"a\"#asci value is 97\n",
    "b=\"A\"#65\n",
    "print(a>b)\n",
    "# A=65   B=66\n",
    "# a=97  b=98"
   ]
  },
  {
   "cell_type": "code",
   "execution_count": 3,
   "id": "c688acb5-5dc6-4042-81fd-f8b91028964b",
   "metadata": {},
   "outputs": [
    {
     "name": "stdout",
     "output_type": "stream",
     "text": [
      "False\n",
      "True\n",
      "True\n",
      "False\n"
     ]
    },
    {
     "ename": "NameError",
     "evalue": "name 'India' is not defined",
     "output_type": "error",
     "traceback": [
      "\u001b[31m---------------------------------------------------------------------------\u001b[39m",
      "\u001b[31mNameError\u001b[39m                                 Traceback (most recent call last)",
      "\u001b[36mCell\u001b[39m\u001b[36m \u001b[39m\u001b[32mIn[3]\u001b[39m\u001b[32m, line 5\u001b[39m\n\u001b[32m      3\u001b[39m \u001b[38;5;28mprint\u001b[39m(\u001b[32m10\u001b[39m>\u001b[38;5;28;01mTrue\u001b[39;00m)\n\u001b[32m      4\u001b[39m \u001b[38;5;28mprint\u001b[39m(\u001b[38;5;28;01mFalse\u001b[39;00m>\u001b[38;5;28;01mTrue\u001b[39;00m)\n\u001b[32m----> \u001b[39m\u001b[32m5\u001b[39m \u001b[38;5;28mprint\u001b[39m(\u001b[32m10\u001b[39m>\u001b[43mIndia\u001b[49m)\n",
      "\u001b[31mNameError\u001b[39m: name 'India' is not defined"
     ]
    }
   ],
   "source": [
    "print(True>True)\n",
    "print(True>=True)\n",
    "print(10>True)\n",
    "print(False>True)\n",
    "print(10>India)"
   ]
  },
  {
   "cell_type": "code",
   "execution_count": 4,
   "id": "74ed59eb-a0d7-44a5-860d-6350afdef0ae",
   "metadata": {},
   "outputs": [
    {
     "data": {
      "text/plain": [
       "True"
      ]
     },
     "execution_count": 4,
     "metadata": {},
     "output_type": "execute_result"
    }
   ],
   "source": [
    "10<20<30#10<20=1 and 1<30 = true"
   ]
  },
  {
   "cell_type": "code",
   "execution_count": 5,
   "id": "36bf14d4-2344-450d-9584-1000bc808961",
   "metadata": {},
   "outputs": [
    {
     "data": {
      "text/plain": [
       "False"
      ]
     },
     "execution_count": 5,
     "metadata": {},
     "output_type": "execute_result"
    }
   ],
   "source": [
    "10<20<30<40>50"
   ]
  },
  {
   "cell_type": "code",
   "execution_count": 7,
   "id": "b97def11-8015-42a1-bbde-0beb40d5d76a",
   "metadata": {},
   "outputs": [
    {
     "data": {
      "text/plain": [
       "False"
      ]
     },
     "execution_count": 7,
     "metadata": {},
     "output_type": "execute_result"
    }
   ],
   "source": [
    "10==20"
   ]
  },
  {
   "cell_type": "markdown",
   "id": "04b91e8e-ec1d-49fc-948c-85f8beca8e9c",
   "metadata": {
    "jp-MarkdownHeadingCollapsed": true
   },
   "source": []
  },
  {
   "cell_type": "code",
   "execution_count": 8,
   "id": "7c372161-2dd1-4453-9dc5-b25ab1c97fd7",
   "metadata": {},
   "outputs": [
    {
     "data": {
      "text/plain": [
       "True"
      ]
     },
     "execution_count": 8,
     "metadata": {},
     "output_type": "execute_result"
    }
   ],
   "source": [
    "10!=20"
   ]
  },
  {
   "cell_type": "code",
   "execution_count": 9,
   "id": "d6b9eae8-a39c-4be3-a3ae-95b26f9fcad3",
   "metadata": {},
   "outputs": [
    {
     "data": {
      "text/plain": [
       "False"
      ]
     },
     "execution_count": 9,
     "metadata": {},
     "output_type": "execute_result"
    }
   ],
   "source": [
    "10==True"
   ]
  },
  {
   "cell_type": "code",
   "execution_count": 10,
   "id": "b9cbfede-5e9f-4bd9-871a-c09a7d1d4ce0",
   "metadata": {},
   "outputs": [
    {
     "data": {
      "text/plain": [
       "True"
      ]
     },
     "execution_count": 10,
     "metadata": {},
     "output_type": "execute_result"
    }
   ],
   "source": [
    "False==False"
   ]
  },
  {
   "cell_type": "code",
   "execution_count": 11,
   "id": "dcee5d3e-33ed-4cb2-89bc-4e6147ce3377",
   "metadata": {},
   "outputs": [
    {
     "data": {
      "text/plain": [
       "True"
      ]
     },
     "execution_count": 11,
     "metadata": {},
     "output_type": "execute_result"
    }
   ],
   "source": [
    "(\"abc\"==\"abc\")"
   ]
  },
  {
   "cell_type": "code",
   "execution_count": 14,
   "id": "282b59c8-3fd1-4993-828b-bb4d2255e6b6",
   "metadata": {},
   "outputs": [
    {
     "data": {
      "text/plain": [
       "False"
      ]
     },
     "execution_count": 14,
     "metadata": {},
     "output_type": "execute_result"
    }
   ],
   "source": [
    "(1==\"abc\")# data type should match each other here 1 is in and abc is str"
   ]
  },
  {
   "cell_type": "code",
   "execution_count": 19,
   "id": "965125fd-d036-46d3-b281-b919eb8236e2",
   "metadata": {},
   "outputs": [
    {
     "data": {
      "text/plain": [
       "True"
      ]
     },
     "execution_count": 19,
     "metadata": {},
     "output_type": "execute_result"
    }
   ],
   "source": [
    "(True==bool('abc'))"
   ]
  },
  {
   "cell_type": "code",
   "execution_count": 20,
   "id": "b5697c74-7e57-4af2-979d-ce5c2e073f40",
   "metadata": {},
   "outputs": [
    {
     "data": {
      "text/plain": [
       "True"
      ]
     },
     "execution_count": 20,
     "metadata": {},
     "output_type": "execute_result"
    }
   ],
   "source": [
    "1==bool('abc')"
   ]
  },
  {
   "cell_type": "code",
   "execution_count": 25,
   "id": "70c7d1f1-29d4-40ea-99d6-8f5c0c4cf1e9",
   "metadata": {},
   "outputs": [
    {
     "data": {
      "text/plain": [
       "20"
      ]
     },
     "execution_count": 25,
     "metadata": {},
     "output_type": "execute_result"
    }
   ],
   "source": [
    "10 and 20"
   ]
  },
  {
   "cell_type": "code",
   "execution_count": 26,
   "id": "be8c155a-8bdc-441c-998d-3985db2854d6",
   "metadata": {},
   "outputs": [
    {
     "data": {
      "text/plain": [
       "0"
      ]
     },
     "execution_count": 26,
     "metadata": {},
     "output_type": "execute_result"
    }
   ],
   "source": [
    "0 and 20"
   ]
  },
  {
   "cell_type": "code",
   "execution_count": 27,
   "id": "fc93dbc7-6bd7-4276-935e-1ea77d1b82a6",
   "metadata": {},
   "outputs": [
    {
     "name": "stdout",
     "output_type": "stream",
     "text": [
      "10\n",
      "20\n"
     ]
    }
   ],
   "source": [
    "print(10 or 20)\n",
    "print(0 or 20)"
   ]
  },
  {
   "cell_type": "code",
   "execution_count": 29,
   "id": "173c9c8c-55ea-45e0-a5bc-b68b4a0b18b1",
   "metadata": {},
   "outputs": [
    {
     "name": "stdout",
     "output_type": "stream",
     "text": [
      "False\n",
      "True\n"
     ]
    }
   ],
   "source": [
    "print(not 10)\n",
    "print(not 0)"
   ]
  },
  {
   "cell_type": "code",
   "execution_count": 32,
   "id": "1f749348-a588-46d8-8a61-c848127b6b47",
   "metadata": {},
   "outputs": [
    {
     "data": {
      "text/plain": [
       "''"
      ]
     },
     "execution_count": 32,
     "metadata": {},
     "output_type": "execute_result"
    }
   ],
   "source": [
    "\"\" and \"abc\""
   ]
  },
  {
   "cell_type": "code",
   "execution_count": 33,
   "id": "7e0e85b9-2bfa-470b-81b0-c0bb7b0a9716",
   "metadata": {},
   "outputs": [
    {
     "data": {
      "text/plain": [
       "''"
      ]
     },
     "execution_count": 33,
     "metadata": {},
     "output_type": "execute_result"
    }
   ],
   "source": [
    "\"abc\" and \"\""
   ]
  },
  {
   "cell_type": "code",
   "execution_count": 34,
   "id": "05ef0821-48fc-49ab-9788-e72f9e0581ad",
   "metadata": {},
   "outputs": [
    {
     "data": {
      "text/plain": [
       "'abcde'"
      ]
     },
     "execution_count": 34,
     "metadata": {},
     "output_type": "execute_result"
    }
   ],
   "source": [
    "\"abc\" and \"abcde\""
   ]
  },
  {
   "cell_type": "code",
   "execution_count": 35,
   "id": "4841dd0c-5463-471f-8081-7ed8f77180a1",
   "metadata": {},
   "outputs": [
    {
     "data": {
      "text/plain": [
       "'abc'"
      ]
     },
     "execution_count": 35,
     "metadata": {},
     "output_type": "execute_result"
    }
   ],
   "source": [
    "\"\" or \"abc\""
   ]
  },
  {
   "cell_type": "code",
   "execution_count": 36,
   "id": "51177ef2-b34e-492e-be86-e1d820484b73",
   "metadata": {},
   "outputs": [
    {
     "data": {
      "text/plain": [
       "True"
      ]
     },
     "execution_count": 36,
     "metadata": {},
     "output_type": "execute_result"
    }
   ],
   "source": [
    "not \"\""
   ]
  },
  {
   "cell_type": "code",
   "execution_count": 37,
   "id": "1dce4d0c-599b-494f-b673-1799a64fc6f2",
   "metadata": {},
   "outputs": [
    {
     "data": {
      "text/plain": [
       "4"
      ]
     },
     "execution_count": 37,
     "metadata": {},
     "output_type": "execute_result"
    }
   ],
   "source": [
    "#(`) it is called back quotetion mark used in linux and unix\n",
    "4&5# only in int and bool "
   ]
  },
  {
   "cell_type": "code",
   "execution_count": null,
   "id": "e955389e-a6c0-4b94-ba02-70dcd7469168",
   "metadata": {},
   "outputs": [],
   "source": [
    "# 4 - 100\n",
    "# 5 - 101 then in & we get 100 that is 4 and in or we get 5\n",
    "#xor(^)- same bit value-0 and diffn bit value- 1\n",
    "#(~5)= -(5+1)"
   ]
  },
  {
   "cell_type": "code",
   "execution_count": 38,
   "id": "abd624d0-ba30-41c8-b078-701ffba9c4ab",
   "metadata": {},
   "outputs": [
    {
     "data": {
      "text/plain": [
       "40"
      ]
     },
     "execution_count": 38,
     "metadata": {},
     "output_type": "execute_result"
    }
   ],
   "source": [
    "10<<2# left shift operator"
   ]
  },
  {
   "cell_type": "code",
   "execution_count": 39,
   "id": "d59abab5-34e1-443a-a79b-59f4cdfd4e20",
   "metadata": {},
   "outputs": [
    {
     "data": {
      "text/plain": [
       "2"
      ]
     },
     "execution_count": 39,
     "metadata": {},
     "output_type": "execute_result"
    }
   ],
   "source": [
    "10>>2"
   ]
  },
  {
   "cell_type": "code",
   "execution_count": 40,
   "id": "8036417e-4b18-4be0-863e-69aca03516d7",
   "metadata": {},
   "outputs": [
    {
     "data": {
      "text/plain": [
       "True"
      ]
     },
     "execution_count": 40,
     "metadata": {},
     "output_type": "execute_result"
    }
   ],
   "source": [
    "True| False# or"
   ]
  },
  {
   "cell_type": "code",
   "execution_count": 42,
   "id": "4bbf1663-0b67-4bcb-87d9-c1ef0ee11048",
   "metadata": {},
   "outputs": [
    {
     "data": {
      "text/plain": [
       "True"
      ]
     },
     "execution_count": 42,
     "metadata": {},
     "output_type": "execute_result"
    }
   ],
   "source": [
    "True^False"
   ]
  },
  {
   "cell_type": "code",
   "execution_count": 1,
   "id": "56b7bfa1-93aa-4d77-93db-c3e549eddd56",
   "metadata": {},
   "outputs": [
    {
     "data": {
      "text/plain": [
       "True"
      ]
     },
     "execution_count": 1,
     "metadata": {},
     "output_type": "execute_result"
    }
   ],
   "source": [
    "x= True\n",
    "y= True\n",
    "x is y"
   ]
  },
  {
   "cell_type": "code",
   "execution_count": 3,
   "id": "aab50f58-5902-4dfe-bcd3-f4eee2cc6063",
   "metadata": {},
   "outputs": [
    {
     "data": {
      "text/plain": [
       "False"
      ]
     },
     "execution_count": 3,
     "metadata": {},
     "output_type": "execute_result"
    }
   ],
   "source": [
    "x= True\n",
    "y= False\n",
    "x is y"
   ]
  },
  {
   "cell_type": "code",
   "execution_count": null,
   "id": "894f1f98-bef2-4f7e-810d-1803dec7fdce",
   "metadata": {},
   "outputs": [],
   "source": [
    "# is compares id and == compares data "
   ]
  },
  {
   "cell_type": "code",
   "execution_count": 4,
   "id": "ab494a11-6028-419f-8a5f-c8c4b92758da",
   "metadata": {},
   "outputs": [
    {
     "name": "stdout",
     "output_type": "stream",
     "text": [
      "True\n",
      "False\n",
      "True\n",
      "True\n"
     ]
    }
   ],
   "source": [
    "#membership operator\n",
    "x=\"hello learning Python is very easy!!!\"\n",
    "print('h'in x)\n",
    "print('d'in x)\n",
    "print('d'not in x)\n",
    "print('Python'in x)\n"
   ]
  },
  {
   "cell_type": "code",
   "execution_count": 6,
   "id": "6c6fd590-fa08-42c7-9480-9955f4ebe9e5",
   "metadata": {},
   "outputs": [
    {
     "name": "stdout",
     "output_type": "stream",
     "text": [
      "True\n",
      "False\n",
      "True\n"
     ]
    }
   ],
   "source": [
    "list=[\"sunny\",\"bunny\",\"chinny\",\"pinny\"]\n",
    "print(\"sunny\" in list)\n",
    "print(\"tunny\" in list)\n",
    "print(\"tunny\" not in list)"
   ]
  },
  {
   "cell_type": "code",
   "execution_count": null,
   "id": "d2d122c7-e3e2-4c12-afcd-013f0ba3c349",
   "metadata": {},
   "outputs": [],
   "source": []
  }
 ],
 "metadata": {
  "kernelspec": {
   "display_name": "Python 3 (ipykernel)",
   "language": "python",
   "name": "python3"
  },
  "language_info": {
   "codemirror_mode": {
    "name": "ipython",
    "version": 3
   },
   "file_extension": ".py",
   "mimetype": "text/x-python",
   "name": "python",
   "nbconvert_exporter": "python",
   "pygments_lexer": "ipython3",
   "version": "3.13.2"
  }
 },
 "nbformat": 4,
 "nbformat_minor": 5
}
