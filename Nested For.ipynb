{
 "cells": [
  {
   "cell_type": "code",
   "execution_count": 1,
   "id": "c06bbd02-61bc-4d29-a6e1-bbd090604164",
   "metadata": {},
   "outputs": [
    {
     "name": "stdin",
     "output_type": "stream",
     "text": [
      "no of rows 3\n"
     ]
    },
    {
     "name": "stdout",
     "output_type": "stream",
     "text": [
      "1 \n",
      "1 2 \n",
      "1 2 3 \n"
     ]
    }
   ],
   "source": [
    "n=int(input(\"no of rows\"))\n",
    "for i in range(1,n+1):\n",
    "    for j in range (1,i+1):\n",
    "        print(j,end =\" \")\n",
    "    print()"
   ]
  },
  {
   "cell_type": "code",
   "execution_count": 3,
   "id": "f961a5c7-f93b-4abf-9a58-c65b77649576",
   "metadata": {},
   "outputs": [
    {
     "name": "stdin",
     "output_type": "stream",
     "text": [
      "no of rows 3\n"
     ]
    },
    {
     "name": "stdout",
     "output_type": "stream",
     "text": [
      "1 \n",
      "2 2 \n",
      "3 3 3 \n"
     ]
    }
   ],
   "source": [
    "n=int(input(\"no of rows\"))\n",
    "for i in range(1,n+1):\n",
    "    for j in range (1,i+1):\n",
    "        print(i,end =\" \")\n",
    "    print()"
   ]
  },
  {
   "cell_type": "code",
   "execution_count": 4,
   "id": "e6c11450-b5a1-4238-9942-f2b3df89c1e4",
   "metadata": {},
   "outputs": [
    {
     "name": "stdin",
     "output_type": "stream",
     "text": [
      "no of rows 3\n"
     ]
    },
    {
     "name": "stdout",
     "output_type": "stream",
     "text": [
      "1**\n",
      "1**2**\n",
      "1**2**3**\n"
     ]
    }
   ],
   "source": [
    "n=int(input(\"no of rows\"))\n",
    "for i in range(1,n+1):\n",
    "    for j in range (1,i+1):\n",
    "        print(j,end =\"**\")\n",
    "    print()"
   ]
  },
  {
   "cell_type": "code",
   "execution_count": 5,
   "id": "5be7a574-0590-48af-8b04-caf790fe2bd8",
   "metadata": {},
   "outputs": [
    {
     "name": "stdin",
     "output_type": "stream",
     "text": [
      "no of rows 3\n"
     ]
    },
    {
     "name": "stdout",
     "output_type": "stream",
     "text": [
      "3 \n",
      "3 3 \n",
      "3 3 3 \n"
     ]
    }
   ],
   "source": [
    "n=int(input(\"no of rows\"))\n",
    "for i in range(1,n+1):\n",
    "    for j in range (1,i+1):\n",
    "        print(n,end =\" \")\n",
    "    print()"
   ]
  },
  {
   "cell_type": "code",
   "execution_count": 25,
   "id": "2dd0dcd9-b9d7-45b4-a6c7-bd643f5297e8",
   "metadata": {},
   "outputs": [
    {
     "name": "stdin",
     "output_type": "stream",
     "text": [
      "no of rows 3\n"
     ]
    },
    {
     "name": "stdout",
     "output_type": "stream",
     "text": [
      "65 \n",
      "66 67 \n",
      "68 69 70 \n"
     ]
    }
   ],
   "source": [
    "n=int(input(\"no of rows\"))\n",
    "t=65\n",
    "for i in range(1,n+1):\n",
    "    for j in range (1,i+1):\n",
    "        print(t,end =\" \")\n",
    "        t+=1\n",
    "        \n",
    "    print()"
   ]
  },
  {
   "cell_type": "code",
   "execution_count": 27,
   "id": "d6e95c4a-3e13-47d7-8cdb-beb73862de41",
   "metadata": {},
   "outputs": [
    {
     "name": "stdin",
     "output_type": "stream",
     "text": [
      "no of rows 3\n"
     ]
    },
    {
     "name": "stdout",
     "output_type": "stream",
     "text": [
      "A \n",
      "B C \n",
      "D E F \n"
     ]
    }
   ],
   "source": [
    "n=int(input(\"no of rows\"))\n",
    "t=65\n",
    "for i in range(1,n+1):\n",
    "    for j in range (1,i+1):\n",
    "        print(chr(t),end =\" \")\n",
    "        t+=1\n",
    "        \n",
    "    print()"
   ]
  },
  {
   "cell_type": "code",
   "execution_count": 42,
   "id": "14ba0691-ffb5-4422-b25b-38b8ef1a070c",
   "metadata": {},
   "outputs": [
    {
     "name": "stdin",
     "output_type": "stream",
     "text": [
      "no of rows 3\n"
     ]
    },
    {
     "name": "stdout",
     "output_type": "stream",
     "text": [
      "A \n",
      "B B \n",
      "C C C \n"
     ]
    }
   ],
   "source": [
    "n=int(input(\"no of rows\"))\n",
    "for i in range(1,n+1):\n",
    "    t=64\n",
    "    for j in range (1,i+1):\n",
    "        t=64\n",
    "        char=chr(t+i)\n",
    "        print(char,end =\" \")\n",
    "        \n",
    "    print()"
   ]
  },
  {
   "cell_type": "code",
   "execution_count": 47,
   "id": "9f3574d8-9793-4db8-884d-12bdc336f3b5",
   "metadata": {},
   "outputs": [
    {
     "name": "stdin",
     "output_type": "stream",
     "text": [
      "no of rows 3\n"
     ]
    },
    {
     "name": "stdout",
     "output_type": "stream",
     "text": [
      "1 \n",
      "0 1 \n",
      "1 0 1 \n"
     ]
    }
   ],
   "source": [
    "n=int(input(\"no of rows\"))\n",
    "for i in range(1,n+1):\n",
    "    for j in range (1,i+1):\n",
    "        print((i+j+1)%2,end =\" \")\n",
    "        \n",
    "    print()"
   ]
  },
  {
   "cell_type": "code",
   "execution_count": 49,
   "id": "dd24b2aa-ad0c-49e0-8344-14e50b4278ca",
   "metadata": {},
   "outputs": [
    {
     "name": "stdin",
     "output_type": "stream",
     "text": [
      "no of rows 3\n"
     ]
    },
    {
     "name": "stdout",
     "output_type": "stream",
     "text": [
      "\n",
      "0 \n",
      "1 0 \n"
     ]
    }
   ],
   "source": [
    "n=int(input(\"no of rows\"))\n",
    "for i in range(1,n+1):\n",
    "    for j in range (1,i):\n",
    "        print((i+j+1)%2,end =\" \")\n",
    "        \n",
    "    print()"
   ]
  },
  {
   "cell_type": "code",
   "execution_count": 54,
   "id": "8946d448-bc0d-4b70-8348-31e72ad16682",
   "metadata": {},
   "outputs": [
    {
     "name": "stdin",
     "output_type": "stream",
     "text": [
      "no of rows 3\n"
     ]
    },
    {
     "name": "stdout",
     "output_type": "stream",
     "text": [
      "   0 \n",
      "   1    0 \n",
      "   0    1    0 \n"
     ]
    }
   ],
   "source": [
    "n=int(input(\"no of rows\"))\n",
    "for i in range(1,n+1):\n",
    "    for j in range (1,i+1):\n",
    "        print(f\"{(i+j)%2:4}\",end =\" \")\n",
    "        \n",
    "    print()"
   ]
  },
  {
   "cell_type": "code",
   "execution_count": 65,
   "id": "fcbb18fa-76b2-4d43-a682-f860b0c28601",
   "metadata": {},
   "outputs": [
    {
     "name": "stdin",
     "output_type": "stream",
     "text": [
      "no of rows 3\n"
     ]
    },
    {
     "name": "stdout",
     "output_type": "stream",
     "text": [
      "* \n",
      "* * \n",
      "* * * \n"
     ]
    }
   ],
   "source": [
    "n=int(input(\"no of rows\"))\n",
    "for i in range(1,n+1):\n",
    "    for j in range (1,i+1):\n",
    "        print(\"*\",end=\" \")\n",
    "    print()"
   ]
  },
  {
   "cell_type": "code",
   "execution_count": 66,
   "id": "a8ea6480-f2b8-4051-af2e-0d4ed334b54d",
   "metadata": {},
   "outputs": [
    {
     "name": "stdin",
     "output_type": "stream",
     "text": [
      "no of rows 3\n"
     ]
    },
    {
     "name": "stdout",
     "output_type": "stream",
     "text": [
      "* * * \n",
      "* * \n",
      "* \n"
     ]
    }
   ],
   "source": [
    "n=int(input(\"no of rows\"))\n",
    "for i in range(n,0,-1):\n",
    "    for j in range (1,i+1):\n",
    "        print(\"*\",end=\" \")\n",
    "    print()"
   ]
  },
  {
   "cell_type": "code",
   "execution_count": 69,
   "id": "9ce353bd-9d61-40aa-a269-173db62dd090",
   "metadata": {},
   "outputs": [
    {
     "name": "stdin",
     "output_type": "stream",
     "text": [
      "no of rows 3\n"
     ]
    },
    {
     "name": "stdout",
     "output_type": "stream",
     "text": [
      "* \n",
      "* * \n",
      "* * * \n",
      "* * * * \n",
      "* * * \n",
      "* * \n",
      "* \n"
     ]
    }
   ],
   "source": [
    "n=int(input(\"no of rows\"))\n",
    "for i in range(1,n+1):\n",
    "    for j in range (1,i+1):\n",
    "        print(\"*\",end=\" \")\n",
    "    print()\n",
    "for i in range(n+1,0,-1):\n",
    "    for j in range (1,i+1):\n",
    "        print(\"*\",end=\" \")\n",
    "    print()\n"
   ]
  },
  {
   "cell_type": "code",
   "execution_count": 24,
   "id": "d91e50fd-2685-4279-a56d-9bf6626a627a",
   "metadata": {},
   "outputs": [
    {
     "name": "stdin",
     "output_type": "stream",
     "text": [
      "no of rows 10\n"
     ]
    },
    {
     "name": "stdout",
     "output_type": "stream",
     "text": [
      "1 1 1 1 1 1 1 1 1 1 \n",
      "2 2 2 2 2 2 2 2 2 2 \n",
      "3 3 3 3 3 3 3 3 3 3 \n",
      "4 4 4 4 4 4 4 4 4 4 \n",
      "5 5 5 5 5 5 5 5 5 5 \n",
      "6 6 6 6 6 6 6 6 6 6 \n",
      "7 7 7 7 7 7 7 7 7 7 \n",
      "8 8 8 8 8 8 8 8 8 8 \n",
      "9 9 9 9 9 9 9 9 9 9 \n",
      "10 10 10 10 10 10 10 10 10 10 \n"
     ]
    }
   ],
   "source": [
    "n=int(input(\"no of rows\"))\n",
    "for i in range(1,n+1):\n",
    "    for j in range (n):\n",
    "        print(i,end=\" \")\n",
    "    print()"
   ]
  },
  {
   "cell_type": "code",
   "execution_count": 27,
   "id": "8e638039-1e32-4edb-94bc-8270dd8332f9",
   "metadata": {},
   "outputs": [
    {
     "name": "stdout",
     "output_type": "stream",
     "text": [
      "1 2 3 4 5 6 7 8 9 10 \n",
      "1 2 3 4 5 6 7 8 9 10 \n",
      "1 2 3 4 5 6 7 8 9 10 \n",
      "1 2 3 4 5 6 7 8 9 10 \n",
      "1 2 3 4 5 6 7 8 9 10 \n",
      "1 2 3 4 5 6 7 8 9 10 \n",
      "1 2 3 4 5 6 7 8 9 10 \n",
      "1 2 3 4 5 6 7 8 9 10 \n",
      "1 2 3 4 5 6 7 8 9 10 \n",
      "1 2 3 4 5 6 7 8 9 10 \n"
     ]
    }
   ],
   "source": [
    "# Number of rows\n",
    "rows = 10\n",
    "# Number of columns\n",
    "cols = 10\n",
    "\n",
    "for i in range(rows):\n",
    "    for j in range(1, cols + 1):\n",
    "        print(j, end=\" \")\n",
    "    print()"
   ]
  },
  {
   "cell_type": "code",
   "execution_count": 27,
   "id": "82462a74-0eda-4475-8868-ce25ec8ea13b",
   "metadata": {},
   "outputs": [
    {
     "name": "stdin",
     "output_type": "stream",
     "text": [
      "Enter the number of rows:  10\n"
     ]
    },
    {
     "name": "stdout",
     "output_type": "stream",
     "text": [
      "          1 \n",
      "         11 \n",
      "        111 \n",
      "       1111 \n",
      "      11111 \n",
      "     111111 \n",
      "    1111111 \n",
      "   11111111 \n",
      "  111111111 \n",
      " 1111111111 \n"
     ]
    }
   ],
   "source": [
    "n=int(input(\"Enter the number of rows: \"))\n",
    "for i in range(1,n+1):\n",
    "     print(\" \"*(n-i),\"1\"*i,end=\" \")\n",
    "    \n",
    "     print()\n"
   ]
  },
  {
   "cell_type": "code",
   "execution_count": 31,
   "id": "86fad51b-4a41-46ba-b0ba-4eb0a5321ff6",
   "metadata": {},
   "outputs": [
    {
     "name": "stdin",
     "output_type": "stream",
     "text": [
      "Enter the number of rows:  10\n"
     ]
    },
    {
     "name": "stdout",
     "output_type": "stream",
     "text": [
      "         * \n",
      "        * * \n",
      "       * * * \n",
      "      * * * * \n",
      "     * * * * * \n",
      "    * * * * * * \n",
      "   * * * * * * * \n",
      "  * * * * * * * * \n",
      " * * * * * * * * * \n",
      "* * * * * * * * * * \n"
     ]
    }
   ],
   "source": [
    "n=int(input(\"Enter the number of rows: \"))\n",
    "for i in range(1,n+1):\n",
    "    print(\" \"*(n-i),end=\"\")\n",
    "    for j in range(1,i+1):\n",
    "        print(\"*\",end=\" \")\n",
    "    print()"
   ]
  },
  {
   "cell_type": "code",
   "execution_count": null,
   "id": "729bfe7c-41e3-4c68-8400-936fb80a9af4",
   "metadata": {},
   "outputs": [],
   "source": []
  }
 ],
 "metadata": {
  "kernelspec": {
   "display_name": "Python 3 (ipykernel)",
   "language": "python",
   "name": "python3"
  },
  "language_info": {
   "codemirror_mode": {
    "name": "ipython",
    "version": 3
   },
   "file_extension": ".py",
   "mimetype": "text/x-python",
   "name": "python",
   "nbconvert_exporter": "python",
   "pygments_lexer": "ipython3",
   "version": "3.13.2"
  }
 },
 "nbformat": 4,
 "nbformat_minor": 5
}
