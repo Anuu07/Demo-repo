{
 "cells": [
  {
   "cell_type": "code",
   "execution_count": 1,
   "id": "b44e4afd-1589-4599-9d14-1437c7130539",
   "metadata": {},
   "outputs": [
    {
     "name": "stdout",
     "output_type": "stream",
     "text": [
      "welcome\n"
     ]
    }
   ],
   "source": [
    "print(\"welcome\")\n"
   ]
  },
  {
   "cell_type": "code",
   "execution_count": 2,
   "id": "4dab495e-ed1b-4dd6-bc38-30cb1d96f91d",
   "metadata": {},
   "outputs": [
    {
     "name": "stdout",
     "output_type": "stream",
     "text": [
      "Welcome to python\n"
     ]
    }
   ],
   "source": [
    "print(\"Welcome\",\"to\",\"python\")"
   ]
  },
  {
   "cell_type": "code",
   "execution_count": 3,
   "id": "4f889b5c-be60-4a23-91bd-a7638969cdfd",
   "metadata": {},
   "outputs": [
    {
     "name": "stdout",
     "output_type": "stream",
     "text": [
      "welcome\n",
      "to\n",
      "python\n"
     ]
    }
   ],
   "source": [
    "print(\"welcome\")\n",
    "print(\"to\")\n",
    "print(\"python\")"
   ]
  },
  {
   "cell_type": "code",
   "execution_count": 4,
   "id": "f9ebbb05-9b02-4239-ad1b-5eca908c2d17",
   "metadata": {},
   "outputs": [
    {
     "name": "stdout",
     "output_type": "stream",
     "text": [
      "10\n"
     ]
    }
   ],
   "source": [
    "a=10\n",
    "print(a)"
   ]
  },
  {
   "cell_type": "code",
   "execution_count": 6,
   "id": "9f7cd9b0-e9df-48fe-a201-900dba7115b4",
   "metadata": {},
   "outputs": [
    {
     "name": "stdout",
     "output_type": "stream",
     "text": [
      "The value of a is 10 and the value of b is 20\n"
     ]
    }
   ],
   "source": [
    "b=20\n",
    "print(\"The value of a is\",a,\"and the value of b is\",b)"
   ]
  },
  {
   "cell_type": "code",
   "execution_count": 7,
   "id": "768e4490-902d-4957-843f-80cf728fe2e2",
   "metadata": {},
   "outputs": [
    {
     "name": "stdout",
     "output_type": "stream",
     "text": [
      "30\n"
     ]
    }
   ],
   "source": [
    "a=10\n",
    "b=20\n",
    "c=a+b\n",
    "print (c)"
   ]
  },
  {
   "cell_type": "code",
   "execution_count": 9,
   "id": "ed47af9a-bc1a-47dc-ba69-d5a1dc379323",
   "metadata": {},
   "outputs": [
    {
     "name": "stdout",
     "output_type": "stream",
     "text": [
      "welcome \n",
      "to \n",
      "python\n"
     ]
    }
   ],
   "source": [
    "print('''welcome \n",
    "to \n",
    "python''')"
   ]
  },
  {
   "cell_type": "code",
   "execution_count": 10,
   "id": "4c51bf08-94d2-485f-b02c-9284df07ef4b",
   "metadata": {},
   "outputs": [
    {
     "name": "stdout",
     "output_type": "stream",
     "text": [
      "SAM'S\n"
     ]
    }
   ],
   "source": [
    "# SAM'S\n",
    "print(\"SAM'S\")"
   ]
  },
  {
   "cell_type": "code",
   "execution_count": 11,
   "id": "9dd5ca1e-cf6f-481b-a5ac-55c8d33fb00b",
   "metadata": {},
   "outputs": [
    {
     "name": "stdout",
     "output_type": "stream",
     "text": [
      "SAM'S\n"
     ]
    }
   ],
   "source": [
    "print('SAM\\'S')"
   ]
  },
  {
   "cell_type": "code",
   "execution_count": 1,
   "id": "278a0f66-33ea-4541-a01a-83768d1c001f",
   "metadata": {},
   "outputs": [
    {
     "name": "stdout",
     "output_type": "stream",
     "text": [
      "\n"
     ]
    }
   ],
   "source": [
    "print()"
   ]
  },
  {
   "cell_type": "code",
   "execution_count": 2,
   "id": "a5b61374-f717-4d19-833f-35ccd84b5b23",
   "metadata": {},
   "outputs": [
    {
     "name": "stdout",
     "output_type": "stream",
     "text": [
      "Like***Share***Subscribe\n"
     ]
    }
   ],
   "source": [
    "print(\"Like\",\"Share\",\"Subscribe\",sep=\"***\")"
   ]
  },
  {
   "cell_type": "code",
   "execution_count": 4,
   "id": "14b7d7d2-a2a3-43ea-ae2f-4d8a9f5095ed",
   "metadata": {},
   "outputs": [
    {
     "name": "stdout",
     "output_type": "stream",
     "text": [
      "Welcome to INDIA\n"
     ]
    }
   ],
   "source": [
    "print(\"Welcome\",end=\" \")\n",
    "print(\"to\",end=\" \")\n",
    "print(\"INDIA\")"
   ]
  },
  {
   "cell_type": "code",
   "execution_count": 5,
   "id": "5967c3bc-3892-4537-8225-fd8b527cc4f2",
   "metadata": {},
   "outputs": [
    {
     "name": "stdout",
     "output_type": "stream",
     "text": [
      "20,30\n"
     ]
    }
   ],
   "source": [
    "a=20\n",
    "b=30\n",
    "print(a,b,sep=',')\n"
   ]
  },
  {
   "cell_type": "code",
   "execution_count": 6,
   "id": "0ecaf4f5-ca3f-429e-bc14-38679021578d",
   "metadata": {},
   "outputs": [],
   "source": [
    "cash =10"
   ]
  },
  {
   "cell_type": "code",
   "execution_count": 7,
   "id": "75cc882f-79d2-411e-b8c7-869305c1f378",
   "metadata": {},
   "outputs": [
    {
     "ename": "SyntaxError",
     "evalue": "invalid syntax (3648802222.py, line 1)",
     "output_type": "error",
     "traceback": [
      "  \u001b[36mCell\u001b[39m\u001b[36m \u001b[39m\u001b[32mIn[7]\u001b[39m\u001b[32m, line 1\u001b[39m\n\u001b[31m    \u001b[39m\u001b[31mca$h = 10\u001b[39m\n      ^\n\u001b[31mSyntaxError\u001b[39m\u001b[31m:\u001b[39m invalid syntax\n"
     ]
    }
   ],
   "source": [
    "ca$h = 10"
   ]
  },
  {
   "cell_type": "code",
   "execution_count": 9,
   "id": "79135713-c427-4d75-8702-2d9d5ae5282e",
   "metadata": {},
   "outputs": [
    {
     "name": "stdout",
     "output_type": "stream",
     "text": [
      "30\n"
     ]
    }
   ],
   "source": [
    "total=10\n",
    "toTal=20\n",
    "TOTAL=30\n",
    "print(TOTAL)"
   ]
  },
  {
   "cell_type": "code",
   "execution_count": 10,
   "id": "302149ad-2813-445b-bbc5-2fa1986c4426",
   "metadata": {},
   "outputs": [
    {
     "data": {
      "text/plain": [
       "['False',\n",
       " 'None',\n",
       " 'True',\n",
       " 'and',\n",
       " 'as',\n",
       " 'assert',\n",
       " 'async',\n",
       " 'await',\n",
       " 'break',\n",
       " 'class',\n",
       " 'continue',\n",
       " 'def',\n",
       " 'del',\n",
       " 'elif',\n",
       " 'else',\n",
       " 'except',\n",
       " 'finally',\n",
       " 'for',\n",
       " 'from',\n",
       " 'global',\n",
       " 'if',\n",
       " 'import',\n",
       " 'in',\n",
       " 'is',\n",
       " 'lambda',\n",
       " 'nonlocal',\n",
       " 'not',\n",
       " 'or',\n",
       " 'pass',\n",
       " 'raise',\n",
       " 'return',\n",
       " 'try',\n",
       " 'while',\n",
       " 'with',\n",
       " 'yield']"
      ]
     },
     "execution_count": 10,
     "metadata": {},
     "output_type": "execute_result"
    }
   ],
   "source": [
    "import keyword\n",
    "keyword.kwlist"
   ]
  },
  {
   "cell_type": "code",
   "execution_count": null,
   "id": "8b52c224-2395-4cda-a429-4dd8134b969b",
   "metadata": {},
   "outputs": [],
   "source": []
  }
 ],
 "metadata": {
  "kernelspec": {
   "display_name": "Python 3 (ipykernel)",
   "language": "python",
   "name": "python3"
  },
  "language_info": {
   "codemirror_mode": {
    "name": "ipython",
    "version": 3
   },
   "file_extension": ".py",
   "mimetype": "text/x-python",
   "name": "python",
   "nbconvert_exporter": "python",
   "pygments_lexer": "ipython3",
   "version": "3.13.2"
  }
 },
 "nbformat": 4,
 "nbformat_minor": 5
}
