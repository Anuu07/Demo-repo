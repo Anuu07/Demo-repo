{
 "cells": [
  {
   "cell_type": "code",
   "execution_count": 7,
   "id": "709c2027-7c96-4ad1-aa86-4863d48252d6",
   "metadata": {},
   "outputs": [],
   "source": [
    "from abc import*# abc is for abstract for python\n",
    "class Test:\n",
    "    @abstractmethod\n",
    "    def m1(self):\n",
    "        pass# pass karvaya hai tho output nhi ayega"
   ]
  },
  {
   "cell_type": "code",
   "execution_count": 8,
   "id": "ad36cd9a-2a53-4c03-a47d-5d758f7b0b1b",
   "metadata": {},
   "outputs": [],
   "source": [
    "from abc import*\n",
    "class Test:\n",
    "    pass\n",
    "t=Test()"
   ]
  },
  {
   "cell_type": "code",
   "execution_count": 11,
   "id": "3babeda3-e5e5-4bd0-a42d-a646493b25c9",
   "metadata": {},
   "outputs": [],
   "source": [
    "from abc import*\n",
    "class Test(ABC):\n",
    "    pass\n",
    "t=Test()"
   ]
  },
  {
   "cell_type": "code",
   "execution_count": 13,
   "id": "c6253bca-fe08-469a-b8e9-8e4b206c341e",
   "metadata": {},
   "outputs": [
    {
     "ename": "IndentationError",
     "evalue": "expected an indented block after function definition on line 4 (418856953.py, line 5)",
     "output_type": "error",
     "traceback": [
      "  \u001b[36mCell\u001b[39m\u001b[36m \u001b[39m\u001b[32mIn[13]\u001b[39m\u001b[32m, line 5\u001b[39m\n\u001b[31m    \u001b[39m\u001b[31mpass\u001b[39m\n    ^\n\u001b[31mIndentationError\u001b[39m\u001b[31m:\u001b[39m expected an indented block after function definition on line 4\n"
     ]
    }
   ],
   "source": [
    "from abc import*\n",
    "class Test(ABC):\n",
    "    @abstractmethod\n",
    "    def m1(self):\n",
    "    pass\n",
    "t=Test()"
   ]
  },
  {
   "cell_type": "code",
   "execution_count": 18,
   "id": "9d704589-5710-4dd0-a164-69ee02639d2c",
   "metadata": {},
   "outputs": [],
   "source": [
    "from abc import*\n",
    "class Vehicle(ABC):\n",
    "    @abstractmethod\n",
    "    def noofwheels(self):\n",
    "        pass\n",
    "\n",
    "class Bus(Vehicle):pass"
   ]
  },
  {
   "cell_type": "code",
   "execution_count": 19,
   "id": "05fda395-c612-49ea-814f-f9b40b5fb616",
   "metadata": {},
   "outputs": [
    {
     "ename": "TypeError",
     "evalue": "Can't instantiate abstract class Bus without an implementation for abstract method 'noofwheels'",
     "output_type": "error",
     "traceback": [
      "\u001b[31m---------------------------------------------------------------------------\u001b[39m",
      "\u001b[31mTypeError\u001b[39m                                 Traceback (most recent call last)",
      "\u001b[36mCell\u001b[39m\u001b[36m \u001b[39m\u001b[32mIn[19]\u001b[39m\u001b[32m, line 8\u001b[39m\n\u001b[32m      5\u001b[39m         \u001b[38;5;28;01mpass\u001b[39;00m\n\u001b[32m      7\u001b[39m \u001b[38;5;28;01mclass\u001b[39;00m\u001b[38;5;250m \u001b[39m\u001b[34;01mBus\u001b[39;00m(Vehicle):\u001b[38;5;28;01mpass\u001b[39;00m\n\u001b[32m----> \u001b[39m\u001b[32m8\u001b[39m b=\u001b[43mBus\u001b[49m\u001b[43m(\u001b[49m\u001b[43m)\u001b[49m\n",
      "\u001b[31mTypeError\u001b[39m: Can't instantiate abstract class Bus without an implementation for abstract method 'noofwheels'"
     ]
    }
   ],
   "source": [
    "from abc import*\n",
    "class Vehicle(ABC):\n",
    "    @abstractmethod\n",
    "    def noofwheels(self):\n",
    "        pass\n",
    "\n",
    "class Bus(Vehicle):pass\n",
    "b=Bus()"
   ]
  },
  {
   "cell_type": "code",
   "execution_count": 22,
   "id": "867ba4a7-f280-440a-9135-f879436b03b3",
   "metadata": {},
   "outputs": [
    {
     "name": "stdout",
     "output_type": "stream",
     "text": [
      "7\n",
      "3\n"
     ]
    }
   ],
   "source": [
    "from abc import*\n",
    "class Vehicle(ABC):\n",
    "    @abstractmethod\n",
    "    def noofwheels(self):\n",
    "        pass\n",
    "\n",
    "class Bus(Vehicle):\n",
    "    def noofwheels(self):\n",
    "        return 7\n",
    "\n",
    "class Auto(Vehicle):\n",
    "    def noofwheels(self):\n",
    "        return 3\n",
    "\n",
    "b=Bus()\n",
    "a=Auto()\n",
    "print(b.noofwheels())#7\n",
    "\n",
    "print(a.noofwheels())#3"
   ]
  },
  {
   "cell_type": "code",
   "execution_count": 4,
   "id": "3d70692b-76e8-429b-bb89-0bf87c0fd14c",
   "metadata": {},
   "outputs": [
    {
     "name": "stdin",
     "output_type": "stream",
     "text": [
      "Enter Database Name: Oracle\n"
     ]
    },
    {
     "name": "stdout",
     "output_type": "stream",
     "text": [
      "Connecting to oracle Database....\n",
      "DIsconnecting to oracle Database...\n"
     ]
    }
   ],
   "source": [
    "from abc import*\n",
    "class DBInterface(ABC):\n",
    "    @abstractmethod\n",
    "    def connect(self):pass\n",
    "\n",
    "    @abstractmethod\n",
    "    def disconnect(self):pass\n",
    "\n",
    "class Oracle(DBInterface):\n",
    "    def connect(self):\n",
    "        print('Connecting to oracle Database....')\n",
    "    def disconnect(self):\n",
    "        print('DIsconnecting to oracle Database...')\n",
    "\n",
    "class Sybase(DBInterface):\n",
    "    def connect(self):\n",
    "        print('Connecting to sybase Database....')\n",
    "    def disconnect(self):\n",
    "        print('DIsconnecting to sybase Database...')\n",
    "\n",
    "dbname=input('Enter Database Name:')\n",
    "classname=globals()[dbname]\n",
    "x=classname()\n",
    "x.connect()\n",
    "x.disconnect()"
   ]
  },
  {
   "cell_type": "code",
   "execution_count": 3,
   "id": "07924887-ed08-4b9d-bc5e-1708bf3296ae",
   "metadata": {},
   "outputs": [
    {
     "name": "stdout",
     "output_type": "stream",
     "text": [
      "Printing from HP Printer....\n",
      "This data has to print...\n",
      "Printing completed on HP Printer...\n"
     ]
    }
   ],
   "source": [
    "from abc import*\n",
    "class DBInterface(ABC):\n",
    "    @abstractmethod\n",
    "    def printit(self,text):pass\n",
    "\n",
    "    @abstractmethod\n",
    "    def disconnect(self):pass\n",
    "\n",
    "class EPSON(Printer):\n",
    "    def connect(self,text):\n",
    "        print('Printing from EPSON Printer....')\n",
    "    def disconnect(self):\n",
    "        print('Printing completed on EPSON Printer...')\n",
    "\n",
    "class HP(Printer):\n",
    "    def printit(self,text):\n",
    "        print('Printing from HP Printer....')\n",
    "        print(text)\n",
    "    def disconnect(self):\n",
    "        print('Printing completed on HP Printer...')\n",
    "\n",
    "with open('config.txt','r') as f:\n",
    "    pname=f.readline()\n",
    "\n",
    "classname=globals()[pname]\n",
    "x=classname()\n",
    "x.printit('This data has to print...')\n",
    "x.disconnect()"
   ]
  },
  {
   "cell_type": "code",
   "execution_count": 2,
   "id": "082282ee-cb38-4e03-b828-55432eb12693",
   "metadata": {},
   "outputs": [
    {
     "name": "stdout",
     "output_type": "stream",
     "text": [
      "Printing from HP Printer....\n",
      "This data has to print...\n",
      "Printing completed on HP Printer...\n"
     ]
    }
   ],
   "source": [
    "from abc import*\n",
    "class Printer(ABC):\n",
    "    @abstractmethod\n",
    "    def printit(self,text):pass\n",
    "\n",
    "    @abstractmethod\n",
    "    def disconnect(self):pass\n",
    "\n",
    "class EPSON(Printer):\n",
    "    def connect(self,text):\n",
    "        print('Printing from EPSON Printer....')\n",
    "    def disconnect(self):\n",
    "        print('Printing completed on EPSON Printer...')\n",
    "\n",
    "class HP(Printer):\n",
    "    def printit(self,text):\n",
    "        print('Printing from HP Printer....')\n",
    "        print(text)\n",
    "    def disconnect(self):\n",
    "        print('Printing completed on HP Printer...')\n",
    "\n",
    "with open('config.txt','r') as f:\n",
    "    pname=f.readline()\n",
    "\n",
    "classname=globals()[pname]\n",
    "x=classname()\n",
    "x.printit('This data has to print...')\n",
    "x.disconnect()"
   ]
  },
  {
   "cell_type": "code",
   "execution_count": 13,
   "id": "ce2ed736-8678-45f6-b07f-6196e1797150",
   "metadata": {},
   "outputs": [
    {
     "name": "stdout",
     "output_type": "stream",
     "text": [
      "10\n",
      "20\n",
      "30\n",
      "10\n",
      "20\n"
     ]
    },
    {
     "ename": "AttributeError",
     "evalue": "'Test' object has no attribute '_Test'",
     "output_type": "error",
     "traceback": [
      "\u001b[31m---------------------------------------------------------------------------\u001b[39m",
      "\u001b[31mAttributeError\u001b[39m                            Traceback (most recent call last)",
      "\u001b[36mCell\u001b[39m\u001b[36m \u001b[39m\u001b[32mIn[13]\u001b[39m\u001b[32m, line 14\u001b[39m\n\u001b[32m     12\u001b[39m \u001b[38;5;28mprint\u001b[39m(Test.x)\n\u001b[32m     13\u001b[39m \u001b[38;5;28mprint\u001b[39m(Test._y)\n\u001b[32m---> \u001b[39m\u001b[32m14\u001b[39m \u001b[38;5;28mprint\u001b[39m(\u001b[43mt\u001b[49m\u001b[43m.\u001b[49m\u001b[43m_Test\u001b[49m.__z)\n",
      "\u001b[31mAttributeError\u001b[39m: 'Test' object has no attribute '_Test'"
     ]
    }
   ],
   "source": [
    "class Test:\n",
    "    x=10\n",
    "    _y=20\n",
    "    __z=30\n",
    "    def m1(self):\n",
    "        print(Test.x)\n",
    "        print(Test._y)\n",
    "        print(Test.__z)\n",
    "\n",
    "t=Test()\n",
    "t.m1()\n",
    "print(Test.x)\n",
    "print(Test._y)\n",
    "print(t._Test.__z)"
   ]
  },
  {
   "cell_type": "code",
   "execution_count": 11,
   "id": "18074f04-6816-4de5-8704-1069a3b026eb",
   "metadata": {},
   "outputs": [
    {
     "name": "stdout",
     "output_type": "stream",
     "text": [
      "10\n"
     ]
    }
   ],
   "source": [
    "#to access private class\n",
    "class Test:\n",
    "    def __init__(self):\n",
    "        self.__x=10\n",
    "\n",
    "t=Test()\n",
    "print(t._Test__x)"
   ]
  },
  {
   "cell_type": "code",
   "execution_count": null,
   "id": "a22abb41-f6b8-4edf-ad98-dcb704167c7f",
   "metadata": {},
   "outputs": [],
   "source": []
  }
 ],
 "metadata": {
  "kernelspec": {
   "display_name": "Python 3 (ipykernel)",
   "language": "python",
   "name": "python3"
  },
  "language_info": {
   "codemirror_mode": {
    "name": "ipython",
    "version": 3
   },
   "file_extension": ".py",
   "mimetype": "text/x-python",
   "name": "python",
   "nbconvert_exporter": "python",
   "pygments_lexer": "ipython3",
   "version": "3.13.2"
  }
 },
 "nbformat": 4,
 "nbformat_minor": 5
}
