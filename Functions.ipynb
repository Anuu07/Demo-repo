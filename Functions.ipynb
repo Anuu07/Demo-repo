{
 "cells": [
  {
   "cell_type": "code",
   "execution_count": 2,
   "id": "d4bc8a4b-1f4e-40e9-b640-f4065975f22e",
   "metadata": {},
   "outputs": [
    {
     "name": "stdout",
     "output_type": "stream",
     "text": [
      "Hello World\n",
      "Hello World\n",
      "Hello World\n"
     ]
    }
   ],
   "source": [
    "#Function = no arg and no return value\n",
    "def wish():\n",
    "    print(\"Hello World\")\n",
    "wish()\n",
    "wish()\n",
    "wish()"
   ]
  },
  {
   "cell_type": "code",
   "execution_count": 4,
   "id": "e9b95743-300d-4db6-8112-24b18ff8ddcf",
   "metadata": {},
   "outputs": [
    {
     "name": "stdout",
     "output_type": "stream",
     "text": [
      "Hello Anu Goodmorning\n",
      "Hello ravi Goodmorning\n"
     ]
    }
   ],
   "source": [
    "def wish(name):\n",
    "    print(\"Hello\",name,\"Goodmorning\")\n",
    "wish(\"Anu\")\n",
    "wish(\"ravi\")"
   ]
  },
  {
   "cell_type": "code",
   "execution_count": 6,
   "id": "1a57929a-7ee7-4ca4-b37e-f7d53b3cafba",
   "metadata": {},
   "outputs": [
    {
     "name": "stdout",
     "output_type": "stream",
     "text": [
      "16\n"
     ]
    }
   ],
   "source": [
    "#arg with return value\n",
    "def square(n):\n",
    "    t=n*n\n",
    "    return(t)\n",
    "p= square(4)\n",
    "print(p)"
   ]
  },
  {
   "cell_type": "code",
   "execution_count": 7,
   "id": "e39c3bda-ace5-4a5c-92a8-07fff9a8f1e4",
   "metadata": {},
   "outputs": [
    {
     "name": "stdout",
     "output_type": "stream",
     "text": [
      "ans= 16\n"
     ]
    }
   ],
   "source": [
    "def square(n):\n",
    "    t=n*n\n",
    "    return(t)\n",
    "print('ans=',square(4))"
   ]
  },
  {
   "cell_type": "code",
   "execution_count": 10,
   "id": "472452b6-3158-41cd-8b32-52a6ceb30f26",
   "metadata": {},
   "outputs": [
    {
     "name": "stdout",
     "output_type": "stream",
     "text": [
      "The sum is 30\n",
      "The sum is 300\n"
     ]
    }
   ],
   "source": [
    "def add(x,y):\n",
    "    return x+y\n",
    "result=add(10,20)\n",
    "print(\"The sum is\",result)\n",
    "print(\"The sum is\",add(100,200))"
   ]
  },
  {
   "cell_type": "code",
   "execution_count": 11,
   "id": "4fa44012-b05c-45b0-adc9-c8bf2d15c883",
   "metadata": {},
   "outputs": [
    {
     "name": "stdout",
     "output_type": "stream",
     "text": [
      "Hello\n",
      "Hello\n",
      "None\n"
     ]
    }
   ],
   "source": [
    "def f1():\n",
    "    print(\"Hello\")\n",
    "f1()\n",
    "print(f1())"
   ]
  },
  {
   "cell_type": "code",
   "execution_count": 15,
   "id": "25c741ef-12c1-4621-ac17-1f4ddbdb7cb7",
   "metadata": {},
   "outputs": [
    {
     "name": "stdout",
     "output_type": "stream",
     "text": [
      "10 is Even Number\n",
      "15 is Odd Number\n"
     ]
    }
   ],
   "source": [
    "def even_odd(num):\n",
    "    if num%2==0:\n",
    "        print(num,\"is Even Number\")\n",
    "    else:\n",
    "        print(num,\"is Odd Number\")\n",
    "even_odd(10)\n",
    "even_odd(15)\n"
   ]
  },
  {
   "cell_type": "code",
   "execution_count": 2,
   "id": "5a381dfd-30ca-4a42-9a41-d528504545f8",
   "metadata": {},
   "outputs": [
    {
     "name": "stdout",
     "output_type": "stream",
     "text": [
      "The Factorial of 1 is: 1\n",
      "The Factorial of 2 is: 2\n",
      "The Factorial of 3 is: 6\n",
      "The Factorial of 4 is: 24\n"
     ]
    }
   ],
   "source": [
    "def fact(num):\n",
    "    result=1\n",
    "    while num>=1:\n",
    "        result =result*num\n",
    "        num=num-1\n",
    "    return result\n",
    "for i in range(1,5):\n",
    "    print(\"The Factorial of\",i,\"is:\",fact(i))"
   ]
  },
  {
   "cell_type": "code",
   "execution_count": 5,
   "id": "d5d95db5-961b-4c89-ae51-43f7703d2b5f",
   "metadata": {},
   "outputs": [
    {
     "name": "stdout",
     "output_type": "stream",
     "text": [
      "sum = 150 sub = 50\n"
     ]
    }
   ],
   "source": [
    "def sum_sub(a,b):\n",
    "    sum=a+b\n",
    "    sub=a-b\n",
    "    return sum,sub\n",
    "x,y=sum_sub(100,50)\n",
    "print(\"sum =\",x,\"sub =\",y)"
   ]
  },
  {
   "cell_type": "code",
   "execution_count": 7,
   "id": "1fce2940-57b5-48f2-8c42-a099da900328",
   "metadata": {},
   "outputs": [
    {
     "name": "stdout",
     "output_type": "stream",
     "text": [
      "The Results are (150, 50, 5000, 2.0)\n"
     ]
    }
   ],
   "source": [
    "def calc(a,b):\n",
    "    sum=a+b\n",
    "    sub=a-b\n",
    "    mul=a*b\n",
    "    div=a/b\n",
    "    return sum,sub,mul,div\n",
    "t=calc(100,50)\n",
    "print(\"The Results are\",t)"
   ]
  },
  {
   "cell_type": "code",
   "execution_count": 2,
   "id": "77a8d0dc-4bc5-4d65-bce1-89401a647a8f",
   "metadata": {},
   "outputs": [
    {
     "name": "stdout",
     "output_type": "stream",
     "text": [
      "Hello Good mornig ideal\n"
     ]
    }
   ],
   "source": [
    "def wish(name,msg):\n",
    "    print(\"Hello\",name,msg)\n",
    "wish(\"Good mornig\",\"ideal\")"
   ]
  },
  {
   "cell_type": "code",
   "execution_count": 1,
   "id": "ca1e36b0-f439-4656-b072-15e65f530465",
   "metadata": {},
   "outputs": [
    {
     "name": "stdout",
     "output_type": "stream",
     "text": [
      "Hello ideal Good morning\n",
      "Hello Guest Good morning\n"
     ]
    }
   ],
   "source": [
    "def wish(name=\"Guest\"):\n",
    "    print(\"Hello\",name,\"Good morning\")\n",
    "wish(\"ideal\")\n",
    "wish()"
   ]
  },
  {
   "cell_type": "code",
   "execution_count": 4,
   "id": "4dfff398-b50d-471b-bb6e-66b0a741c16b",
   "metadata": {},
   "outputs": [
    {
     "name": "stdout",
     "output_type": "stream",
     "text": [
      "The Sum =  0\n",
      "The Sum =  10\n",
      "The Sum =  30\n",
      "The Sum =  100\n"
     ]
    }
   ],
   "source": [
    "def sum(*n):#variable length argument\n",
    "    total=0\n",
    "    for n1 in n :\n",
    "        total = total + n1\n",
    "    print(\"The Sum = \",total)\n",
    "\n",
    "sum()\n",
    "sum(10)\n",
    "sum(10,20)\n",
    "sum(10,20,30,40)"
   ]
  },
  {
   "cell_type": "code",
   "execution_count": 6,
   "id": "35b82531-b839-4ea6-89f8-b91b3440ec74",
   "metadata": {},
   "outputs": [
    {
     "name": "stdout",
     "output_type": "stream",
     "text": [
      "10\n",
      "10\n",
      "20\n",
      "30\n",
      "40\n",
      "10\n",
      "A\n",
      "30\n",
      "B\n"
     ]
    }
   ],
   "source": [
    "def f1(n1,*s):\n",
    "    print(n1)\n",
    "    for s1 in s:\n",
    "        print(s1)\n",
    "f1(10)\n",
    "f1(10,20,30,40)\n",
    "f1(10,\"A\",30,\"B\")"
   ]
  },
  {
   "cell_type": "code",
   "execution_count": 9,
   "id": "e1fc0aba-dcb1-46c5-a2a6-6cdca4857d08",
   "metadata": {},
   "outputs": [
    {
     "name": "stdout",
     "output_type": "stream",
     "text": [
      "A\n",
      "10\n",
      "B\n",
      "10\n"
     ]
    }
   ],
   "source": [
    "def f1(*s,n1):\n",
    "    for s1 in s:\n",
    "        print(s1)\n",
    "        print(n1)\n",
    "f1(\"A\",\"B\",n1=10)# if n1 is not initialised then the error will occur"
   ]
  },
  {
   "cell_type": "code",
   "execution_count": 11,
   "id": "fd0defba-09c0-4e5e-ae0d-3f40c903824c",
   "metadata": {},
   "outputs": [
    {
     "name": "stdout",
     "output_type": "stream",
     "text": [
      "n1 = 10\n",
      "n2 = 20\n",
      "n3 = 30\n",
      "rno = 100\n",
      "name = ideal\n",
      "marks = 70\n",
      "subject = Python\n"
     ]
    }
   ],
   "source": [
    "def display(**kwargs):\n",
    "    for k,v in kwargs.items():\n",
    "        print(k,\"=\",v)\n",
    "display(n1=10,n2=20,n3=30)\n",
    "display(rno=100,name=\"ideal\",marks=70,subject=\"Python\")"
   ]
  },
  {
   "cell_type": "code",
   "execution_count": 13,
   "id": "6240e2a5-c599-49a2-99a1-03eee72346f6",
   "metadata": {},
   "outputs": [
    {
     "name": "stdout",
     "output_type": "stream",
     "text": [
      "10\n",
      "10\n"
     ]
    }
   ],
   "source": [
    "a=10# global variable\n",
    "def f1():\n",
    "    print(a)\n",
    "def f2():\n",
    "    print(a)\n",
    "f1()\n",
    "f2()"
   ]
  },
  {
   "cell_type": "code",
   "execution_count": 15,
   "id": "2db66d9d-fb0d-440a-86b9-d62f6529b966",
   "metadata": {},
   "outputs": [
    {
     "name": "stdout",
     "output_type": "stream",
     "text": [
      "10\n"
     ]
    },
    {
     "ename": "NameError",
     "evalue": "name 'b' is not defined",
     "output_type": "error",
     "traceback": [
      "\u001b[31m---------------------------------------------------------------------------\u001b[39m",
      "\u001b[31mNameError\u001b[39m                                 Traceback (most recent call last)",
      "\u001b[36mCell\u001b[39m\u001b[36m \u001b[39m\u001b[32mIn[15]\u001b[39m\u001b[32m, line 7\u001b[39m\n\u001b[32m      5\u001b[39m     \u001b[38;5;28mprint\u001b[39m(b)\n\u001b[32m      6\u001b[39m f1()\n\u001b[32m----> \u001b[39m\u001b[32m7\u001b[39m \u001b[43mf2\u001b[49m\u001b[43m(\u001b[49m\u001b[43m)\u001b[49m\n",
      "\u001b[36mCell\u001b[39m\u001b[36m \u001b[39m\u001b[32mIn[15]\u001b[39m\u001b[32m, line 5\u001b[39m, in \u001b[36mf2\u001b[39m\u001b[34m()\u001b[39m\n\u001b[32m      4\u001b[39m \u001b[38;5;28;01mdef\u001b[39;00m\u001b[38;5;250m \u001b[39m\u001b[34mf2\u001b[39m():\n\u001b[32m----> \u001b[39m\u001b[32m5\u001b[39m     \u001b[38;5;28mprint\u001b[39m(\u001b[43mb\u001b[49m)\n",
      "\u001b[31mNameError\u001b[39m: name 'b' is not defined"
     ]
    }
   ],
   "source": [
    "def f1():\n",
    "    b=10 # local variable\n",
    "    print(b)\n",
    "def f2():\n",
    "    print(b)\n",
    "f1()\n",
    "f2()"
   ]
  },
  {
   "cell_type": "code",
   "execution_count": 16,
   "id": "b8b618f1-4f0f-4cbd-b1e9-fb492cba0c4c",
   "metadata": {},
   "outputs": [
    {
     "name": "stdout",
     "output_type": "stream",
     "text": [
      "777\n",
      "10\n"
     ]
    }
   ],
   "source": [
    "c=10\n",
    "def f1():\n",
    "    c=777\n",
    "    print(c)\n",
    "def f2():\n",
    "    print(c)\n",
    "f1()\n",
    "f2()"
   ]
  },
  {
   "cell_type": "code",
   "execution_count": 18,
   "id": "5fd49c50-0282-489f-a26b-8d181ca2f5e3",
   "metadata": {},
   "outputs": [
    {
     "name": "stdout",
     "output_type": "stream",
     "text": [
      "777\n",
      "777\n"
     ]
    }
   ],
   "source": [
    "d=10\n",
    "def f1():\n",
    "    global d\n",
    "    d=777\n",
    "    print(d)\n",
    "def f2():\n",
    "    print(d)\n",
    "f1()\n",
    "f2()"
   ]
  },
  {
   "cell_type": "code",
   "execution_count": 19,
   "id": "d6db050d-5ef8-4238-9c80-627940735396",
   "metadata": {},
   "outputs": [
    {
     "name": "stdout",
     "output_type": "stream",
     "text": [
      "10\n",
      "777\n"
     ]
    }
   ],
   "source": [
    "d=10\n",
    "def f1():\n",
    "    global d\n",
    "    d=777\n",
    "    print(d)\n",
    "def f2():\n",
    "    print(d)\n",
    "f2()\n",
    "f1()"
   ]
  },
  {
   "cell_type": "code",
   "execution_count": 20,
   "id": "fad65940-1666-4463-a386-0c1027a59a7c",
   "metadata": {},
   "outputs": [
    {
     "name": "stdout",
     "output_type": "stream",
     "text": [
      "10\n",
      "10\n"
     ]
    }
   ],
   "source": [
    "def f1():\n",
    "    global a\n",
    "    a=10\n",
    "    print(a)\n",
    "def f2():\n",
    "    print(a)\n",
    "f1()\n",
    "f2()"
   ]
  },
  {
   "cell_type": "code",
   "execution_count": 22,
   "id": "0ad40857-3a1c-4510-a161-d4e9918820a0",
   "metadata": {},
   "outputs": [
    {
     "ename": "NameError",
     "evalue": "name 'f' is not defined",
     "output_type": "error",
     "traceback": [
      "\u001b[31m---------------------------------------------------------------------------\u001b[39m",
      "\u001b[31mNameError\u001b[39m                                 Traceback (most recent call last)",
      "\u001b[36mCell\u001b[39m\u001b[36m \u001b[39m\u001b[32mIn[22]\u001b[39m\u001b[32m, line 7\u001b[39m\n\u001b[32m      5\u001b[39m \u001b[38;5;28;01mdef\u001b[39;00m\u001b[38;5;250m \u001b[39m\u001b[34mf2\u001b[39m():\n\u001b[32m      6\u001b[39m     \u001b[38;5;28mprint\u001b[39m(f)\n\u001b[32m----> \u001b[39m\u001b[32m7\u001b[39m \u001b[43mf2\u001b[49m\u001b[43m(\u001b[49m\u001b[43m)\u001b[49m\n\u001b[32m      8\u001b[39m f1()\n",
      "\u001b[36mCell\u001b[39m\u001b[36m \u001b[39m\u001b[32mIn[22]\u001b[39m\u001b[32m, line 6\u001b[39m, in \u001b[36mf2\u001b[39m\u001b[34m()\u001b[39m\n\u001b[32m      5\u001b[39m \u001b[38;5;28;01mdef\u001b[39;00m\u001b[38;5;250m \u001b[39m\u001b[34mf2\u001b[39m():\n\u001b[32m----> \u001b[39m\u001b[32m6\u001b[39m     \u001b[38;5;28mprint\u001b[39m(\u001b[43mf\u001b[49m)\n",
      "\u001b[31mNameError\u001b[39m: name 'f' is not defined"
     ]
    }
   ],
   "source": [
    "def f1():\n",
    "    global f\n",
    "    f=10\n",
    "    print(f)\n",
    "def f2():\n",
    "    print(f)\n",
    "f2()\n",
    "f1()"
   ]
  },
  {
   "cell_type": "code",
   "execution_count": 23,
   "id": "a2882d3e-485f-43a0-8d22-56eaf65fd9a3",
   "metadata": {},
   "outputs": [
    {
     "name": "stdout",
     "output_type": "stream",
     "text": [
      "777\n",
      "10\n"
     ]
    }
   ],
   "source": [
    "a=10 # global var\n",
    "def f1():\n",
    "    a=777 # local var\n",
    "    print(a)\n",
    "\n",
    "    print(globals()['a'])# globals = function to access global var\n",
    "f1()"
   ]
  },
  {
   "cell_type": "code",
   "execution_count": 25,
   "id": "1dfb3019-b74d-4e65-9b4f-c7c670c94c8d",
   "metadata": {},
   "outputs": [
    {
     "name": "stdout",
     "output_type": "stream",
     "text": [
      "Factorial of 4 is : 24\n",
      "Factorial of 5 is : 120\n"
     ]
    }
   ],
   "source": [
    "def factorial(n):# recursive function\n",
    "    if n==0:\n",
    "        result=1\n",
    "    else:\n",
    "        result=n*factorial(n-1)\n",
    "    return result\n",
    "print(\"Factorial of 4 is :\",factorial(4))\n",
    "print(\"Factorial of 5 is :\",factorial(5))\n",
    "\n"
   ]
  },
  {
   "cell_type": "code",
   "execution_count": 26,
   "id": "d75e0683-3cbb-487a-89fc-0a99ca823d16",
   "metadata": {},
   "outputs": [
    {
     "name": "stdout",
     "output_type": "stream",
     "text": [
      "sum of 4 is: 10\n"
     ]
    }
   ],
   "source": [
    "def sum(n):\n",
    "    if n==0:\n",
    "        result=0\n",
    "    else:\n",
    "        result=n+sum(n-1)\n",
    "    return result\n",
    "print(\"sum of 4 is:\",sum(4))"
   ]
  },
  {
   "cell_type": "code",
   "execution_count": 27,
   "id": "f64d33ef-09f4-49a1-bfa3-d3c9b98171e9",
   "metadata": {},
   "outputs": [
    {
     "name": "stdout",
     "output_type": "stream",
     "text": [
      "The Square of 4 is :  16\n",
      "The Square of 5 is :  25\n"
     ]
    }
   ],
   "source": [
    "s= lambda n:n*n\n",
    "print(\"The Square of 4 is : \",s(4))\n",
    "print(\"The Square of 5 is : \",s(5))"
   ]
  },
  {
   "cell_type": "code",
   "execution_count": 28,
   "id": "f488544e-d146-42cc-a21b-914009dbf33a",
   "metadata": {},
   "outputs": [
    {
     "name": "stdout",
     "output_type": "stream",
     "text": [
      "The Sum of 10,20 is: 30\n",
      "The Sum of 30,40 is: 70\n"
     ]
    }
   ],
   "source": [
    "s= lambda a,b:a+b\n",
    "print(\"The Sum of 10,20 is:\",s(10,20))\n",
    "print(\"The Sum of 30,40 is:\",s(30,40))"
   ]
  },
  {
   "cell_type": "code",
   "execution_count": 30,
   "id": "26e090b0-ffe7-4bab-b882-71d16b1f93eb",
   "metadata": {},
   "outputs": [
    {
     "name": "stdout",
     "output_type": "stream",
     "text": [
      "[0, 10, 20, 30]\n"
     ]
    }
   ],
   "source": [
    "def isEven(x):\n",
    "    if x%2==0:\n",
    "        return True\n",
    "    else:\n",
    "        return False\n",
    "l=[0,5,10,15,20,25,30]\n",
    "l1=list(filter(isEven,l))\n",
    "print(l1)"
   ]
  },
  {
   "cell_type": "code",
   "execution_count": null,
   "id": "49a90a2e-5dff-44cf-a700-94571c2c4f33",
   "metadata": {},
   "outputs": [],
   "source": [
    "l=[0,5,10,15,20,25,30]\n",
    "l1=list(filter(lambda x:x%2==0,l)\n",
    "print(l1)\n",
    "l2"
   ]
  },
  {
   "cell_type": "code",
   "execution_count": 1,
   "id": "0b197c02-9835-4e40-b571-86f584ee49a9",
   "metadata": {},
   "outputs": [
    {
     "name": "stdout",
     "output_type": "stream",
     "text": [
      "[2, 4, 6, 8, 10]\n"
     ]
    }
   ],
   "source": [
    "l=[1,2,3,4,5]\n",
    "l1=list(map(lambda x:2*x,l))\n",
    "print(l1)"
   ]
  },
  {
   "cell_type": "code",
   "execution_count": 2,
   "id": "7bc4e824-f830-4341-b508-1e21bef90de8",
   "metadata": {},
   "outputs": [
    {
     "name": "stdout",
     "output_type": "stream",
     "text": [
      "[1, 4, 9, 16, 25]\n"
     ]
    }
   ],
   "source": [
    "l=[1,2,3,4,5]\n",
    "l1=list(map(lambda x:x*x,l))\n",
    "print(l1)"
   ]
  },
  {
   "cell_type": "code",
   "execution_count": 3,
   "id": "bf31375e-9ca4-4d99-a186-e1cb4ff6a2a5",
   "metadata": {},
   "outputs": [
    {
     "name": "stdout",
     "output_type": "stream",
     "text": [
      "[2, 6, 12, 20]\n"
     ]
    }
   ],
   "source": [
    "l1=[1,2,3,4]\n",
    "l2=[2,3,4,5]\n",
    "l3=list(map(lambda x,y:x*y,l1,l2))\n",
    "print(l3)"
   ]
  },
  {
   "cell_type": "code",
   "execution_count": 4,
   "id": "a88d8698-8c34-4663-8dd6-4a82f0140d15",
   "metadata": {},
   "outputs": [
    {
     "name": "stdout",
     "output_type": "stream",
     "text": [
      "150\n"
     ]
    }
   ],
   "source": [
    "from functools import*\n",
    "l=[10,20,30,40,50]\n",
    "result=reduce(lambda x,y:x+y,l)\n",
    "print(result)"
   ]
  },
  {
   "cell_type": "code",
   "execution_count": 5,
   "id": "0216ee16-ed52-4641-a695-27300f03ba37",
   "metadata": {},
   "outputs": [
    {
     "name": "stdout",
     "output_type": "stream",
     "text": [
      "5050\n"
     ]
    }
   ],
   "source": [
    "from functools import*\n",
    "l=[10,20,30,40,50]\n",
    "result=reduce(lambda x,y:x+y,range(1,101))\n",
    "print(result)"
   ]
  },
  {
   "cell_type": "code",
   "execution_count": 1,
   "id": "b0d5b9f0-99de-4e4c-8b3a-4e67be9d842d",
   "metadata": {},
   "outputs": [
    {
     "name": "stdout",
     "output_type": "stream",
     "text": [
      "<function f1 at 0x0000018CFF446A20>\n",
      "1705089722912\n"
     ]
    }
   ],
   "source": [
    "def f1():\n",
    "    print(\"Hello\")\n",
    "print(f1)\n",
    "print(id(f1))"
   ]
  },
  {
   "cell_type": "code",
   "execution_count": 2,
   "id": "ebd049ca-b2a9-4de0-aab8-b074827c6648",
   "metadata": {},
   "outputs": [
    {
     "name": "stdout",
     "output_type": "stream",
     "text": [
      "140723568051400\n",
      "<class 'int'>\n"
     ]
    }
   ],
   "source": [
    "a=10\n",
    "print(id(a))\n",
    "print(type(a))"
   ]
  },
  {
   "cell_type": "code",
   "execution_count": 4,
   "id": "b836eac3-4206-4376-b57f-4fc47514604e",
   "metadata": {},
   "outputs": [
    {
     "name": "stdout",
     "output_type": "stream",
     "text": [
      "1705089723072\n",
      "1705089723072\n",
      "Good Morning: ideal\n",
      "Good Morning: ideal\n"
     ]
    }
   ],
   "source": [
    "def wish(name):\n",
    "    print(\"Good Morning:\",name)\n",
    "greeting=wish\n",
    "print(id(wish))\n",
    "print(id(greeting))\n",
    "\n",
    "greeting('ideal')#both greeting and wish will give same output\n",
    "wish('ideal')\n"
   ]
  },
  {
   "cell_type": "code",
   "execution_count": 8,
   "id": "6138e399-2a2a-44b8-9ba3-2e98968b6c33",
   "metadata": {},
   "outputs": [
    {
     "name": "stdout",
     "output_type": "stream",
     "text": [
      "1705095726400\n",
      "1705095726400\n",
      "Good Morning: Pavan\n"
     ]
    },
    {
     "ename": "NameError",
     "evalue": "name 'wish' is not defined",
     "output_type": "error",
     "traceback": [
      "\u001b[31m---------------------------------------------------------------------------\u001b[39m",
      "\u001b[31mNameError\u001b[39m                                 Traceback (most recent call last)",
      "\u001b[36mCell\u001b[39m\u001b[36m \u001b[39m\u001b[32mIn[8]\u001b[39m\u001b[32m, line 9\u001b[39m\n\u001b[32m      7\u001b[39m \u001b[38;5;28;01mdel\u001b[39;00m wish\n\u001b[32m      8\u001b[39m greeting(\u001b[33m'\u001b[39m\u001b[33mPavan\u001b[39m\u001b[33m'\u001b[39m)\n\u001b[32m----> \u001b[39m\u001b[32m9\u001b[39m \u001b[43mwish\u001b[49m(\u001b[33m'\u001b[39m\u001b[33mPavan\u001b[39m\u001b[33m'\u001b[39m)\u001b[38;5;66;03m#wish is deleted \u001b[39;00m\n",
      "\u001b[31mNameError\u001b[39m: name 'wish' is not defined"
     ]
    }
   ],
   "source": [
    "def wish(name):\n",
    "    print(\"Good Morning:\",name)\n",
    "greeting=wish\n",
    "print(id(wish))\n",
    "print(id(greeting))\n",
    "\n",
    "del wish\n",
    "greeting('Pavan')\n",
    "wish('Pavan')#wish is deleted \n"
   ]
  },
  {
   "cell_type": "code",
   "execution_count": 9,
   "id": "bd96809e-b388-4b01-acce-bfb11c5bee93",
   "metadata": {},
   "outputs": [
    {
     "name": "stdout",
     "output_type": "stream",
     "text": [
      "outer function started\n",
      "outer function calling inner function\n",
      "inner function execution\n"
     ]
    }
   ],
   "source": [
    "def outer():\n",
    "    print(\"outer function started\")\n",
    "    def inner():\n",
    "        print(\"inner function execution\")\n",
    "    print(\"outer function calling inner function\")\n",
    "    inner()\n",
    "\n",
    "outer()#inner can not be called"
   ]
  },
  {
   "cell_type": "code",
   "execution_count": 13,
   "id": "30756d53-4332-43d4-ac69-472d8ba874eb",
   "metadata": {},
   "outputs": [
    {
     "name": "stdout",
     "output_type": "stream",
     "text": [
      "outer function started\n",
      "outer function returning inner function\n",
      "inner function execution\n",
      "inner function execution\n",
      "inner function execution\n"
     ]
    }
   ],
   "source": [
    "def outer():\n",
    "    print(\"outer function started\")\n",
    "    def inner():\n",
    "        print(\"inner function execution\")\n",
    "    print(\"outer function returning inner function\")\n",
    "    return inner# inner func ka obect id is stored in f1 becoz of return (inner or local ks obect bahar bhejta hai)\n",
    "\n",
    "f1=outer()# without () it will give outer object\n",
    "f1()\n",
    "f1()\n",
    "f1()"
   ]
  },
  {
   "cell_type": "code",
   "execution_count": 18,
   "id": "32d3e70d-a730-4905-8c4c-e737f39e1f7c",
   "metadata": {},
   "outputs": [
    {
     "name": "stdout",
     "output_type": "stream",
     "text": [
      "Hello a Good Morning\n",
      "Hello b Good Morning\n",
      "Hello Sunny Bad Morning\n"
     ]
    }
   ],
   "source": [
    "#Function Decoraters(interview question)\n",
    "def decor(func):\n",
    "    def inner(name):\n",
    "        if name==\"Sunny\":\n",
    "            print(\"Hello Sunny Bad Morning\")\n",
    "        else:\n",
    "            func(name)\n",
    "    return inner\n",
    "@decor#@ is annotation\n",
    "def wish(name):\n",
    "    print(\"Hello\",name,\"Good Morning\")\n",
    "\n",
    "wish('a')\n",
    "wish('b')\n",
    "wish('Sunny')\n"
   ]
  },
  {
   "cell_type": "code",
   "execution_count": 23,
   "id": "782dca3d-a218-45db-966d-0954ec859aa4",
   "metadata": {},
   "outputs": [
    {
     "name": "stdout",
     "output_type": "stream",
     "text": [
      "Hello a Good Morning\n",
      "Hello b Good Morning\n",
      "Hello Sunny Good Morning\n",
      "Hello a Bad Morning\n",
      "Hello Sunny Bad Morning\n"
     ]
    }
   ],
   "source": [
    "def decor(func):\n",
    "    def inner(name):\n",
    "        if name==\"Sunny\":\n",
    "            print(\"Hello Sunny Bad Morning\")\n",
    "        elif name==\"a\":\n",
    "            print(\"Hello a Bad Morning\")\n",
    "        else:\n",
    "            func(name)\n",
    "    return inner\n",
    "\n",
    "def wish(name):\n",
    "    print(\"Hello\",name,\"Good Morning\")\n",
    "\n",
    "decorfunction=decor(wish)\n",
    "\n",
    "wish('a')\n",
    "wish('b')\n",
    "wish('Sunny')\n",
    "decorfunction('a')\n",
    "decorfunction('Sunny')\n"
   ]
  },
  {
   "cell_type": "code",
   "execution_count": 25,
   "id": "65dd4685-0b30-42b1-9fda-f5812a0af511",
   "metadata": {},
   "outputs": [
    {
     "name": "stdout",
     "output_type": "stream",
     "text": [
      "We are dividing 20 with 2\n",
      "10.0\n",
      "We are dividing 20 with 0\n",
      "OOPS....cannot divide\n",
      "None\n"
     ]
    }
   ],
   "source": [
    "def smart_division(func):\n",
    "    def inner(a,b):\n",
    "        print(\"We are dividing\",a,\"with\",b)\n",
    "        if b==0:\n",
    "            print(\"OOPS....cannot divide\")\n",
    "            return \n",
    "        else:\n",
    "            return func(a,b)\n",
    "    return inner\n",
    "\n",
    "@smart_division\n",
    "def division(a,b):\n",
    "    return a/b\n",
    "\n",
    "print(division(20,2))\n",
    "print(division(20,0))\n"
   ]
  },
  {
   "cell_type": "code",
   "execution_count": 26,
   "id": "4af04330-9d87-4c2a-bd4d-af6a4ea1bf55",
   "metadata": {},
   "outputs": [],
   "source": [
    "def num():\n",
    "    pass# will pass the function"
   ]
  },
  {
   "cell_type": "code",
   "execution_count": 27,
   "id": "5f06a93e-0b96-4603-a81d-f9deab6ffd36",
   "metadata": {},
   "outputs": [
    {
     "name": "stdout",
     "output_type": "stream",
     "text": [
      "400\n"
     ]
    }
   ],
   "source": [
    "def decor1(func):\n",
    "    def inner():\n",
    "        x=func()\n",
    "        return x*x\n",
    "    return inner\n",
    "\n",
    "def decor(func):\n",
    "    def inner():\n",
    "        x=func()\n",
    "        return 2*x\n",
    "    return inner\n",
    "\n",
    "@decor1\n",
    "@decor\n",
    "def num():\n",
    "    return 10\n",
    "\n",
    "print (num())"
   ]
  },
  {
   "cell_type": "code",
   "execution_count": 3,
   "id": "40022b8d-6f5b-4a71-928d-2c5cccbe444e",
   "metadata": {},
   "outputs": [
    {
     "name": "stdout",
     "output_type": "stream",
     "text": [
      "Second Decor(decor1) Function Execution\n",
      "First Decor(decor) Function Execution\n",
      "Hello Ideal Good Morning\n"
     ]
    }
   ],
   "source": [
    "def decor (func):\n",
    "    def inner(name):\n",
    "        print(\"First Decor(decor) Function Execution\")\n",
    "        func(name)\n",
    "    return inner\n",
    "\n",
    "def decor1(func):\n",
    "    def inner(name):\n",
    "        print(\"Second Decor(decor1) Function Execution\")\n",
    "        func(name)\n",
    "    return inner\n",
    "\n",
    "@decor1\n",
    "@decor\n",
    "def wish(name):\n",
    "    print(\"Hello\",name,\"Good Morning\")\n",
    "\n",
    "wish(\"Ideal\")"
   ]
  },
  {
   "cell_type": "code",
   "execution_count": 4,
   "id": "bbb9badf-661e-4a18-b58d-c806299627aa",
   "metadata": {},
   "outputs": [
    {
     "name": "stdout",
     "output_type": "stream",
     "text": [
      "First Decor(decor) Function Execution\n",
      "Hello Ideal Good Morning\n"
     ]
    }
   ],
   "source": [
    "def decor (func):\n",
    "    def inner(name):\n",
    "        print(\"First Decor(decor) Function Execution\")\n",
    "        func(name)\n",
    "    return inner\n",
    "\n",
    "def decor1(func):\n",
    "    def inner(name):\n",
    "        print(\"Second Decor(decor1) Function Execution\")\n",
    "        func(name)\n",
    "    return inner\n",
    "\n",
    "@decor\n",
    "def wish(name):\n",
    "    print(\"Hello\",name,\"Good Morning\")\n",
    "\n",
    "wish(\"Ideal\")"
   ]
  },
  {
   "cell_type": "code",
   "execution_count": 6,
   "id": "ccc40852-34f2-4a1d-9a8c-d0234f78865c",
   "metadata": {},
   "outputs": [
    {
     "name": "stdout",
     "output_type": "stream",
     "text": [
      "<class 'generator'>\n",
      "A\n",
      "B\n",
      "C\n"
     ]
    }
   ],
   "source": [
    "#yeild\n",
    "def mygen():\n",
    "    yield'A'\n",
    "    yield'B'\n",
    "    yield'C'\n",
    "g=mygen()\n",
    "print(type(g)) #generator\n",
    "\n",
    "print(next(g))\n",
    "print(next(g))\n",
    "print(next(g))"
   ]
  },
  {
   "cell_type": "code",
   "execution_count": 3,
   "id": "5c60e388-3ba2-4fd8-8ffd-2c8635204048",
   "metadata": {},
   "outputs": [
    {
     "name": "stdout",
     "output_type": "stream",
     "text": [
      "Start Countdown\n",
      "5\n",
      "4\n",
      "3\n",
      "2\n",
      "1\n"
     ]
    }
   ],
   "source": [
    "def countdown(num):\n",
    "    print(\"Start Countdown\")\n",
    "    while(num>0):\n",
    "        yield num\n",
    "        num=num-1\n",
    "\n",
    "values=countdown(5)\n",
    "for x in values:\n",
    "    print(x)"
   ]
  },
  {
   "cell_type": "code",
   "execution_count": 2,
   "id": "fb4ce90e-d930-42d8-816b-9a54a8dc973b",
   "metadata": {},
   "outputs": [
    {
     "name": "stdout",
     "output_type": "stream",
     "text": [
      "1\n",
      "2\n",
      "3\n",
      "4\n",
      "5\n"
     ]
    }
   ],
   "source": [
    "def firstn(num):\n",
    "    n=1\n",
    "    while n<=num:\n",
    "        yield n\n",
    "        n=n+1\n",
    "\n",
    "values=firstn(5)\n",
    "for x in values:\n",
    "    print(x)"
   ]
  },
  {
   "cell_type": "code",
   "execution_count": null,
   "id": "42ae348a-fad0-49e1-9566-f4c3d21969c6",
   "metadata": {},
   "outputs": [],
   "source": []
  }
 ],
 "metadata": {
  "kernelspec": {
   "display_name": "Python 3 (ipykernel)",
   "language": "python",
   "name": "python3"
  },
  "language_info": {
   "codemirror_mode": {
    "name": "ipython",
    "version": 3
   },
   "file_extension": ".py",
   "mimetype": "text/x-python",
   "name": "python",
   "nbconvert_exporter": "python",
   "pygments_lexer": "ipython3",
   "version": "3.13.2"
  }
 },
 "nbformat": 4,
 "nbformat_minor": 5
}
