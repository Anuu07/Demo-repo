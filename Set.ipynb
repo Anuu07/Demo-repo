{
 "cells": [
  {
   "cell_type": "code",
   "execution_count": 1,
   "id": "13b80fb9-617c-44ad-b1f9-4b4700d72575",
   "metadata": {},
   "outputs": [
    {
     "name": "stdout",
     "output_type": "stream",
     "text": [
      "{0, 1, 2, 3, 4, 40, 10, 50, 20, 60, 30}\n"
     ]
    }
   ],
   "source": [
    "s={10,20,30}\n",
    "l=[40,50,60,10]\n",
    "s.update(l,range(5))\n",
    "print(s)"
   ]
  },
  {
   "cell_type": "code",
   "execution_count": 2,
   "id": "b184b7fc-2e45-443f-9ef3-acb5edbe95f0",
   "metadata": {},
   "outputs": [
    {
     "name": "stdout",
     "output_type": "stream",
     "text": [
      "{10, 20, 30}\n",
      "1746296252768\n",
      "1746296252096\n"
     ]
    }
   ],
   "source": [
    "s={10,20,30}\n",
    "s1=s.copy()\n",
    "print(s1)\n",
    "print(id(s))\n",
    "print(id(s1))"
   ]
  },
  {
   "cell_type": "code",
   "execution_count": 3,
   "id": "ae6a0843-62ab-4862-8111-d4a2d1f39705",
   "metadata": {},
   "outputs": [
    {
     "name": "stdout",
     "output_type": "stream",
     "text": [
      "{40, 10, 20, 30}\n",
      "40\n",
      "{10, 20, 30}\n"
     ]
    }
   ],
   "source": [
    "s={40,10,30,20}\n",
    "print(s)\n",
    "print(s.pop())\n",
    "print(s)"
   ]
  },
  {
   "cell_type": "code",
   "execution_count": 5,
   "id": "3bb1cfb6-72a6-4be7-ba15-1473a8472831",
   "metadata": {},
   "outputs": [
    {
     "name": "stdout",
     "output_type": "stream",
     "text": [
      "{40, 10, 20}\n"
     ]
    },
    {
     "ename": "KeyError",
     "evalue": "50",
     "output_type": "error",
     "traceback": [
      "\u001b[31m---------------------------------------------------------------------------\u001b[39m",
      "\u001b[31mKeyError\u001b[39m                                  Traceback (most recent call last)",
      "\u001b[36mCell\u001b[39m\u001b[36m \u001b[39m\u001b[32mIn[5]\u001b[39m\u001b[32m, line 4\u001b[39m\n\u001b[32m      2\u001b[39m s.remove(\u001b[32m30\u001b[39m)\n\u001b[32m      3\u001b[39m \u001b[38;5;28mprint\u001b[39m(s)\n\u001b[32m----> \u001b[39m\u001b[32m4\u001b[39m \u001b[43ms\u001b[49m\u001b[43m.\u001b[49m\u001b[43mremove\u001b[49m\u001b[43m(\u001b[49m\u001b[32;43m50\u001b[39;49m\u001b[43m)\u001b[49m\n",
      "\u001b[31mKeyError\u001b[39m: 50"
     ]
    }
   ],
   "source": [
    "s={40,10,30,20}\n",
    "s.remove(30)\n",
    "print(s)\n",
    "s.remove(50)"
   ]
  },
  {
   "cell_type": "code",
   "execution_count": 6,
   "id": "b7ec2b2a-c2b4-4a34-980a-4413fa106e7f",
   "metadata": {},
   "outputs": [
    {
     "name": "stdout",
     "output_type": "stream",
     "text": [
      "{20, 30}\n",
      "{20, 30}\n"
     ]
    }
   ],
   "source": [
    "s={10,20,30}\n",
    "s.discard(10)\n",
    "print(s)\n",
    "s.discard(50)\n",
    "print(s)"
   ]
  },
  {
   "cell_type": "code",
   "execution_count": 7,
   "id": "caa46473-9261-49a3-922e-6c09827e70e6",
   "metadata": {},
   "outputs": [
    {
     "name": "stdout",
     "output_type": "stream",
     "text": [
      "{10, 20, 30}\n",
      "set()\n"
     ]
    }
   ],
   "source": [
    "s={10,20,30}\n",
    "print(s)\n",
    "s.clear()\n",
    "print(s)"
   ]
  },
  {
   "cell_type": "code",
   "execution_count": 8,
   "id": "f9092c11-5551-4891-b51c-4ec75b8b98f9",
   "metadata": {},
   "outputs": [
    {
     "name": "stdout",
     "output_type": "stream",
     "text": [
      "{40, 10, 50, 20, 60, 30}\n",
      "{40, 10, 50, 20, 60, 30}\n"
     ]
    }
   ],
   "source": [
    "#union\n",
    "x={10,20,30,40}\n",
    "y={30,40,50,60}\n",
    "print(x.union(y))# both statements are same\n",
    "print(x|y)"
   ]
  },
  {
   "cell_type": "code",
   "execution_count": 9,
   "id": "1043c73c-87d1-4713-9654-2ada6cb84876",
   "metadata": {},
   "outputs": [
    {
     "name": "stdout",
     "output_type": "stream",
     "text": [
      "{40, 30}\n",
      "{40, 30}\n"
     ]
    }
   ],
   "source": [
    "#intersection\n",
    "x={10,20,30,40}\n",
    "y={30,40,50,60}\n",
    "print(x.intersection(y))# both statements are same\n",
    "print(x&y)"
   ]
  },
  {
   "cell_type": "code",
   "execution_count": 10,
   "id": "a3986559-35be-4e5d-b329-6429cdb7e284",
   "metadata": {},
   "outputs": [
    {
     "name": "stdout",
     "output_type": "stream",
     "text": [
      "{10, 20}\n",
      "{10, 20}\n"
     ]
    }
   ],
   "source": [
    "#difference\n",
    "x={10,20,30,40}\n",
    "y={30,40,50,60}\n",
    "print(x.difference(y))# both statements are same\n",
    "print(x-y)#only x element matters\n"
   ]
  },
  {
   "cell_type": "code",
   "execution_count": 11,
   "id": "1a40abdb-7055-4cbd-8595-ca33dc420aa6",
   "metadata": {},
   "outputs": [
    {
     "name": "stdout",
     "output_type": "stream",
     "text": [
      "{50, 60}\n",
      "{50, 60}\n"
     ]
    }
   ],
   "source": [
    "#difference\n",
    "x={10,20,30,40}\n",
    "y={30,40,50,60}\n",
    "print(y.difference(x))# both statements are same\n",
    "print(y-x)#only y element matters"
   ]
  },
  {
   "cell_type": "code",
   "execution_count": 15,
   "id": "e451b9d3-e1cd-4efb-9ec6-e0ee3bb3ba1b",
   "metadata": {},
   "outputs": [
    {
     "name": "stdout",
     "output_type": "stream",
     "text": [
      "{22}\n",
      "{21}\n"
     ]
    }
   ],
   "source": [
    "x={2,234,22,29,21}\n",
    "y={234,21,29,2}\n",
    "z={234,2,29}\n",
    "print(x.difference(y))# both statements are same\n",
    "print(y-z)"
   ]
  },
  {
   "cell_type": "code",
   "execution_count": 17,
   "id": "051fa3d8-5a45-4e62-8459-c852f41ef4a2",
   "metadata": {},
   "outputs": [
    {
     "name": "stdout",
     "output_type": "stream",
     "text": [
      "{10, 50, 20, 60}\n",
      "{10, 50, 20, 60}\n"
     ]
    }
   ],
   "source": [
    "x={10,20,30,40}\n",
    "y={30,40,50,60}\n",
    "print(x.symmetric_difference(y))\n",
    "#or\n",
    "print(x^y)#common values ko chorke ans dega"
   ]
  },
  {
   "cell_type": "code",
   "execution_count": 18,
   "id": "83daee58-07a6-4099-b3d3-6ff2eda5b7a0",
   "metadata": {},
   "outputs": [
    {
     "name": "stdout",
     "output_type": "stream",
     "text": [
      "{'d', 'l', 'a', 'i', 'e'}\n",
      "True\n",
      "False\n"
     ]
    }
   ],
   "source": [
    "s=set(\"ideal\")\n",
    "print(s)\n",
    "print('d'in s)\n",
    "print('z'in s)"
   ]
  },
  {
   "cell_type": "code",
   "execution_count": 19,
   "id": "5510c986-66f0-42ae-8cae-211102780d66",
   "metadata": {},
   "outputs": [
    {
     "name": "stdin",
     "output_type": "stream",
     "text": [
      "Enter list of values: [23,24,25,23]\n"
     ]
    },
    {
     "name": "stdout",
     "output_type": "stream",
     "text": [
      "{24, 25, 23}\n"
     ]
    }
   ],
   "source": [
    "l=eval(input(\"Enter list of values:\"))# eval is used for list like int is for integer\n",
    "s=set(l)\n",
    "print(s)"
   ]
  },
  {
   "cell_type": "code",
   "execution_count": 21,
   "id": "1f62de0b-8626-4f01-a82e-7f98d6684385",
   "metadata": {},
   "outputs": [
    {
     "name": "stdin",
     "output_type": "stream",
     "text": [
      "Enter word to search for vowels: anushree\n"
     ]
    },
    {
     "name": "stdout",
     "output_type": "stream",
     "text": [
      "The different vowel present in  anushree are {'u', 'a', 'e'}\n"
     ]
    }
   ],
   "source": [
    "#print different vowels present in set\n",
    "w=input(\"Enter word to search for vowels:\")\n",
    "s=set(w)\n",
    "v={'a','e','i','o','u'}\n",
    "d=s.intersection(v)\n",
    "print(\"The different vowel present in \",w,\"are\",d)"
   ]
  },
  {
   "cell_type": "code",
   "execution_count": null,
   "id": "ea57a0e9-af56-4e8f-b39e-89169cd3b24f",
   "metadata": {},
   "outputs": [],
   "source": []
  }
 ],
 "metadata": {
  "kernelspec": {
   "display_name": "Python 3 (ipykernel)",
   "language": "python",
   "name": "python3"
  },
  "language_info": {
   "codemirror_mode": {
    "name": "ipython",
    "version": 3
   },
   "file_extension": ".py",
   "mimetype": "text/x-python",
   "name": "python",
   "nbconvert_exporter": "python",
   "pygments_lexer": "ipython3",
   "version": "3.13.2"
  }
 },
 "nbformat": 4,
 "nbformat_minor": 5
}
