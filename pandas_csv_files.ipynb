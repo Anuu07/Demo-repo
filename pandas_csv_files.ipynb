{
 "cells": [
  {
   "cell_type": "code",
   "execution_count": 2,
   "id": "6c7c826e-f679-4f06-a584-56e0a86647ba",
   "metadata": {},
   "outputs": [
    {
     "name": "stdout",
     "output_type": "stream",
     "text": [
      "   ENO     ENAME    ESAL          EADDR\n",
      "0    1  Anushree  500000   shakti nagar\n",
      "1    2    Ankita  500000  yadav coloney\n"
     ]
    }
   ],
   "source": [
    "import pandas as pd\n",
    "#read and load the emp.csv file to a df\n",
    "emp_df = pd.read_csv(\"emp.csv\")\n",
    "#print the data frames\n",
    "print(emp_df)"
   ]
  },
  {
   "cell_type": "code",
   "execution_count": 3,
   "id": "2f853085-f6f0-4fba-a8fb-868322501979",
   "metadata": {},
   "outputs": [
    {
     "name": "stdout",
     "output_type": "stream",
     "text": [
      "2\n",
      "4\n"
     ]
    }
   ],
   "source": [
    "import pandas as pd\n",
    "#read and load the emp.csv file to a df\n",
    "emp_df = pd.read_csv(\"emp.csv\")\n",
    "rows,cols=emp_df.shape\n",
    "print(rows)\n",
    "print(cols)"
   ]
  },
  {
   "cell_type": "code",
   "execution_count": 6,
   "id": "138e886d-1681-4e88-b21e-89b9bf3f6458",
   "metadata": {},
   "outputs": [
    {
     "name": "stdout",
     "output_type": "stream",
     "text": [
      "   ENO     ENAME    ESAL\n",
      "0    1  Anushree  500000\n",
      "1    2    Ankita  500000\n"
     ]
    }
   ],
   "source": [
    "import pandas as pd\n",
    "emp_cols_df = pd.read_csv(\"emp.csv\",usecols=['ENO','ENAME','ESAL'])\n",
    "print(emp_cols_df)"
   ]
  },
  {
   "cell_type": "code",
   "execution_count": 8,
   "id": "5d372b84-e2d2-47ae-b138-f9bb2a32cd26",
   "metadata": {},
   "outputs": [
    {
     "name": "stdout",
     "output_type": "stream",
     "text": [
      "   ENO     ENAME    ESAL         EADDR\n",
      "0    1  Anushree  500000  shakti nagar\n"
     ]
    }
   ],
   "source": [
    "import pandas as pd\n",
    "emp_rows_df=pd.read_csv(\"emp.csv\",nrows=1)\n",
    "print(emp_rows_df)"
   ]
  },
  {
   "cell_type": "code",
   "execution_count": 11,
   "id": "860d0d9b-a4b5-4bc6-a454-d60879f31abc",
   "metadata": {},
   "outputs": [
    {
     "name": "stdout",
     "output_type": "stream",
     "text": [
      "        ENAME    ESAL\n",
      "ENO                  \n",
      "1    Anushree  500000\n"
     ]
    }
   ],
   "source": [
    "#removing the inde\n",
    "import pandas as pd\n",
    "emp_rows_df=pd.read_csv(\"emp.csv\",nrows=1,usecols=['ENO','ENAME','ESAL'],index_col=0)\n",
    "print(emp_rows_df)"
   ]
  },
  {
   "cell_type": "code",
   "execution_count": 12,
   "id": "a00e597a-c21e-4d20-a5ad-1104bf58a323",
   "metadata": {},
   "outputs": [
    {
     "name": "stdout",
     "output_type": "stream",
     "text": [
      "updated Successfully\n"
     ]
    },
    {
     "data": {
      "text/html": [
       "<div>\n",
       "<style scoped>\n",
       "    .dataframe tbody tr th:only-of-type {\n",
       "        vertical-align: middle;\n",
       "    }\n",
       "\n",
       "    .dataframe tbody tr th {\n",
       "        vertical-align: top;\n",
       "    }\n",
       "\n",
       "    .dataframe thead th {\n",
       "        text-align: right;\n",
       "    }\n",
       "</style>\n",
       "<table border=\"1\" class=\"dataframe\">\n",
       "  <thead>\n",
       "    <tr style=\"text-align: right;\">\n",
       "      <th></th>\n",
       "      <th>ENO</th>\n",
       "      <th>ENAME</th>\n",
       "      <th>ESAL</th>\n",
       "      <th>EADDR</th>\n",
       "    </tr>\n",
       "  </thead>\n",
       "  <tbody>\n",
       "    <tr>\n",
       "      <th>0</th>\n",
       "      <td>1</td>\n",
       "      <td>Anushree</td>\n",
       "      <td>550000</td>\n",
       "      <td>shakti nagar</td>\n",
       "    </tr>\n",
       "    <tr>\n",
       "      <th>1</th>\n",
       "      <td>2</td>\n",
       "      <td>Ankita</td>\n",
       "      <td>500000</td>\n",
       "      <td>yadav coloney</td>\n",
       "    </tr>\n",
       "  </tbody>\n",
       "</table>\n",
       "</div>"
      ],
      "text/plain": [
       "   ENO     ENAME    ESAL          EADDR\n",
       "0    1  Anushree  550000   shakti nagar\n",
       "1    2    Ankita  500000  yadav coloney"
      ]
     },
     "execution_count": 12,
     "metadata": {},
     "output_type": "execute_result"
    }
   ],
   "source": [
    "import pandas as pd\n",
    "emp_df=pd.read_csv(\"emp.csv\")\n",
    "emp_df.loc[0,'ESAL']=550000\n",
    "emp_df.to_csv(\"emp.csv\",index=False)\n",
    "print(\"updated Successfully\")\n",
    "emp_df"
   ]
  },
  {
   "cell_type": "code",
   "execution_count": null,
   "id": "532b1fe4-2926-40cf-ba14-dd8d83aefb6e",
   "metadata": {},
   "outputs": [],
   "source": []
  }
 ],
 "metadata": {
  "kernelspec": {
   "display_name": "Python 3 (ipykernel)",
   "language": "python",
   "name": "python3"
  },
  "language_info": {
   "codemirror_mode": {
    "name": "ipython",
    "version": 3
   },
   "file_extension": ".py",
   "mimetype": "text/x-python",
   "name": "python",
   "nbconvert_exporter": "python",
   "pygments_lexer": "ipython3",
   "version": "3.13.2"
  }
 },
 "nbformat": 4,
 "nbformat_minor": 5
}
