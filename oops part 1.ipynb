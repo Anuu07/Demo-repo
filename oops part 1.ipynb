{
 "cells": [
  {
   "cell_type": "code",
   "execution_count": 1,
   "id": "9c49f0d0-6053-4758-a661-a81194436c77",
   "metadata": {},
   "outputs": [
    {
     "name": "stdout",
     "output_type": "stream",
     "text": [
      "This is Student class with required data\n",
      "Help on class Student in module __main__:\n",
      "\n",
      "class Student(builtins.object)\n",
      " |  This is Student class with required data\n",
      " |\n",
      " |  Data descriptors defined here:\n",
      " |\n",
      " |  __dict__\n",
      " |      dictionary for instance variables\n",
      " |\n",
      " |  __weakref__\n",
      " |      list of weak references to the object\n",
      "\n"
     ]
    }
   ],
   "source": [
    "class Student:\n",
    "    '''This is Student class with required data'''#this is documentation\n",
    "print(Student.__doc__)\n",
    "help(Student)"
   ]
  },
  {
   "cell_type": "code",
   "execution_count": 2,
   "id": "2c40a0f2-42fa-4ab1-bfcd-17409ed56a7f",
   "metadata": {},
   "outputs": [],
   "source": [
    "#python has difrent constructor __init__ unlike c++ and java\n",
    "#constructor is called automatically\n",
    "#object = phycical existence of class "
   ]
  },
  {
   "cell_type": "code",
   "execution_count": 3,
   "id": "0eb9419a-e94d-4c57-bf22-8adb02fcda64",
   "metadata": {},
   "outputs": [],
   "source": [
    "# syntax to creat object referencevariable=classname()\n",
    "#example: s = student()\n"
   ]
  },
  {
   "cell_type": "code",
   "execution_count": 18,
   "id": "351bfd53-b685-406b-b403-e3586b4189e2",
   "metadata": {},
   "outputs": [
    {
     "name": "stdout",
     "output_type": "stream",
     "text": [
      "Hello My Name is: Anushree\n",
      "My Rollno is: 24\n",
      "My Marks are: 80\n",
      "Hello My Name is: Ankita\n",
      "My Rollno is: 31\n",
      "My Marks are: 50\n"
     ]
    }
   ],
   "source": [
    "#Reference variable\n",
    "class Student:\n",
    "    def __init__(self,name,rollno,marks):#(parameters in the bracket)\n",
    "       self.name = name\n",
    "       self.rollno = rollno\n",
    "       self.marks = marks\n",
    "    def talk(self):\n",
    "        print(\"Hello My Name is:\",self.name)\n",
    "        print(\"My Rollno is:\",self.rollno)\n",
    "        print(\"My Marks are:\",self.marks)\n",
    "\n",
    "s1=Student('Anushree',24,80)\n",
    "s1.talk()\n",
    "s1=Student('Ankita',31,50)\n",
    "s1.talk()"
   ]
  },
  {
   "cell_type": "code",
   "execution_count": 17,
   "id": "7b9a9408-24e9-4f36-a481-19859f624279",
   "metadata": {},
   "outputs": [
    {
     "name": "stdout",
     "output_type": "stream",
     "text": [
      "Constructor execution...\n",
      "Constructor execution...\n",
      "Constructor execution...\n",
      "Method execution...\n"
     ]
    }
   ],
   "source": [
    "#Self Variable \n",
    "# demonstrating constructor\n",
    "class Test:\n",
    "    def __init__ (self):\n",
    "        print(\"Constructor execution...\")\n",
    "    def m1(self):\n",
    "        print(\"Method execution...\")\n",
    "t1=Test()#first object per object required nly one self\n",
    "t2=Test()\n",
    "t3=Test()\n",
    "t1.m1()"
   ]
  },
  {
   "cell_type": "code",
   "execution_count": null,
   "id": "acea252f-96a6-4925-b848-98649ed86f3b",
   "metadata": {},
   "outputs": [],
   "source": []
  },
  {
   "cell_type": "code",
   "execution_count": 20,
   "id": "190af01e-ebb3-4d0b-9122-17eb90349e36",
   "metadata": {},
   "outputs": [
    {
     "name": "stdout",
     "output_type": "stream",
     "text": [
      "{'a': 10, 'b': 20}\n",
      "{'a': 10, 'b': 20, 'c': 30}\n"
     ]
    }
   ],
   "source": [
    "class Test:\n",
    "    def __init__(self):\n",
    "        self.a=10\n",
    "        self.b=20\n",
    "    def m1(self):\n",
    "        self.c=30\n",
    "\n",
    "t=Test()\n",
    "print(t.__dict__)\n",
    "t.m1()\n",
    "print(t.__dict__)"
   ]
  },
  {
   "cell_type": "code",
   "execution_count": 22,
   "id": "2bc89142-ec14-4292-8eaf-fd4d86e7aba7",
   "metadata": {},
   "outputs": [
    {
     "name": "stdout",
     "output_type": "stream",
     "text": [
      "{'a': 10, 'b': 20}\n",
      "{'a': 10, 'b': 20, 'c': 30}\n",
      "{'a': 10, 'b': 20, 'c': 30, 'd': 40}\n"
     ]
    }
   ],
   "source": [
    "# outside of the classby using object reference\n",
    "class Test:\n",
    "\n",
    "    def __init__(self):\n",
    "        self.a=10\n",
    "        self.b=20\n",
    "    def m1(self):\n",
    "        self.c=30\n",
    "\n",
    "t=Test()\n",
    "print(t.__dict__)\n",
    "t.m1()\n",
    "print(t.__dict__)\n",
    "t.d=40\n",
    "print(t.__dict__)\n",
    "    "
   ]
  },
  {
   "cell_type": "code",
   "execution_count": 24,
   "id": "ee05a9b4-299c-48fe-a5ab-8c27a968dd51",
   "metadata": {},
   "outputs": [
    {
     "name": "stdout",
     "output_type": "stream",
     "text": [
      "{'a': 10, 'b': 20}\n",
      "{'a': 10, 'b': 20, 'c': 30}\n",
      "{'a': 10, 'b': 20, 'c': 30, 'd': 40}\n",
      "10 20 30 40\n",
      "{'a': 10, 'b': 20, 'd': 40}\n"
     ]
    }
   ],
   "source": [
    "class Test:\n",
    "\n",
    "    def __init__(self):\n",
    "        self.a=10\n",
    "        self.b=20\n",
    "    def m1(self):\n",
    "        self.c=30\n",
    "\n",
    "t=Test()\n",
    "print(t.__dict__)\n",
    "t.m1()\n",
    "print(t.__dict__)\n",
    "t.d=40\n",
    "print(t.__dict__)\n",
    "print(t.a,t.b,t.c,t.d)#instance var\n",
    "del t.c#delete\n",
    "print(t.__dict__)\n"
   ]
  },
  {
   "cell_type": "code",
   "execution_count": 2,
   "id": "c5458eb1-1856-46c1-b97a-daf1091390d5",
   "metadata": {},
   "outputs": [
    {
     "name": "stdout",
     "output_type": "stream",
     "text": [
      "t1: 10 20\n",
      "t2: 10 20\n",
      "t1: 888 999\n",
      "t2: 888 20\n"
     ]
    }
   ],
   "source": [
    "#static \n",
    "class Test:\n",
    "    x=10\n",
    "    def __init__(self):\n",
    "        self.y=20\n",
    "t1=Test()\n",
    "t2=Test()\n",
    "print('t1:',t1.x,t1.y)\n",
    "print('t2:',t2.x,t2.y)\n",
    "Test.x=888\n",
    "t1.y=999\n",
    "print('t1:',t1.x,t1.y)\n",
    "print('t2:',t2.x,t2.y)"
   ]
  },
  {
   "cell_type": "code",
   "execution_count": 5,
   "id": "c19b60ad-e37a-4274-b60b-e23a625b9e46",
   "metadata": {},
   "outputs": [
    {
     "name": "stdout",
     "output_type": "stream",
     "text": [
      "{'__module__': '__main__', '__firstlineno__': 1, 'a': 10, '__init__': <function Test.__init__ at 0x000001536984D440>, 'm1': <function Test.m1 at 0x000001536984C900>, 'm2': <classmethod(<function Test.m2 at 0x000001536984D300>)>, 'm3': <staticmethod(<function Test.m3 at 0x000001536984D3A0>)>, '__static_attributes__': (), '__dict__': <attribute '__dict__' of 'Test' objects>, '__weakref__': <attribute '__weakref__' of 'Test' objects>, '__doc__': None}\n",
      "{'__module__': '__main__', '__firstlineno__': 1, 'a': 10, '__init__': <function Test.__init__ at 0x000001536984D440>, 'm1': <function Test.m1 at 0x000001536984C900>, 'm2': <classmethod(<function Test.m2 at 0x000001536984D300>)>, 'm3': <staticmethod(<function Test.m3 at 0x000001536984D3A0>)>, '__static_attributes__': (), '__dict__': <attribute '__dict__' of 'Test' objects>, '__weakref__': <attribute '__weakref__' of 'Test' objects>, '__doc__': None, 'b': 20}\n",
      "{'__module__': '__main__', '__firstlineno__': 1, 'a': 10, '__init__': <function Test.__init__ at 0x000001536984D440>, 'm1': <function Test.m1 at 0x000001536984C900>, 'm2': <classmethod(<function Test.m2 at 0x000001536984D300>)>, 'm3': <staticmethod(<function Test.m3 at 0x000001536984D3A0>)>, '__static_attributes__': (), '__dict__': <attribute '__dict__' of 'Test' objects>, '__weakref__': <attribute '__weakref__' of 'Test' objects>, '__doc__': None, 'b': 20}\n",
      "{'__module__': '__main__', '__firstlineno__': 1, 'a': 10, '__init__': <function Test.__init__ at 0x000001536984D440>, 'm1': <function Test.m1 at 0x000001536984C900>, 'm2': <classmethod(<function Test.m2 at 0x000001536984D300>)>, 'm3': <staticmethod(<function Test.m3 at 0x000001536984D3A0>)>, '__static_attributes__': (), '__dict__': <attribute '__dict__' of 'Test' objects>, '__weakref__': <attribute '__weakref__' of 'Test' objects>, '__doc__': None, 'b': 20}\n",
      "{'__module__': '__main__', '__firstlineno__': 1, 'a': 10, '__init__': <function Test.__init__ at 0x000001536984D440>, 'm1': <function Test.m1 at 0x000001536984C900>, 'm2': <classmethod(<function Test.m2 at 0x000001536984D300>)>, 'm3': <staticmethod(<function Test.m3 at 0x000001536984D3A0>)>, '__static_attributes__': (), '__dict__': <attribute '__dict__' of 'Test' objects>, '__weakref__': <attribute '__weakref__' of 'Test' objects>, '__doc__': None, 'b': 20, 'd1': 40, 'd2': 400}\n",
      "{'__module__': '__main__', '__firstlineno__': 1, 'a': 10, '__init__': <function Test.__init__ at 0x000001536984D440>, 'm1': <function Test.m1 at 0x000001536984C900>, 'm2': <classmethod(<function Test.m2 at 0x000001536984D300>)>, 'm3': <staticmethod(<function Test.m3 at 0x000001536984D3A0>)>, '__static_attributes__': (), '__dict__': <attribute '__dict__' of 'Test' objects>, '__weakref__': <attribute '__weakref__' of 'Test' objects>, '__doc__': None, 'b': 20, 'd1': 40, 'd2': 400, 'e': 50}\n",
      "{'__module__': '__main__', '__firstlineno__': 1, 'a': 10, '__init__': <function Test.__init__ at 0x000001536984D440>, 'm1': <function Test.m1 at 0x000001536984C900>, 'm2': <classmethod(<function Test.m2 at 0x000001536984D300>)>, 'm3': <staticmethod(<function Test.m3 at 0x000001536984D3A0>)>, '__static_attributes__': (), '__dict__': <attribute '__dict__' of 'Test' objects>, '__weakref__': <attribute '__weakref__' of 'Test' objects>, '__doc__': None, 'b': 20, 'd1': 40, 'd2': 400, 'e': 60}\n"
     ]
    }
   ],
   "source": [
    "class Test:\n",
    "    a=10\n",
    "    def __init__(self):\n",
    "        Test.b=20\n",
    "    def m1(self):\n",
    "        Test.c=30\n",
    "    @classmethod\n",
    "    def m2(cls):\n",
    "        cls.d1=40\n",
    "        Test.d2=400\n",
    "    @staticmethod\n",
    "    def m3():\n",
    "        Test.e=50\n",
    "print(Test.__dict__)\n",
    "t=Test()\n",
    "print(Test.__dict__)\n",
    "t.m1\n",
    "print(Test.__dict__)\n",
    "t.m2\n",
    "print(Test.__dict__)\n",
    "Test.m2()\n",
    "print(Test.__dict__)\n",
    "Test.m3()\n",
    "print(Test.__dict__)\n",
    "Test.e=60\n",
    "print(Test.__dict__)\n"
   ]
  },
  {
   "cell_type": "code",
   "execution_count": 7,
   "id": "41844e2e-2d72-4d18-8e6b-c3e466f120d6",
   "metadata": {},
   "outputs": [
    {
     "name": "stdout",
     "output_type": "stream",
     "text": [
      "777\n",
      "888\n",
      "888\n",
      "999\n"
     ]
    }
   ],
   "source": [
    "class Test:\n",
    "    a=777\n",
    "    @classmethod#does not acess instance var\n",
    "    def m1(cls):\n",
    "        cls.a=888\n",
    "    @staticmethod#access instance var also\n",
    "    def m2():\n",
    "        Test.a=999\n",
    "print(Test.a)\n",
    "Test.m1()\n",
    "print(Test.a)\n",
    "Test.m1()\n",
    "print(Test.a)\n",
    "Test.m2()\n",
    "print(Test.a)"
   ]
  },
  {
   "cell_type": "code",
   "execution_count": 8,
   "id": "209d46af-2333-48ea-8234-19aefb68703d",
   "metadata": {},
   "outputs": [
    {
     "name": "stdout",
     "output_type": "stream",
     "text": [
      "1000\n",
      "2000\n"
     ]
    }
   ],
   "source": [
    "#Local Variable\n",
    "class Test:\n",
    "    def m1(self):\n",
    "        a=1000\n",
    "        print(a)\n",
    "    def m2(self):\n",
    "        b=2000\n",
    "        print(b)\n",
    "t=Test()\n",
    "t.m1()\n",
    "t.m2()"
   ]
  },
  {
   "cell_type": "code",
   "execution_count": 10,
   "id": "216f8b2d-7130-455e-98af-abc4982f9ae8",
   "metadata": {},
   "outputs": [
    {
     "name": "stdout",
     "output_type": "stream",
     "text": [
      "Dogwalks with 4 legs....\n",
      "Catwalks with 4 legs....\n"
     ]
    }
   ],
   "source": [
    "#class method\n",
    "class Animal:\n",
    "    legs=4\n",
    "    @classmethod\n",
    "    def walk(cls,name):\n",
    "        print('{}walks with {} legs....'.format(name,cls.legs))\n",
    "Animal.walk('Dog')\n",
    "Animal.walk('Cat')"
   ]
  },
  {
   "cell_type": "code",
   "execution_count": 12,
   "id": "a8b26c66-1747-4e94-9157-9cb4171789a2",
   "metadata": {},
   "outputs": [
    {
     "ename": "AttributeError",
     "evalue": "type object 'Test' has no attribute 'noOfObjects'",
     "output_type": "error",
     "traceback": [
      "\u001b[31m---------------------------------------------------------------------------\u001b[39m",
      "\u001b[31mAttributeError\u001b[39m                            Traceback (most recent call last)",
      "\u001b[36mCell\u001b[39m\u001b[36m \u001b[39m\u001b[32mIn[12]\u001b[39m\u001b[32m, line 10\u001b[39m\n\u001b[32m      8\u001b[39m t1=Test()\n\u001b[32m      9\u001b[39m t2=Test()\n\u001b[32m---> \u001b[39m\u001b[32m10\u001b[39m \u001b[43mTest\u001b[49m\u001b[43m.\u001b[49m\u001b[43mnoOfObjects\u001b[49m()\n\u001b[32m     11\u001b[39m t3=Test()\n\u001b[32m     12\u001b[39m t4=Test()\n",
      "\u001b[31mAttributeError\u001b[39m: type object 'Test' has no attribute 'noOfObjects'"
     ]
    }
   ],
   "source": [
    "class Tset:\n",
    "    count=0\n",
    "    def __init__(self):\n",
    "        Test.count=Test.count+1\n",
    "    @classmethod\n",
    "    def noOfObjects(cls):\n",
    "        print('The number of objects created for test class:',cls.count)\n",
    "t1=Test()\n",
    "t2=Test()\n",
    "Test.noOfObjects()\n",
    "t3=Test()\n",
    "t4=Test()\n",
    "t5=Test()\n",
    "Test.noOfObjects()"
   ]
  },
  {
   "cell_type": "code",
   "execution_count": null,
   "id": "a0ee7aba-48d3-4ead-8dac-e5e682ff88ba",
   "metadata": {},
   "outputs": [],
   "source": []
  }
 ],
 "metadata": {
  "kernelspec": {
   "display_name": "Python 3 (ipykernel)",
   "language": "python",
   "name": "python3"
  },
  "language_info": {
   "codemirror_mode": {
    "name": "ipython",
    "version": 3
   },
   "file_extension": ".py",
   "mimetype": "text/x-python",
   "name": "python",
   "nbconvert_exporter": "python",
   "pygments_lexer": "ipython3",
   "version": "3.13.2"
  }
 },
 "nbformat": 4,
 "nbformat_minor": 5
}
