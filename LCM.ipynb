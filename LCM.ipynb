{
 "cells": [
  {
   "cell_type": "code",
   "execution_count": 1,
   "id": "78d2c587-584c-47e6-8f57-3e3781c0ead8",
   "metadata": {},
   "outputs": [
    {
     "name": "stdin",
     "output_type": "stream",
     "text": [
      "enter number: 2\n",
      "enter number: 3\n"
     ]
    },
    {
     "name": "stdout",
     "output_type": "stream",
     "text": [
      "LCM is 6\n"
     ]
    }
   ],
   "source": [
    "#LCM of two numbers\n",
    "#n1,n2=map (int,input().split())\n",
    "a=int(input(\"enter number:\"))\n",
    "b=int(input(\"enter number:\"))\n",
    "max_num=max(a,b)\n",
    "while True:\n",
    "    if max_num%a==0 and max_num%b==0:\n",
    "        print (\"LCM is\",max_num)\n",
    "        break\n",
    "    max_num = max_num+1\n"
   ]
  },
  {
   "cell_type": "code",
   "execution_count": 3,
   "id": "0dc681a6-6f6d-46bd-acea-69de12ea51c6",
   "metadata": {},
   "outputs": [
    {
     "name": "stdin",
     "output_type": "stream",
     "text": [
      "enter number: 12\n",
      "enter number: 18\n"
     ]
    },
    {
     "name": "stdout",
     "output_type": "stream",
     "text": [
      "GCD 6\n"
     ]
    }
   ],
   "source": [
    "n1=int(input(\"enter number:\"))\n",
    "n2=int(input(\"enter number:\"))\n",
    "min_num=min(n1,n2)\n",
    "gcd=1\n",
    "for i in range (1,min_num+1):\n",
    "    if n1%i==0 and n2%i==0:\n",
    "        gcd=max(gcd,i)\n",
    "print(\"GCD\",gcd)"
   ]
  },
  {
   "cell_type": "code",
   "execution_count": null,
   "id": "972d1ac8-f4b1-42f1-836f-0bcd4692701f",
   "metadata": {},
   "outputs": [],
   "source": [
    "n=int(input())\n",
    "q=n\n",
    "l=0\n",
    "while n!=0:\n",
    "    t=n%10 ##5 2 1\n",
    "    n=n//10# reduce 125 12 1\n",
    "    l=l+1\n",
    "print(1)\n",
    "for i in range (1,min_num+1):\n",
    "    if n1%i==0 and n2%i=="
   ]
  }
 ],
 "metadata": {
  "kernelspec": {
   "display_name": "Python 3 (ipykernel)",
   "language": "python",
   "name": "python3"
  },
  "language_info": {
   "codemirror_mode": {
    "name": "ipython",
    "version": 3
   },
   "file_extension": ".py",
   "mimetype": "text/x-python",
   "name": "python",
   "nbconvert_exporter": "python",
   "pygments_lexer": "ipython3",
   "version": "3.13.2"
  }
 },
 "nbformat": 4,
 "nbformat_minor": 5
}
