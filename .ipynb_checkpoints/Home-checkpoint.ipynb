{
 "cells": [
  {
   "cell_type": "code",
   "execution_count": 5,
   "id": "891e6f97-f217-45dd-b852-b63b793d8984",
   "metadata": {},
   "outputs": [
    {
     "name": "stdin",
     "output_type": "stream",
     "text": [
      "Birth year: 2004\n"
     ]
    },
    {
     "name": "stdout",
     "output_type": "stream",
     "text": [
      "<class 'str'>\n",
      "<class 'int'>\n",
      "21\n"
     ]
    }
   ],
   "source": [
    "birth_year = input('Birth year:')\n",
    "print(type(birth_year))\n",
    "print(type(age))\n",
    "age=2025-int(birth_year)\n",
    "print(age)"
   ]
  },
  {
   "cell_type": "code",
   "execution_count": 11,
   "id": "e845246a-b7db-42ba-b07a-17fb873513a7",
   "metadata": {},
   "outputs": [
    {
     "name": "stdin",
     "output_type": "stream",
     "text": [
      "Type your weight in pounds: 125\n"
     ]
    },
    {
     "name": "stdout",
     "output_type": "stream",
     "text": [
      "56.25\n"
     ]
    }
   ],
   "source": [
    "weight_lbs= input('Type your weight in pounds:' )\n",
    "weight_kg = int(weight_lbs) * (0.45)\n",
    "print(weight_kg)\n"
   ]
  },
  {
   "cell_type": "code",
   "execution_count": 3,
   "id": "f5747c77-8ef5-4d69-8e60-89b4d1086cc4",
   "metadata": {},
   "outputs": [
    {
     "name": "stdout",
     "output_type": "stream",
     "text": [
      "hii\n",
      "hello\n",
      "hola\n"
     ]
    }
   ],
   "source": [
    "course= '''hii\n",
    "hello\n",
    "hola'''\n",
    "print(course)#triple quotes for multiple line string"
   ]
  },
  {
   "cell_type": "code",
   "execution_count": 5,
   "id": "000f1da1-0df2-46db-800e-ea02e5aa516e",
   "metadata": {},
   "outputs": [
    {
     "name": "stdout",
     "output_type": "stream",
     "text": [
      "Python is important\n"
     ]
    }
   ],
   "source": [
    "course ='Python is important'\n",
    "another = course\n",
    "print(another)"
   ]
  },
  {
   "cell_type": "code",
   "execution_count": 8,
   "id": "92c0c5b2-68af-4f43-9f9b-ed1448346850",
   "metadata": {},
   "outputs": [
    {
     "name": "stdout",
     "output_type": "stream",
     "text": [
      "nushre\n"
     ]
    }
   ],
   "source": [
    "name='Anushree'\n",
    "print(name[1:-1])"
   ]
  },
  {
   "cell_type": "code",
   "execution_count": 22,
   "id": "91de2d21-a617-43f7-8d2a-4ddf8ff489e7",
   "metadata": {},
   "outputs": [
    {
     "name": "stdout",
     "output_type": "stream",
     "text": [
      "Anushree Nair is a coder \n"
     ]
    }
   ],
   "source": [
    "first = 'Anushree'\n",
    "last = 'Nair'\n",
    "message = f'{first} { last} is a coder '# f'' is a formatted string where you can add strings which you want to write\n",
    "print(message)"
   ]
  },
  {
   "cell_type": "code",
   "execution_count": 1,
   "id": "7443f490-dc10-4429-aa1f-aadb6b39659f",
   "metadata": {},
   "outputs": [
    {
     "name": "stdout",
     "output_type": "stream",
     "text": [
      "20\n"
     ]
    }
   ],
   "source": [
    "course='Python for beginners'\n",
    "print(len(course))\n"
   ]
  },
  {
   "cell_type": "code",
   "execution_count": 2,
   "id": "e90fef6e-9f63-48fe-9f4f-ea88493f892e",
   "metadata": {},
   "outputs": [
    {
     "name": "stdout",
     "output_type": "stream",
     "text": [
      "20\n"
     ]
    },
    {
     "data": {
      "text/plain": [
       "'PYTHON FOR BEGINNERS'"
      ]
     },
     "execution_count": 2,
     "metadata": {},
     "output_type": "execute_result"
    }
   ],
   "source": [
    "course='Python for beginners'\n",
    "print(len(course))\n",
    "course.upper()"
   ]
  },
  {
   "cell_type": "code",
   "execution_count": 3,
   "id": "c8da0faf-5492-478e-97ca-2956ec139e6d",
   "metadata": {},
   "outputs": [
    {
     "name": "stdout",
     "output_type": "stream",
     "text": [
      "20\n"
     ]
    },
    {
     "data": {
      "text/plain": [
       "'python for beginners'"
      ]
     },
     "execution_count": 3,
     "metadata": {},
     "output_type": "execute_result"
    }
   ],
   "source": [
    "course='Python for beginners'\n",
    "print(len(course))\n",
    "course.lower()"
   ]
  },
  {
   "cell_type": "code",
   "execution_count": 16,
   "id": "667b05d4-4010-4995-ba2e-80ea195cdf82",
   "metadata": {},
   "outputs": [
    {
     "name": "stdout",
     "output_type": "stream",
     "text": [
      "19\n"
     ]
    }
   ],
   "source": [
    "course='Python for beginners'\n",
    "print(course.find('s'))\n"
   ]
  },
  {
   "cell_type": "code",
   "execution_count": 17,
   "id": "94e47c7f-bd52-4078-b7f4-b54b8b8b41f1",
   "metadata": {},
   "outputs": [
    {
     "name": "stdout",
     "output_type": "stream",
     "text": [
      "11\n"
     ]
    }
   ],
   "source": [
    "course='Python for beginners'\n",
    "print(course.find('beginners'))\n"
   ]
  },
  {
   "cell_type": "code",
   "execution_count": 23,
   "id": "20ffe7de-807a-46ee-a97a-6906d857e2b7",
   "metadata": {},
   "outputs": [
    {
     "name": "stdout",
     "output_type": "stream",
     "text": [
      "Python is for absolute  beginners\n"
     ]
    }
   ],
   "source": [
    "course='Python for beginners'\n",
    "print(course.replace('for','is for absolute '))"
   ]
  },
  {
   "cell_type": "code",
   "execution_count": 25,
   "id": "39f628cb-3c93-4a26-9ed0-9c247fea8e44",
   "metadata": {},
   "outputs": [
    {
     "name": "stdout",
     "output_type": "stream",
     "text": [
      "Jython for beginners\n"
     ]
    }
   ],
   "source": [
    "course='Python for beginners'\n",
    "print(course.replace('P','J'))"
   ]
  },
  {
   "cell_type": "code",
   "execution_count": 26,
   "id": "46952585-090b-491f-ae9b-257e9eaa8a02",
   "metadata": {},
   "outputs": [
    {
     "name": "stdout",
     "output_type": "stream",
     "text": [
      "True\n"
     ]
    }
   ],
   "source": [
    "course='Python for beginners'\n",
    "print('Python' in course)"
   ]
  },
  {
   "cell_type": "code",
   "execution_count": null,
   "id": "b27695a6-356f-4c62-9784-c9802ccbb177",
   "metadata": {},
   "outputs": [],
   "source": []
  }
 ],
 "metadata": {
  "kernelspec": {
   "display_name": "Python 3 (ipykernel)",
   "language": "python",
   "name": "python3"
  },
  "language_info": {
   "codemirror_mode": {
    "name": "ipython",
    "version": 3
   },
   "file_extension": ".py",
   "mimetype": "text/x-python",
   "name": "python",
   "nbconvert_exporter": "python",
   "pygments_lexer": "ipython3",
   "version": "3.13.2"
  }
 },
 "nbformat": 4,
 "nbformat_minor": 5
}
