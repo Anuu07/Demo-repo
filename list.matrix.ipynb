{
 "cells": [
  {
   "cell_type": "code",
   "execution_count": 1,
   "id": "d9027b8a-cb54-4ecb-aa26-597ba5014711",
   "metadata": {},
   "outputs": [
    {
     "name": "stdout",
     "output_type": "stream",
     "text": [
      "[[1, 2, 3], [4, 5, 6], [7, 8, 9]]\n"
     ]
    }
   ],
   "source": [
    "matrix =[[1,2,3],[4,5,6],[7,8,9]]\n",
    "\n",
    "print (matrix)"
   ]
  },
  {
   "cell_type": "code",
   "execution_count": 2,
   "id": "7e3e438b-1353-46f3-8058-313efa4c7be9",
   "metadata": {},
   "outputs": [
    {
     "name": "stdout",
     "output_type": "stream",
     "text": [
      "[1, 2, 3]\n",
      "[4, 5, 6]\n",
      "[7, 8, 9]\n"
     ]
    }
   ],
   "source": [
    "for row in matrix:\n",
    "    print(row)"
   ]
  },
  {
   "cell_type": "code",
   "execution_count": 3,
   "id": "9aa44c87-ebf4-4891-825d-35a7e5de1538",
   "metadata": {},
   "outputs": [
    {
     "name": "stdout",
     "output_type": "stream",
     "text": [
      "2\n"
     ]
    }
   ],
   "source": [
    "print(matrix[0][1])"
   ]
  },
  {
   "cell_type": "code",
   "execution_count": 5,
   "id": "00f3d500-eec0-4c6f-b352-ba0b61f4f6fb",
   "metadata": {},
   "outputs": [
    {
     "name": "stdout",
     "output_type": "stream",
     "text": [
      "[[1, 10, 3], [4, 5, 6], [7, 8, 9]]\n"
     ]
    }
   ],
   "source": [
    "matrix[0][1]=10\n",
    "print(matrix)"
   ]
  },
  {
   "cell_type": "code",
   "execution_count": 12,
   "id": "486f927d-47d6-43e0-a099-2b6364b70aed",
   "metadata": {},
   "outputs": [
    {
     "name": "stdout",
     "output_type": "stream",
     "text": [
      "[[0, 0, 0], [0, 0, 0], [0, 0, 0]]\n"
     ]
    }
   ],
   "source": [
    "rows,cols=3,3\n",
    "matrix=[]#initialize an empty list\n",
    "for _ in range(rows):#loop 'rows' times\n",
    "    matrix.append([0]*cols)#append a new row flled with zeros\n",
    "print(matrix)\n"
   ]
  },
  {
   "cell_type": "code",
   "execution_count": 13,
   "id": "5cd7f0ae-8a81-43f5-a69e-8c9ac01f431e",
   "metadata": {},
   "outputs": [
    {
     "name": "stdout",
     "output_type": "stream",
     "text": [
      "1 2 3 \n",
      "4 5 6 \n",
      "7 8 9 \n"
     ]
    }
   ],
   "source": [
    "list = [[1,2,3],[4,5,6],[7,8,9]]\n",
    "for n in range(3):\n",
    "    for m in range(3):\n",
    "        print(list[n][m],end=' ')\n",
    "    print()"
   ]
  },
  {
   "cell_type": "code",
   "execution_count": 14,
   "id": "d9c78601-269d-4856-9ee5-f26378a50379",
   "metadata": {},
   "outputs": [
    {
     "name": "stdout",
     "output_type": "stream",
     "text": [
      "1 4 7 \n",
      "2 5 8 \n",
      "3 6 9 \n"
     ]
    }
   ],
   "source": [
    "#Transpose of a matrix\n",
    "list = [[1,2,3],[4,5,6],[7,8,9]]\n",
    "for n in range(3):\n",
    "    for m in range(3):\n",
    "        print(list[m][n],end=' ')# row will me col and col will be row\n",
    "    print()"
   ]
  },
  {
   "cell_type": "code",
   "execution_count": 5,
   "id": "bdd504ac-f09d-4c09-8204-138ef24f950c",
   "metadata": {},
   "outputs": [
    {
     "name": "stdout",
     "output_type": "stream",
     "text": [
      "Matrix A\n",
      "1 2 3 \n",
      "4 5 6 \n",
      "7 8 9 \n",
      "Matrix B\n",
      "1 2 3 \n",
      "4 5 6 \n",
      "7 8 9 \n",
      "Sum\n",
      "2 4 6 \n",
      "8 10 12 \n",
      "14 16 18 \n"
     ]
    }
   ],
   "source": [
    "list1 = [[1,2,3],[4,5,6],[7,8,9]]\n",
    "list2 = [[1,2,3],[4,5,6],[7,8,9]]\n",
    "print(\"Matrix A\")\n",
    "for n in range(3):\n",
    "    for m in range(3):\n",
    "        print(list1[n][m],end=' ')# row will me col and col will be row\n",
    "    print()\n",
    "    \n",
    "print(\"Matrix B\")\n",
    "for n in range(3):\n",
    "    for m in range(3):\n",
    "        print(list2[n][m],end=' ')# row will me col and col will be row\n",
    "    print()\n",
    "\n",
    "list3=[[0,0,0],[0,0,0],[0,0,0]]\n",
    "for n in range(3):\n",
    "    for m in range(3):\n",
    "        list3[n][m]=list1[n][m]+list2[n][m]\n",
    "\n",
    "\n",
    "print(\"Sum\")    \n",
    "for n in range(3):\n",
    "    for m in range(3):\n",
    "        print(list3[n][m],end=' ')\n",
    "    print()\n",
    "\n",
    "\n",
    "\n",
    "\n"
   ]
  },
  {
   "cell_type": "code",
   "execution_count": 35,
   "id": "c158fcc7-429c-4bd2-974c-b71c1fd828f7",
   "metadata": {},
   "outputs": [
    {
     "name": "stdout",
     "output_type": "stream",
     "text": [
      "Sum of matrix elements 45\n"
     ]
    }
   ],
   "source": [
    "list1 = [[1,2,3],[4,5,6],[7,8,9]]\n",
    "s=0\n",
    "for m in range(3):\n",
    "    for n in range(3):\n",
    "        s= s+list1[m][n]\n",
    "print(\"Sum of matrix elements\",s)"
   ]
  },
  {
   "cell_type": "code",
   "execution_count": 7,
   "id": "9cfc4238-8292-45c4-a0f2-5a0a55422673",
   "metadata": {},
   "outputs": [
    {
     "name": "stdout",
     "output_type": "stream",
     "text": [
      "Sum of Digonal matrix elements 15\n"
     ]
    }
   ],
   "source": [
    "list1 = [[1,2,3],\n",
    "         [4,5,6],\n",
    "         [7,8,9]]\n",
    "s=0\n",
    "for m in range(3):\n",
    "    for n in range(3):\n",
    "        if m==n:\n",
    "            s= s+ list1[m][n]\n",
    "print(\"Sum of Digonal matrix elements\",s)"
   ]
  },
  {
   "cell_type": "code",
   "execution_count": 12,
   "id": "d9f37989-0256-4e67-9b31-f9794a7a4c2e",
   "metadata": {},
   "outputs": [
    {
     "name": "stdout",
     "output_type": "stream",
     "text": [
      "Sum of Digonal matrix elements 18\n"
     ]
    }
   ],
   "source": [
    "list1 = [[1,2,3],[4,5,6],[7,8,9]]\n",
    "s=0\n",
    "for m in range(3):\n",
    "    s= s+ list1[m][n]\n",
    "print(\"Sum of Digonal matrix elements\",s)"
   ]
  },
  {
   "cell_type": "code",
   "execution_count": 36,
   "id": "2733c51b-dd18-46d5-b5c0-3241aad803d2",
   "metadata": {},
   "outputs": [
    {
     "name": "stdout",
     "output_type": "stream",
     "text": [
      "Sum of Digonal matrix elements 19\n"
     ]
    }
   ],
   "source": [
    "list1 = [[1,2,3],[4,5,6],[7,8,9]]\n",
    "s=0\n",
    "for m in range(3):\n",
    "    for n in range(3):\n",
    "        if m>n:\n",
    "            s= s+ list[m][n]\n",
    "print(\"Sum of lower triangle matrix elements\",s)"
   ]
  },
  {
   "cell_type": "code",
   "execution_count": 38,
   "id": "808701fb-8127-4518-8ee0-469aba507ef9",
   "metadata": {},
   "outputs": [
    {
     "name": "stdout",
     "output_type": "stream",
     "text": [
      "Sum of lower + diagonal triangle matrix elements 34\n"
     ]
    }
   ],
   "source": [
    "list1 = [[1,2,3],[4,5,6],[7,8,9]]\n",
    "s=0\n",
    "for m in range(3):\n",
    "    for n in range(3):\n",
    "        if m>=n:\n",
    "            s= s+ list[m][n]\n",
    "print(\"Sum of lower + diagonal triangle matrix elements\",s)"
   ]
  },
  {
   "cell_type": "code",
   "execution_count": 39,
   "id": "03d95155-ed8e-4feb-b8e4-e04dbd387e3f",
   "metadata": {},
   "outputs": [
    {
     "name": "stdout",
     "output_type": "stream",
     "text": [
      "Sum of upper triangle matrix elements 11\n"
     ]
    }
   ],
   "source": [
    "list1 = [[1,2,3],[4,5,6],[7,8,9]]\n",
    "s=0\n",
    "for m in range(3):\n",
    "    for n in range(3):\n",
    "        if m<n:\n",
    "            s= s+ list[m][n]\n",
    "print(\"Sum of upper triangle matrix elements\",s)"
   ]
  },
  {
   "cell_type": "code",
   "execution_count": 15,
   "id": "5471ce90-dd27-453e-a9ec-e33a32a22085",
   "metadata": {},
   "outputs": [
    {
     "name": "stdout",
     "output_type": "stream",
     "text": [
      "Sum of upper + diagonal triangle matrix elements 26\n"
     ]
    }
   ],
   "source": [
    "list1 = [[1,2,3],[4,5,6],[7,8,9]]\n",
    "s=0\n",
    "for m in range(3):\n",
    "    for n in range(3):\n",
    "        if m<=n:\n",
    "            s= s+ list1[m][n]\n",
    "print(\"Sum of upper + diagonal triangle matrix elements\",s)"
   ]
  },
  {
   "cell_type": "code",
   "execution_count": 17,
   "id": "e69be998-c8e7-4b9d-9260-b670777d1c87",
   "metadata": {},
   "outputs": [
    {
     "name": "stdout",
     "output_type": "stream",
     "text": [
      "1 \n",
      "4 5 \n",
      "7 8 9 \n"
     ]
    }
   ],
   "source": [
    "#print lower triangle\n",
    "list1 = [[1,2,3],[4,5,6],[7,8,9]]\n",
    "for m in range(3):\n",
    "    for n in range(3):\n",
    "        if m>=n:\n",
    "            print(list1[m][n],end=' ')\n",
    "    print()"
   ]
  },
  {
   "cell_type": "code",
   "execution_count": 49,
   "id": "d30c8594-ffbf-49e6-b2b6-9c9cb656205b",
   "metadata": {},
   "outputs": [
    {
     "name": "stdout",
     "output_type": "stream",
     "text": [
      "1 2 3 \n",
      "5 6 \n",
      "9 \n"
     ]
    }
   ],
   "source": [
    "list1 = [[1,2,3],[4,5,6],[7,8,9]]\n",
    "for m in range(3):\n",
    "    for n in range(3):\n",
    "        if m<=n:\n",
    "            print(list1[m][n],end=' ')\n",
    "    print()"
   ]
  },
  {
   "cell_type": "code",
   "execution_count": 37,
   "id": "7c0e05fa-8b41-4032-879b-a47df69106ce",
   "metadata": {},
   "outputs": [
    {
     "name": "stdout",
     "output_type": "stream",
     "text": [
      "1 3 \n",
      "4 6 \n",
      "7 9 \n"
     ]
    }
   ],
   "source": [
    "list1 = [[1,2,3],[4,5,6],[7,8,9]]\n",
    "for m in range(3):\n",
    "    for n in range(3):\n",
    "        if n-1:\n",
    "            print(list1[m][n],end=' ')\n",
    "    print()"
   ]
  },
  {
   "cell_type": "code",
   "execution_count": 28,
   "id": "79351382-2ddc-4ca1-93cc-42f9c23eb8ef",
   "metadata": {},
   "outputs": [
    {
     "name": "stdout",
     "output_type": "stream",
     "text": [
      "Sum of reverse diagonal matrix elements 15\n"
     ]
    }
   ],
   "source": [
    "#reverse diagonal\n",
    "list1 = [[1,2,3],[4,5,6],[7,8,9]]\n",
    "s=0\n",
    "i=3\n",
    "for m in range(3):\n",
    "    for n in range(3):\n",
    "        if m+n==i-1:\n",
    "            s= s+list1[m][n]\n",
    "            \n",
    "print(\"Sum of reverse diagonal matrix elements\",s)"
   ]
  },
  {
   "cell_type": "code",
   "execution_count": 24,
   "id": "592b683a-72b7-4c75-960e-4443f2cc5053",
   "metadata": {},
   "outputs": [
    {
     "name": "stdout",
     "output_type": "stream",
     "text": [
      "1 2 3 \n",
      "  5 6 \n",
      "    9 \n"
     ]
    }
   ],
   "source": [
    "list1 = [[1,2,3],[4,5,6],[7,8,9]]\n",
    "for m in range(3):\n",
    "    for n in range(3):\n",
    "        if m<=n:\n",
    "            print(list1[m][n],end=' ')\n",
    "        else:\n",
    "            print(' ',end=' ')\n",
    "    print()"
   ]
  },
  {
   "cell_type": "code",
   "execution_count": 39,
   "id": "f96c12c8-3f91-4735-93f4-719e1df1363d",
   "metadata": {},
   "outputs": [
    {
     "name": "stdout",
     "output_type": "stream",
     "text": [
      "1     \n",
      "  5   \n",
      "    9 \n"
     ]
    }
   ],
   "source": [
    "list1 = [[1,2,3],[4,5,6],[7,8,9]]\n",
    "for m in range(3):\n",
    "    for n in range(3):\n",
    "        if m==n:\n",
    "            print(list1[m][n],end=' ')\n",
    "        else:\n",
    "            print(' ',end=' ')\n",
    "    print()"
   ]
  },
  {
   "cell_type": "code",
   "execution_count": 44,
   "id": "8b8095d8-1eff-4a46-876e-ecbd24164488",
   "metadata": {},
   "outputs": [
    {
     "name": "stdout",
     "output_type": "stream",
     "text": [
      "    3 \n",
      "  5   \n",
      "7     \n"
     ]
    }
   ],
   "source": [
    "list1 = [[1,2,3],[4,5,6],[7,8,9]]\n",
    "for m in range(3):\n",
    "    for n in range(3):\n",
    "        if m+n==i-1:\n",
    "            print(list1[m][n],end=' ')\n",
    "        else:\n",
    "            print(' ',end=' ')\n",
    "    print()"
   ]
  },
  {
   "cell_type": "code",
   "execution_count": null,
   "id": "0eb5279f-3a96-49c2-ac5e-c8d67f71b0f2",
   "metadata": {},
   "outputs": [],
   "source": [
    "+"
   ]
  }
 ],
 "metadata": {
  "kernelspec": {
   "display_name": "Python 3 (ipykernel)",
   "language": "python",
   "name": "python3"
  },
  "language_info": {
   "codemirror_mode": {
    "name": "ipython",
    "version": 3
   },
   "file_extension": ".py",
   "mimetype": "text/x-python",
   "name": "python",
   "nbconvert_exporter": "python",
   "pygments_lexer": "ipython3",
   "version": "3.13.2"
  }
 },
 "nbformat": 4,
 "nbformat_minor": 5
}
