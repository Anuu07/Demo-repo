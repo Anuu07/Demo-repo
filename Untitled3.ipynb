{
 "cells": [
  {
   "cell_type": "code",
   "execution_count": 7,
   "id": "bc7eeb5c-3902-4fba-9fa9-ba745794c800",
   "metadata": {},
   "outputs": [
    {
     "name": "stdout",
     "output_type": "stream",
     "text": [
      " VIsit my site at [LINK]\n"
     ]
    }
   ],
   "source": [
    "import re\n",
    "text = \" VIsit my site at http://example.com\"\n",
    "updated = re.sub(r'http://\\S+','[LINK]', text)\n",
    "print(updated)"
   ]
  },
  {
   "cell_type": "code",
   "execution_count": 9,
   "id": "71423438-7cfb-439f-9168-b15b065fbc77",
   "metadata": {},
   "outputs": [
    {
     "ename": "NameError",
     "evalue": "name 'fruits' is not defined",
     "output_type": "error",
     "traceback": [
      "\u001b[31m---------------------------------------------------------------------------\u001b[39m",
      "\u001b[31mNameError\u001b[39m                                 Traceback (most recent call last)",
      "\u001b[36mCell\u001b[39m\u001b[36m \u001b[39m\u001b[32mIn[9]\u001b[39m\u001b[32m, line 4\u001b[39m\n\u001b[32m      2\u001b[39m text = \u001b[33m\"\u001b[39m\u001b[33m apple,banana;grape,orange\u001b[39m\u001b[33m\"\u001b[39m\n\u001b[32m      3\u001b[39m updated = re.split(\u001b[33mr\u001b[39m\u001b[33m'\u001b[39m\u001b[33m[;,\u001b[39m\u001b[33m\\\u001b[39m\u001b[33ms]+\u001b[39m\u001b[33m'\u001b[39m, text)\n\u001b[32m----> \u001b[39m\u001b[32m4\u001b[39m \u001b[38;5;28mprint\u001b[39m(\u001b[43mfruits\u001b[49m)\n",
      "\u001b[31mNameError\u001b[39m: name 'fruits' is not defined"
     ]
    }
   ],
   "source": [
    "import re\n",
    "text = \" apple,banana;grape,orange\"\n",
    "updated = re.split(r'[;,\\s]+', text)\n",
    "print(fruits)"
   ]
  },
  {
   "cell_type": "code",
   "execution_count": 11,
   "id": "0e077263-5ed6-4f01-a71c-edd236fb23e6",
   "metadata": {},
   "outputs": [
    {
     "name": "stdout",
     "output_type": "stream",
     "text": [
      "45 at 13\n",
      "5 at 27\n"
     ]
    }
   ],
   "source": [
    "import re\n",
    "text = \"The price is 45 and tax is 5\"\n",
    "for match in re.finditer(r'\\d+',text):\n",
    "    print(match.group(),\"at\",match.start())"
   ]
  },
  {
   "cell_type": "code",
   "execution_count": 13,
   "id": "2f567e81-42e2-4aea-96db-f9db014ea184",
   "metadata": {},
   "outputs": [
    {
     "name": "stdout",
     "output_type": "stream",
     "text": [
      "['123', '456']\n"
     ]
    }
   ],
   "source": [
    "import re\n",
    "pattern = re.compile(r'\\d+')\n",
    "text = \"Order 123,Invoice 456\"\n",
    "results = pattern.findall(text)\n",
    "print(results)"
   ]
  },
  {
   "cell_type": "code",
   "execution_count": 14,
   "id": "6f7e14ae-af57-4d3a-93ac-057ba0f214bb",
   "metadata": {},
   "outputs": [
    {
     "name": "stdout",
     "output_type": "stream",
     "text": [
      "75\n",
      "7\n",
      "9\n",
      "(7, 9)\n"
     ]
    }
   ],
   "source": [
    "import re\n",
    "match = re.search(r'\\d+','Value: 75')\n",
    "print(match.group())\n",
    "print(match.start())\n",
    "print(match.end())\n",
    "print(match.span())"
   ]
  },
  {
   "cell_type": "code",
   "execution_count": 21,
   "id": "f4cc0382-be37-48a1-853f-74724418b9c2",
   "metadata": {},
   "outputs": [
    {
     "name": "stdout",
     "output_type": "stream",
     "text": [
      "Name: Sam\n",
      "Age: 30\n"
     ]
    }
   ],
   "source": [
    "import re\n",
    "\n",
    "text = \"Name: Sam, Age: 30\"\n",
    "match = re.search(r'Name: (\\w+), Age: (\\d+)', text)\n",
    "if match:\n",
    "    print(\"Name:\", match.group(1))\n",
    "    print(\"Age:\", match.group(2))\n",
    "else:\n",
    "    print(\"No match found\")\n"
   ]
  },
  {
   "cell_type": "code",
   "execution_count": null,
   "id": "a650eff8-c6d4-4de9-9744-3a871707f6e3",
   "metadata": {},
   "outputs": [],
   "source": []
  }
 ],
 "metadata": {
  "kernelspec": {
   "display_name": "Python 3 (ipykernel)",
   "language": "python",
   "name": "python3"
  },
  "language_info": {
   "codemirror_mode": {
    "name": "ipython",
    "version": 3
   },
   "file_extension": ".py",
   "mimetype": "text/x-python",
   "name": "python",
   "nbconvert_exporter": "python",
   "pygments_lexer": "ipython3",
   "version": "3.13.2"
  }
 },
 "nbformat": 4,
 "nbformat_minor": 5
}
