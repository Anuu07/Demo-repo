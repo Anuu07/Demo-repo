{
 "cells": [
  {
   "cell_type": "code",
   "execution_count": 1,
   "id": "dc38b660-32f3-4ddd-86f4-3f65087c8b24",
   "metadata": {},
   "outputs": [
    {
     "name": "stdout",
     "output_type": "stream",
     "text": [
      "Sorted array: [1, 3, 4, 5, 9]\n"
     ]
    }
   ],
   "source": [
    "def insertion_sort(a,n):\n",
    "    for i in range(1,n):\n",
    "        t=a[i]\n",
    "        k=i-1\n",
    "        while k>=0 and t<a[k]:\n",
    "            a[k+1] = a[k]\n",
    "            k -= 1\n",
    "        a[k + 1] = t\n",
    "a=[9,5,1,4,3]\n",
    "n=len(a)\n",
    "\n",
    "insertion_sort(a,n)\n",
    "print(\"Sorted array:\",a)"
   ]
  },
  {
   "cell_type": "code",
   "execution_count": null,
   "id": "f0b06568-255a-4026-87f5-921c4477ae7d",
   "metadata": {},
   "outputs": [],
   "source": []
  }
 ],
 "metadata": {
  "kernelspec": {
   "display_name": "Python 3 (ipykernel)",
   "language": "python",
   "name": "python3"
  },
  "language_info": {
   "codemirror_mode": {
    "name": "ipython",
    "version": 3
   },
   "file_extension": ".py",
   "mimetype": "text/x-python",
   "name": "python",
   "nbconvert_exporter": "python",
   "pygments_lexer": "ipython3",
   "version": "3.13.2"
  }
 },
 "nbformat": 4,
 "nbformat_minor": 5
}
